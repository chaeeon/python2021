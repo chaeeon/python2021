{
  "nbformat": 4,
  "nbformat_minor": 0,
  "metadata": {
    "colab": {
      "name": "pandas_02_dataframe.ipynb",
      "provenance": [],
      "collapsed_sections": [],
      "include_colab_link": true
    },
    "kernelspec": {
      "name": "python3",
      "display_name": "Python 3"
    },
    "language_info": {
      "name": "python"
    }
  },
  "cells": [
    {
      "cell_type": "markdown",
      "metadata": {
        "id": "view-in-github",
        "colab_type": "text"
      },
      "source": [
        "<a href=\"https://colab.research.google.com/github/chaeeon/python2021/blob/main/pandas_02_dataframe.ipynb\" target=\"_parent\"><img src=\"https://colab.research.google.com/assets/colab-badge.svg\" alt=\"Open In Colab\"/></a>"
      ]
    },
    {
      "cell_type": "markdown",
      "metadata": {
        "id": "c91S0nenHIgF"
      },
      "source": [
        "# **DataFrame**\n",
        "+ 2차원 자료구조인 DataFrame는 행과 열이 있는 테이블 데이터\n"
      ]
    },
    {
      "cell_type": "markdown",
      "metadata": {
        "id": "5PCO1T_6HkNU"
      },
      "source": [
        "## **pandas 라이브러리 추가**"
      ]
    },
    {
      "cell_type": "code",
      "metadata": {
        "id": "TRAkQWf2HhxB"
      },
      "source": [
        "import pandas as pd"
      ],
      "execution_count": 8,
      "outputs": []
    },
    {
      "cell_type": "code",
      "metadata": {
        "colab": {
          "base_uri": "https://localhost:8080/"
        },
        "id": "QdVzHe0IaF8P",
        "outputId": "c6f82f7f-f0a2-449e-da04-c0b634f29192"
      },
      "source": [
        "from google.colab import drive\n",
        "drive.mount('/content/drive')"
      ],
      "execution_count": 9,
      "outputs": [
        {
          "output_type": "stream",
          "text": [
            "Mounted at /content/drive\n"
          ],
          "name": "stdout"
        }
      ]
    },
    {
      "cell_type": "markdown",
      "metadata": {
        "id": "BApiG-yeJqIN"
      },
      "source": [
        "### 복습문제) \n",
        "다음 4개의 리스트를 이용하여 각 지역별 평균, 최대, 최소값 리스트를 값으로 가지는 딕션너라를 작성하시오.\n",
        "* 데이터참고:https://www.airkorea.or.kr/web/weekSearch?pMENU_NO=111\n",
        "```\n",
        "area = ['서울','부산','대구','인천','광주','대전','울산','세종','경기','강원','충북','충남','전북','전남','경북','경남','제주']\n",
        "pm25_avg = [20,13,15,20,19,16,14,18,20,14,19,23,23,14,15,13,14]\n",
        "pm25_max = [22,18,18,30,23,20,16,19,27,18,26,29,30,27,23,17,16]\n",
        "pm25_min = [16,10,11,12,15,12,11,17,13,9,14,19,14,10,8,9,11]\n",
        "```"
      ]
    },
    {
      "cell_type": "code",
      "metadata": {
        "id": "CIOZ77trF5l9"
      },
      "source": [
        "area = ['서울',\t'부산',\t'대구',\t'인천',\t'광주',\t'대전',\t'울산',\t'세종',\t'경기',\t'강원',\t'충북',\t'충남',\t'전북',\t'전남',\t'경북',\t'경남',\t'제주']\n",
        "pm25_avg = [20,13,15,20,19,16,14,18,20,14,19,23,23,14,15,13,14]\n",
        "pm25_max = [22,18,18,30,23,20,16,19,27,18,26,29,30,27,23,17,16]\n",
        "pm25_min = [16,10,11,12,15,12,11,17,13,9,14,19,14,10,8,9,11]"
      ],
      "execution_count": null,
      "outputs": []
    },
    {
      "cell_type": "code",
      "metadata": {
        "colab": {
          "base_uri": "https://localhost:8080/"
        },
        "id": "56YPxcaSbhUx",
        "outputId": "3ca20c72-c73c-49af-856d-9ed404f2405f"
      },
      "source": [
        "print(area)"
      ],
      "execution_count": null,
      "outputs": [
        {
          "output_type": "stream",
          "text": [
            "['서울', '부산', '대구', '인천', '광주', '대전', '울산', '세종', '경기', '강원', '충북', '충남', '전북', '전남', '경북', '경남', '제주']\n"
          ],
          "name": "stdout"
        }
      ]
    },
    {
      "cell_type": "markdown",
      "metadata": {
        "id": "gUzx35xJMkFR"
      },
      "source": [
        "## 데이터프레임으로 변환\n",
        "* **pd.DataFrame()**"
      ]
    },
    {
      "cell_type": "code",
      "metadata": {
        "id": "Nk7CgwRacIY_"
      },
      "source": [
        "import pandas as pd"
      ],
      "execution_count": null,
      "outputs": []
    },
    {
      "cell_type": "markdown",
      "metadata": {
        "id": "c1kVpPdfNRTZ"
      },
      "source": [
        "###  리스트를 데이터프레임으로 변환"
      ]
    },
    {
      "cell_type": "code",
      "metadata": {
        "id": "VVTw0bVSNedW",
        "colab": {
          "base_uri": "https://localhost:8080/",
          "height": 574
        },
        "outputId": "18de4ddb-7b37-4054-acc7-906b1bc7d14b"
      },
      "source": [
        "df = pd.DataFrame(area)\n",
        "df"
      ],
      "execution_count": null,
      "outputs": [
        {
          "output_type": "execute_result",
          "data": {
            "text/html": [
              "<div>\n",
              "<style scoped>\n",
              "    .dataframe tbody tr th:only-of-type {\n",
              "        vertical-align: middle;\n",
              "    }\n",
              "\n",
              "    .dataframe tbody tr th {\n",
              "        vertical-align: top;\n",
              "    }\n",
              "\n",
              "    .dataframe thead th {\n",
              "        text-align: right;\n",
              "    }\n",
              "</style>\n",
              "<table border=\"1\" class=\"dataframe\">\n",
              "  <thead>\n",
              "    <tr style=\"text-align: right;\">\n",
              "      <th></th>\n",
              "      <th>0</th>\n",
              "    </tr>\n",
              "  </thead>\n",
              "  <tbody>\n",
              "    <tr>\n",
              "      <th>0</th>\n",
              "      <td>서울</td>\n",
              "    </tr>\n",
              "    <tr>\n",
              "      <th>1</th>\n",
              "      <td>부산</td>\n",
              "    </tr>\n",
              "    <tr>\n",
              "      <th>2</th>\n",
              "      <td>대구</td>\n",
              "    </tr>\n",
              "    <tr>\n",
              "      <th>3</th>\n",
              "      <td>인천</td>\n",
              "    </tr>\n",
              "    <tr>\n",
              "      <th>4</th>\n",
              "      <td>광주</td>\n",
              "    </tr>\n",
              "    <tr>\n",
              "      <th>5</th>\n",
              "      <td>대전</td>\n",
              "    </tr>\n",
              "    <tr>\n",
              "      <th>6</th>\n",
              "      <td>울산</td>\n",
              "    </tr>\n",
              "    <tr>\n",
              "      <th>7</th>\n",
              "      <td>세종</td>\n",
              "    </tr>\n",
              "    <tr>\n",
              "      <th>8</th>\n",
              "      <td>경기</td>\n",
              "    </tr>\n",
              "    <tr>\n",
              "      <th>9</th>\n",
              "      <td>강원</td>\n",
              "    </tr>\n",
              "    <tr>\n",
              "      <th>10</th>\n",
              "      <td>충북</td>\n",
              "    </tr>\n",
              "    <tr>\n",
              "      <th>11</th>\n",
              "      <td>충남</td>\n",
              "    </tr>\n",
              "    <tr>\n",
              "      <th>12</th>\n",
              "      <td>전북</td>\n",
              "    </tr>\n",
              "    <tr>\n",
              "      <th>13</th>\n",
              "      <td>전남</td>\n",
              "    </tr>\n",
              "    <tr>\n",
              "      <th>14</th>\n",
              "      <td>경북</td>\n",
              "    </tr>\n",
              "    <tr>\n",
              "      <th>15</th>\n",
              "      <td>경남</td>\n",
              "    </tr>\n",
              "    <tr>\n",
              "      <th>16</th>\n",
              "      <td>제주</td>\n",
              "    </tr>\n",
              "  </tbody>\n",
              "</table>\n",
              "</div>"
            ],
            "text/plain": [
              "     0\n",
              "0   서울\n",
              "1   부산\n",
              "2   대구\n",
              "3   인천\n",
              "4   광주\n",
              "5   대전\n",
              "6   울산\n",
              "7   세종\n",
              "8   경기\n",
              "9   강원\n",
              "10  충북\n",
              "11  충남\n",
              "12  전북\n",
              "13  전남\n",
              "14  경북\n",
              "15  경남\n",
              "16  제주"
            ]
          },
          "metadata": {
            "tags": []
          },
          "execution_count": 8
        }
      ]
    },
    {
      "cell_type": "code",
      "metadata": {
        "colab": {
          "base_uri": "https://localhost:8080/"
        },
        "id": "CTaLbhw2cPK3",
        "outputId": "7298a7a6-cfb9-4f80-e59d-8f1cfb1fffd3"
      },
      "source": [
        "df = pd.DataFrame(area)\n",
        "print(df , type(df))"
      ],
      "execution_count": null,
      "outputs": [
        {
          "output_type": "stream",
          "text": [
            "     0\n",
            "0   서울\n",
            "1   부산\n",
            "2   대구\n",
            "3   인천\n",
            "4   광주\n",
            "5   대전\n",
            "6   울산\n",
            "7   세종\n",
            "8   경기\n",
            "9   강원\n",
            "10  충북\n",
            "11  충남\n",
            "12  전북\n",
            "13  전남\n",
            "14  경북\n",
            "15  경남\n",
            "16  제주 <class 'pandas.core.frame.DataFrame'>\n"
          ],
          "name": "stdout"
        }
      ]
    },
    {
      "cell_type": "code",
      "metadata": {
        "colab": {
          "base_uri": "https://localhost:8080/",
          "height": 574
        },
        "id": "juoyjSNLcoKS",
        "outputId": "d3de4196-c0bc-4f5e-8766-06962d7bb3b2"
      },
      "source": [
        "df"
      ],
      "execution_count": null,
      "outputs": [
        {
          "output_type": "execute_result",
          "data": {
            "text/html": [
              "<div>\n",
              "<style scoped>\n",
              "    .dataframe tbody tr th:only-of-type {\n",
              "        vertical-align: middle;\n",
              "    }\n",
              "\n",
              "    .dataframe tbody tr th {\n",
              "        vertical-align: top;\n",
              "    }\n",
              "\n",
              "    .dataframe thead th {\n",
              "        text-align: right;\n",
              "    }\n",
              "</style>\n",
              "<table border=\"1\" class=\"dataframe\">\n",
              "  <thead>\n",
              "    <tr style=\"text-align: right;\">\n",
              "      <th></th>\n",
              "      <th>0</th>\n",
              "    </tr>\n",
              "  </thead>\n",
              "  <tbody>\n",
              "    <tr>\n",
              "      <th>0</th>\n",
              "      <td>서울</td>\n",
              "    </tr>\n",
              "    <tr>\n",
              "      <th>1</th>\n",
              "      <td>부산</td>\n",
              "    </tr>\n",
              "    <tr>\n",
              "      <th>2</th>\n",
              "      <td>대구</td>\n",
              "    </tr>\n",
              "    <tr>\n",
              "      <th>3</th>\n",
              "      <td>인천</td>\n",
              "    </tr>\n",
              "    <tr>\n",
              "      <th>4</th>\n",
              "      <td>광주</td>\n",
              "    </tr>\n",
              "    <tr>\n",
              "      <th>5</th>\n",
              "      <td>대전</td>\n",
              "    </tr>\n",
              "    <tr>\n",
              "      <th>6</th>\n",
              "      <td>울산</td>\n",
              "    </tr>\n",
              "    <tr>\n",
              "      <th>7</th>\n",
              "      <td>세종</td>\n",
              "    </tr>\n",
              "    <tr>\n",
              "      <th>8</th>\n",
              "      <td>경기</td>\n",
              "    </tr>\n",
              "    <tr>\n",
              "      <th>9</th>\n",
              "      <td>강원</td>\n",
              "    </tr>\n",
              "    <tr>\n",
              "      <th>10</th>\n",
              "      <td>충북</td>\n",
              "    </tr>\n",
              "    <tr>\n",
              "      <th>11</th>\n",
              "      <td>충남</td>\n",
              "    </tr>\n",
              "    <tr>\n",
              "      <th>12</th>\n",
              "      <td>전북</td>\n",
              "    </tr>\n",
              "    <tr>\n",
              "      <th>13</th>\n",
              "      <td>전남</td>\n",
              "    </tr>\n",
              "    <tr>\n",
              "      <th>14</th>\n",
              "      <td>경북</td>\n",
              "    </tr>\n",
              "    <tr>\n",
              "      <th>15</th>\n",
              "      <td>경남</td>\n",
              "    </tr>\n",
              "    <tr>\n",
              "      <th>16</th>\n",
              "      <td>제주</td>\n",
              "    </tr>\n",
              "  </tbody>\n",
              "</table>\n",
              "</div>"
            ],
            "text/plain": [
              "     0\n",
              "0   서울\n",
              "1   부산\n",
              "2   대구\n",
              "3   인천\n",
              "4   광주\n",
              "5   대전\n",
              "6   울산\n",
              "7   세종\n",
              "8   경기\n",
              "9   강원\n",
              "10  충북\n",
              "11  충남\n",
              "12  전북\n",
              "13  전남\n",
              "14  경북\n",
              "15  경남\n",
              "16  제주"
            ]
          },
          "metadata": {
            "tags": []
          },
          "execution_count": 11
        }
      ]
    },
    {
      "cell_type": "code",
      "metadata": {
        "colab": {
          "base_uri": "https://localhost:8080/",
          "height": 574
        },
        "id": "5aY5l2Uzc8M3",
        "outputId": "e8994459-59f9-4f98-97ec-dccc4a3df225"
      },
      "source": [
        "df['평균'] = pm25_avg \n",
        "df['최대'] = pm25_max\n",
        "df['최소'] = pm25_min\n",
        "df"
      ],
      "execution_count": null,
      "outputs": [
        {
          "output_type": "execute_result",
          "data": {
            "text/html": [
              "<div>\n",
              "<style scoped>\n",
              "    .dataframe tbody tr th:only-of-type {\n",
              "        vertical-align: middle;\n",
              "    }\n",
              "\n",
              "    .dataframe tbody tr th {\n",
              "        vertical-align: top;\n",
              "    }\n",
              "\n",
              "    .dataframe thead th {\n",
              "        text-align: right;\n",
              "    }\n",
              "</style>\n",
              "<table border=\"1\" class=\"dataframe\">\n",
              "  <thead>\n",
              "    <tr style=\"text-align: right;\">\n",
              "      <th></th>\n",
              "      <th>0</th>\n",
              "      <th>평균</th>\n",
              "      <th>최대</th>\n",
              "      <th>최소</th>\n",
              "    </tr>\n",
              "  </thead>\n",
              "  <tbody>\n",
              "    <tr>\n",
              "      <th>0</th>\n",
              "      <td>서울</td>\n",
              "      <td>20</td>\n",
              "      <td>22</td>\n",
              "      <td>16</td>\n",
              "    </tr>\n",
              "    <tr>\n",
              "      <th>1</th>\n",
              "      <td>부산</td>\n",
              "      <td>13</td>\n",
              "      <td>18</td>\n",
              "      <td>10</td>\n",
              "    </tr>\n",
              "    <tr>\n",
              "      <th>2</th>\n",
              "      <td>대구</td>\n",
              "      <td>15</td>\n",
              "      <td>18</td>\n",
              "      <td>11</td>\n",
              "    </tr>\n",
              "    <tr>\n",
              "      <th>3</th>\n",
              "      <td>인천</td>\n",
              "      <td>20</td>\n",
              "      <td>30</td>\n",
              "      <td>12</td>\n",
              "    </tr>\n",
              "    <tr>\n",
              "      <th>4</th>\n",
              "      <td>광주</td>\n",
              "      <td>19</td>\n",
              "      <td>23</td>\n",
              "      <td>15</td>\n",
              "    </tr>\n",
              "    <tr>\n",
              "      <th>5</th>\n",
              "      <td>대전</td>\n",
              "      <td>16</td>\n",
              "      <td>20</td>\n",
              "      <td>12</td>\n",
              "    </tr>\n",
              "    <tr>\n",
              "      <th>6</th>\n",
              "      <td>울산</td>\n",
              "      <td>14</td>\n",
              "      <td>16</td>\n",
              "      <td>11</td>\n",
              "    </tr>\n",
              "    <tr>\n",
              "      <th>7</th>\n",
              "      <td>세종</td>\n",
              "      <td>18</td>\n",
              "      <td>19</td>\n",
              "      <td>17</td>\n",
              "    </tr>\n",
              "    <tr>\n",
              "      <th>8</th>\n",
              "      <td>경기</td>\n",
              "      <td>20</td>\n",
              "      <td>27</td>\n",
              "      <td>13</td>\n",
              "    </tr>\n",
              "    <tr>\n",
              "      <th>9</th>\n",
              "      <td>강원</td>\n",
              "      <td>14</td>\n",
              "      <td>18</td>\n",
              "      <td>9</td>\n",
              "    </tr>\n",
              "    <tr>\n",
              "      <th>10</th>\n",
              "      <td>충북</td>\n",
              "      <td>19</td>\n",
              "      <td>26</td>\n",
              "      <td>14</td>\n",
              "    </tr>\n",
              "    <tr>\n",
              "      <th>11</th>\n",
              "      <td>충남</td>\n",
              "      <td>23</td>\n",
              "      <td>29</td>\n",
              "      <td>19</td>\n",
              "    </tr>\n",
              "    <tr>\n",
              "      <th>12</th>\n",
              "      <td>전북</td>\n",
              "      <td>23</td>\n",
              "      <td>30</td>\n",
              "      <td>14</td>\n",
              "    </tr>\n",
              "    <tr>\n",
              "      <th>13</th>\n",
              "      <td>전남</td>\n",
              "      <td>14</td>\n",
              "      <td>27</td>\n",
              "      <td>10</td>\n",
              "    </tr>\n",
              "    <tr>\n",
              "      <th>14</th>\n",
              "      <td>경북</td>\n",
              "      <td>15</td>\n",
              "      <td>23</td>\n",
              "      <td>8</td>\n",
              "    </tr>\n",
              "    <tr>\n",
              "      <th>15</th>\n",
              "      <td>경남</td>\n",
              "      <td>13</td>\n",
              "      <td>17</td>\n",
              "      <td>9</td>\n",
              "    </tr>\n",
              "    <tr>\n",
              "      <th>16</th>\n",
              "      <td>제주</td>\n",
              "      <td>14</td>\n",
              "      <td>16</td>\n",
              "      <td>11</td>\n",
              "    </tr>\n",
              "  </tbody>\n",
              "</table>\n",
              "</div>"
            ],
            "text/plain": [
              "     0  평균  최대  최소\n",
              "0   서울  20  22  16\n",
              "1   부산  13  18  10\n",
              "2   대구  15  18  11\n",
              "3   인천  20  30  12\n",
              "4   광주  19  23  15\n",
              "5   대전  16  20  12\n",
              "6   울산  14  16  11\n",
              "7   세종  18  19  17\n",
              "8   경기  20  27  13\n",
              "9   강원  14  18   9\n",
              "10  충북  19  26  14\n",
              "11  충남  23  29  19\n",
              "12  전북  23  30  14\n",
              "13  전남  14  27  10\n",
              "14  경북  15  23   8\n",
              "15  경남  13  17   9\n",
              "16  제주  14  16  11"
            ]
          },
          "metadata": {
            "tags": []
          },
          "execution_count": 12
        }
      ]
    },
    {
      "cell_type": "markdown",
      "metadata": {
        "id": "CR5LSrBWNMD0"
      },
      "source": [
        "### 딕션너리를 데이터프레임으로 변환\n",
        "* 딕션너리 키 : 열(column)\n",
        "* 딕션너리 값 : 행(row)"
      ]
    },
    {
      "cell_type": "code",
      "metadata": {
        "id": "y1UZnc4gMjNV"
      },
      "source": [
        "df = pd.DataFrame(dt)\n",
        "df"
      ],
      "execution_count": null,
      "outputs": []
    },
    {
      "cell_type": "code",
      "metadata": {
        "id": "NQ-xNDueoZsm"
      },
      "source": [
        "df = pd.DataFrame()\n",
        "df['area'] = area\n",
        "df['avg'] = pm25_avg\n",
        "df['max'] = pm25_max\n",
        "df['min'] = pm25_min\n",
        "df"
      ],
      "execution_count": null,
      "outputs": []
    },
    {
      "cell_type": "code",
      "metadata": {
        "colab": {
          "base_uri": "https://localhost:8080/",
          "height": 612
        },
        "id": "UbMfIt9CdmVD",
        "outputId": "09dc1507-97d6-4627-fbc0-ca021f7f955a"
      },
      "source": [
        "temp = list(zip(area,pm25_avg,pm25_max,pm25_min))\n",
        "print(temp) \n",
        "df2 = pd.DataFrame(temp)\n",
        "df2.columns = ['area', 'avg', 'max', 'min']\n",
        "df2"
      ],
      "execution_count": null,
      "outputs": [
        {
          "output_type": "stream",
          "text": [
            "[('서울', 20, 22, 16), ('부산', 13, 18, 10), ('대구', 15, 18, 11), ('인천', 20, 30, 12), ('광주', 19, 23, 15), ('대전', 16, 20, 12), ('울산', 14, 16, 11), ('세종', 18, 19, 17), ('경기', 20, 27, 13), ('강원', 14, 18, 9), ('충북', 19, 26, 14), ('충남', 23, 29, 19), ('전북', 23, 30, 14), ('전남', 14, 27, 10), ('경북', 15, 23, 8), ('경남', 13, 17, 9), ('제주', 14, 16, 11)]\n"
          ],
          "name": "stdout"
        },
        {
          "output_type": "execute_result",
          "data": {
            "text/html": [
              "<div>\n",
              "<style scoped>\n",
              "    .dataframe tbody tr th:only-of-type {\n",
              "        vertical-align: middle;\n",
              "    }\n",
              "\n",
              "    .dataframe tbody tr th {\n",
              "        vertical-align: top;\n",
              "    }\n",
              "\n",
              "    .dataframe thead th {\n",
              "        text-align: right;\n",
              "    }\n",
              "</style>\n",
              "<table border=\"1\" class=\"dataframe\">\n",
              "  <thead>\n",
              "    <tr style=\"text-align: right;\">\n",
              "      <th></th>\n",
              "      <th>area</th>\n",
              "      <th>avg</th>\n",
              "      <th>max</th>\n",
              "      <th>min</th>\n",
              "    </tr>\n",
              "  </thead>\n",
              "  <tbody>\n",
              "    <tr>\n",
              "      <th>0</th>\n",
              "      <td>서울</td>\n",
              "      <td>20</td>\n",
              "      <td>22</td>\n",
              "      <td>16</td>\n",
              "    </tr>\n",
              "    <tr>\n",
              "      <th>1</th>\n",
              "      <td>부산</td>\n",
              "      <td>13</td>\n",
              "      <td>18</td>\n",
              "      <td>10</td>\n",
              "    </tr>\n",
              "    <tr>\n",
              "      <th>2</th>\n",
              "      <td>대구</td>\n",
              "      <td>15</td>\n",
              "      <td>18</td>\n",
              "      <td>11</td>\n",
              "    </tr>\n",
              "    <tr>\n",
              "      <th>3</th>\n",
              "      <td>인천</td>\n",
              "      <td>20</td>\n",
              "      <td>30</td>\n",
              "      <td>12</td>\n",
              "    </tr>\n",
              "    <tr>\n",
              "      <th>4</th>\n",
              "      <td>광주</td>\n",
              "      <td>19</td>\n",
              "      <td>23</td>\n",
              "      <td>15</td>\n",
              "    </tr>\n",
              "    <tr>\n",
              "      <th>5</th>\n",
              "      <td>대전</td>\n",
              "      <td>16</td>\n",
              "      <td>20</td>\n",
              "      <td>12</td>\n",
              "    </tr>\n",
              "    <tr>\n",
              "      <th>6</th>\n",
              "      <td>울산</td>\n",
              "      <td>14</td>\n",
              "      <td>16</td>\n",
              "      <td>11</td>\n",
              "    </tr>\n",
              "    <tr>\n",
              "      <th>7</th>\n",
              "      <td>세종</td>\n",
              "      <td>18</td>\n",
              "      <td>19</td>\n",
              "      <td>17</td>\n",
              "    </tr>\n",
              "    <tr>\n",
              "      <th>8</th>\n",
              "      <td>경기</td>\n",
              "      <td>20</td>\n",
              "      <td>27</td>\n",
              "      <td>13</td>\n",
              "    </tr>\n",
              "    <tr>\n",
              "      <th>9</th>\n",
              "      <td>강원</td>\n",
              "      <td>14</td>\n",
              "      <td>18</td>\n",
              "      <td>9</td>\n",
              "    </tr>\n",
              "    <tr>\n",
              "      <th>10</th>\n",
              "      <td>충북</td>\n",
              "      <td>19</td>\n",
              "      <td>26</td>\n",
              "      <td>14</td>\n",
              "    </tr>\n",
              "    <tr>\n",
              "      <th>11</th>\n",
              "      <td>충남</td>\n",
              "      <td>23</td>\n",
              "      <td>29</td>\n",
              "      <td>19</td>\n",
              "    </tr>\n",
              "    <tr>\n",
              "      <th>12</th>\n",
              "      <td>전북</td>\n",
              "      <td>23</td>\n",
              "      <td>30</td>\n",
              "      <td>14</td>\n",
              "    </tr>\n",
              "    <tr>\n",
              "      <th>13</th>\n",
              "      <td>전남</td>\n",
              "      <td>14</td>\n",
              "      <td>27</td>\n",
              "      <td>10</td>\n",
              "    </tr>\n",
              "    <tr>\n",
              "      <th>14</th>\n",
              "      <td>경북</td>\n",
              "      <td>15</td>\n",
              "      <td>23</td>\n",
              "      <td>8</td>\n",
              "    </tr>\n",
              "    <tr>\n",
              "      <th>15</th>\n",
              "      <td>경남</td>\n",
              "      <td>13</td>\n",
              "      <td>17</td>\n",
              "      <td>9</td>\n",
              "    </tr>\n",
              "    <tr>\n",
              "      <th>16</th>\n",
              "      <td>제주</td>\n",
              "      <td>14</td>\n",
              "      <td>16</td>\n",
              "      <td>11</td>\n",
              "    </tr>\n",
              "  </tbody>\n",
              "</table>\n",
              "</div>"
            ],
            "text/plain": [
              "   area  avg  max  min\n",
              "0    서울   20   22   16\n",
              "1    부산   13   18   10\n",
              "2    대구   15   18   11\n",
              "3    인천   20   30   12\n",
              "4    광주   19   23   15\n",
              "5    대전   16   20   12\n",
              "6    울산   14   16   11\n",
              "7    세종   18   19   17\n",
              "8    경기   20   27   13\n",
              "9    강원   14   18    9\n",
              "10   충북   19   26   14\n",
              "11   충남   23   29   19\n",
              "12   전북   23   30   14\n",
              "13   전남   14   27   10\n",
              "14   경북   15   23    8\n",
              "15   경남   13   17    9\n",
              "16   제주   14   16   11"
            ]
          },
          "metadata": {
            "tags": []
          },
          "execution_count": 17
        }
      ]
    },
    {
      "cell_type": "code",
      "metadata": {
        "id": "sZorXYsOpO6p",
        "colab": {
          "base_uri": "https://localhost:8080/",
          "height": 574
        },
        "outputId": "6fce1e37-0b74-43c4-b486-1ebb5a10d78b"
      },
      "source": [
        "dtz = list(zip(area,pm25_avg,pm25_max,pm25_min ))\n",
        "\n",
        "df = pd.DataFrame(dtz)\n",
        "df.columns = ['area', 'avg', 'max', 'min']\n",
        "df"
      ],
      "execution_count": null,
      "outputs": [
        {
          "output_type": "execute_result",
          "data": {
            "text/html": [
              "<div>\n",
              "<style scoped>\n",
              "    .dataframe tbody tr th:only-of-type {\n",
              "        vertical-align: middle;\n",
              "    }\n",
              "\n",
              "    .dataframe tbody tr th {\n",
              "        vertical-align: top;\n",
              "    }\n",
              "\n",
              "    .dataframe thead th {\n",
              "        text-align: right;\n",
              "    }\n",
              "</style>\n",
              "<table border=\"1\" class=\"dataframe\">\n",
              "  <thead>\n",
              "    <tr style=\"text-align: right;\">\n",
              "      <th></th>\n",
              "      <th>area</th>\n",
              "      <th>avg</th>\n",
              "      <th>max</th>\n",
              "      <th>min</th>\n",
              "    </tr>\n",
              "  </thead>\n",
              "  <tbody>\n",
              "    <tr>\n",
              "      <th>0</th>\n",
              "      <td>서울</td>\n",
              "      <td>20</td>\n",
              "      <td>22</td>\n",
              "      <td>16</td>\n",
              "    </tr>\n",
              "    <tr>\n",
              "      <th>1</th>\n",
              "      <td>부산</td>\n",
              "      <td>13</td>\n",
              "      <td>18</td>\n",
              "      <td>10</td>\n",
              "    </tr>\n",
              "    <tr>\n",
              "      <th>2</th>\n",
              "      <td>대구</td>\n",
              "      <td>15</td>\n",
              "      <td>18</td>\n",
              "      <td>11</td>\n",
              "    </tr>\n",
              "    <tr>\n",
              "      <th>3</th>\n",
              "      <td>인천</td>\n",
              "      <td>20</td>\n",
              "      <td>30</td>\n",
              "      <td>12</td>\n",
              "    </tr>\n",
              "    <tr>\n",
              "      <th>4</th>\n",
              "      <td>광주</td>\n",
              "      <td>19</td>\n",
              "      <td>23</td>\n",
              "      <td>15</td>\n",
              "    </tr>\n",
              "    <tr>\n",
              "      <th>5</th>\n",
              "      <td>대전</td>\n",
              "      <td>16</td>\n",
              "      <td>20</td>\n",
              "      <td>12</td>\n",
              "    </tr>\n",
              "    <tr>\n",
              "      <th>6</th>\n",
              "      <td>울산</td>\n",
              "      <td>14</td>\n",
              "      <td>16</td>\n",
              "      <td>11</td>\n",
              "    </tr>\n",
              "    <tr>\n",
              "      <th>7</th>\n",
              "      <td>세종</td>\n",
              "      <td>18</td>\n",
              "      <td>19</td>\n",
              "      <td>17</td>\n",
              "    </tr>\n",
              "    <tr>\n",
              "      <th>8</th>\n",
              "      <td>경기</td>\n",
              "      <td>20</td>\n",
              "      <td>27</td>\n",
              "      <td>13</td>\n",
              "    </tr>\n",
              "    <tr>\n",
              "      <th>9</th>\n",
              "      <td>강원</td>\n",
              "      <td>14</td>\n",
              "      <td>18</td>\n",
              "      <td>9</td>\n",
              "    </tr>\n",
              "    <tr>\n",
              "      <th>10</th>\n",
              "      <td>충북</td>\n",
              "      <td>19</td>\n",
              "      <td>26</td>\n",
              "      <td>14</td>\n",
              "    </tr>\n",
              "    <tr>\n",
              "      <th>11</th>\n",
              "      <td>충남</td>\n",
              "      <td>23</td>\n",
              "      <td>29</td>\n",
              "      <td>19</td>\n",
              "    </tr>\n",
              "    <tr>\n",
              "      <th>12</th>\n",
              "      <td>전북</td>\n",
              "      <td>23</td>\n",
              "      <td>30</td>\n",
              "      <td>14</td>\n",
              "    </tr>\n",
              "    <tr>\n",
              "      <th>13</th>\n",
              "      <td>전남</td>\n",
              "      <td>14</td>\n",
              "      <td>27</td>\n",
              "      <td>10</td>\n",
              "    </tr>\n",
              "    <tr>\n",
              "      <th>14</th>\n",
              "      <td>경북</td>\n",
              "      <td>15</td>\n",
              "      <td>23</td>\n",
              "      <td>8</td>\n",
              "    </tr>\n",
              "    <tr>\n",
              "      <th>15</th>\n",
              "      <td>경남</td>\n",
              "      <td>13</td>\n",
              "      <td>17</td>\n",
              "      <td>9</td>\n",
              "    </tr>\n",
              "    <tr>\n",
              "      <th>16</th>\n",
              "      <td>제주</td>\n",
              "      <td>14</td>\n",
              "      <td>16</td>\n",
              "      <td>11</td>\n",
              "    </tr>\n",
              "  </tbody>\n",
              "</table>\n",
              "</div>"
            ],
            "text/plain": [
              "   area  avg  max  min\n",
              "0    서울   20   22   16\n",
              "1    부산   13   18   10\n",
              "2    대구   15   18   11\n",
              "3    인천   20   30   12\n",
              "4    광주   19   23   15\n",
              "5    대전   16   20   12\n",
              "6    울산   14   16   11\n",
              "7    세종   18   19   17\n",
              "8    경기   20   27   13\n",
              "9    강원   14   18    9\n",
              "10   충북   19   26   14\n",
              "11   충남   23   29   19\n",
              "12   전북   23   30   14\n",
              "13   전남   14   27   10\n",
              "14   경북   15   23    8\n",
              "15   경남   13   17    9\n",
              "16   제주   14   16   11"
            ]
          },
          "metadata": {
            "tags": []
          },
          "execution_count": 18
        }
      ]
    },
    {
      "cell_type": "markdown",
      "metadata": {
        "id": "JS_gxUnAOHSE"
      },
      "source": [
        "## 외부 데이터 가져오기\n",
        "+ csv 읽기\n",
        " - 한글 파일명을 사용할 경우 : df = pd.read_csv(‘파일명‘, engine='python')\n",
        " - 파일 내용 한글이 깨지는 경우 : df = pd.read_csv(‘파일명‘, engine='python', encoding='cp949')\n",
        ">\n",
        "```\n",
        "df = pd.read_csv(‘파일명‘)\n",
        "```\n",
        "\n",
        "+ 엑셀 읽기\n",
        " - 한글 파일명을 사용할 경우 : df = pd.read_excel(‘파일명‘)\n",
        ">\n",
        "```\n",
        "df = pd.pd.read_excel(‘파일명‘)\n",
        "```"
      ]
    },
    {
      "cell_type": "code",
      "metadata": {
        "id": "rgf7xNS2Owfw",
        "colab": {
          "base_uri": "https://localhost:8080/",
          "height": 574
        },
        "outputId": "7619e3b1-8026-4851-cdcb-5b7a505c8d27"
      },
      "source": [
        "#지역별주간별_초미세먼지.csv 가져오기 \n",
        "df = pd.read_csv('/content/drive/MyDrive/파이썬특강/python2021/data/지역별주간별_초미세먼지.csv', engine='python', encoding='cp949')\n",
        "df"
      ],
      "execution_count": null,
      "outputs": [
        {
          "output_type": "execute_result",
          "data": {
            "text/html": [
              "<div>\n",
              "<style scoped>\n",
              "    .dataframe tbody tr th:only-of-type {\n",
              "        vertical-align: middle;\n",
              "    }\n",
              "\n",
              "    .dataframe tbody tr th {\n",
              "        vertical-align: top;\n",
              "    }\n",
              "\n",
              "    .dataframe thead th {\n",
              "        text-align: right;\n",
              "    }\n",
              "</style>\n",
              "<table border=\"1\" class=\"dataframe\">\n",
              "  <thead>\n",
              "    <tr style=\"text-align: right;\">\n",
              "      <th></th>\n",
              "      <th>지역</th>\n",
              "      <th>주간평균</th>\n",
              "      <th>최고값</th>\n",
              "      <th>최저값</th>\n",
              "    </tr>\n",
              "  </thead>\n",
              "  <tbody>\n",
              "    <tr>\n",
              "      <th>0</th>\n",
              "      <td>서울</td>\n",
              "      <td>20</td>\n",
              "      <td>22</td>\n",
              "      <td>16</td>\n",
              "    </tr>\n",
              "    <tr>\n",
              "      <th>1</th>\n",
              "      <td>부산</td>\n",
              "      <td>13</td>\n",
              "      <td>18</td>\n",
              "      <td>10</td>\n",
              "    </tr>\n",
              "    <tr>\n",
              "      <th>2</th>\n",
              "      <td>대구</td>\n",
              "      <td>15</td>\n",
              "      <td>18</td>\n",
              "      <td>11</td>\n",
              "    </tr>\n",
              "    <tr>\n",
              "      <th>3</th>\n",
              "      <td>인천</td>\n",
              "      <td>20</td>\n",
              "      <td>30</td>\n",
              "      <td>12</td>\n",
              "    </tr>\n",
              "    <tr>\n",
              "      <th>4</th>\n",
              "      <td>광주</td>\n",
              "      <td>19</td>\n",
              "      <td>23</td>\n",
              "      <td>15</td>\n",
              "    </tr>\n",
              "    <tr>\n",
              "      <th>5</th>\n",
              "      <td>대전</td>\n",
              "      <td>16</td>\n",
              "      <td>20</td>\n",
              "      <td>12</td>\n",
              "    </tr>\n",
              "    <tr>\n",
              "      <th>6</th>\n",
              "      <td>울산</td>\n",
              "      <td>14</td>\n",
              "      <td>16</td>\n",
              "      <td>11</td>\n",
              "    </tr>\n",
              "    <tr>\n",
              "      <th>7</th>\n",
              "      <td>세종</td>\n",
              "      <td>18</td>\n",
              "      <td>19</td>\n",
              "      <td>17</td>\n",
              "    </tr>\n",
              "    <tr>\n",
              "      <th>8</th>\n",
              "      <td>경기</td>\n",
              "      <td>20</td>\n",
              "      <td>27</td>\n",
              "      <td>13</td>\n",
              "    </tr>\n",
              "    <tr>\n",
              "      <th>9</th>\n",
              "      <td>강원</td>\n",
              "      <td>14</td>\n",
              "      <td>18</td>\n",
              "      <td>9</td>\n",
              "    </tr>\n",
              "    <tr>\n",
              "      <th>10</th>\n",
              "      <td>충북</td>\n",
              "      <td>19</td>\n",
              "      <td>26</td>\n",
              "      <td>14</td>\n",
              "    </tr>\n",
              "    <tr>\n",
              "      <th>11</th>\n",
              "      <td>충남</td>\n",
              "      <td>23</td>\n",
              "      <td>29</td>\n",
              "      <td>19</td>\n",
              "    </tr>\n",
              "    <tr>\n",
              "      <th>12</th>\n",
              "      <td>전북</td>\n",
              "      <td>23</td>\n",
              "      <td>30</td>\n",
              "      <td>14</td>\n",
              "    </tr>\n",
              "    <tr>\n",
              "      <th>13</th>\n",
              "      <td>전남</td>\n",
              "      <td>14</td>\n",
              "      <td>27</td>\n",
              "      <td>10</td>\n",
              "    </tr>\n",
              "    <tr>\n",
              "      <th>14</th>\n",
              "      <td>경북</td>\n",
              "      <td>15</td>\n",
              "      <td>23</td>\n",
              "      <td>8</td>\n",
              "    </tr>\n",
              "    <tr>\n",
              "      <th>15</th>\n",
              "      <td>경남</td>\n",
              "      <td>13</td>\n",
              "      <td>17</td>\n",
              "      <td>9</td>\n",
              "    </tr>\n",
              "    <tr>\n",
              "      <th>16</th>\n",
              "      <td>제주</td>\n",
              "      <td>14</td>\n",
              "      <td>16</td>\n",
              "      <td>11</td>\n",
              "    </tr>\n",
              "  </tbody>\n",
              "</table>\n",
              "</div>"
            ],
            "text/plain": [
              "   지역   주간평균   최고값   최저값 \n",
              "0   서울     20    22    16\n",
              "1   부산     13    18    10\n",
              "2   대구     15    18    11\n",
              "3   인천     20    30    12\n",
              "4   광주     19    23    15\n",
              "5   대전     16    20    12\n",
              "6   울산     14    16    11\n",
              "7   세종     18    19    17\n",
              "8   경기     20    27    13\n",
              "9   강원     14    18     9\n",
              "10  충북     19    26    14\n",
              "11  충남     23    29    19\n",
              "12  전북     23    30    14\n",
              "13  전남     14    27    10\n",
              "14  경북     15    23     8\n",
              "15  경남     13    17     9\n",
              "16  제주     14    16    11"
            ]
          },
          "metadata": {
            "tags": []
          },
          "execution_count": 25
        }
      ]
    },
    {
      "cell_type": "markdown",
      "metadata": {
        "id": "2UfN4l5eRHfr"
      },
      "source": [
        "## 데이터프레임(DataFrame) 살펴보기\n",
        "* 데이터프레임의 정보 : **df.info()**\n",
        " - 데이터프레임에 대한 전반적인 정보\n",
        " - 데이터프레임을 구성하는 행과 열의 크기, 컬럼명, 컬럼을 구성하는 값의 자료형 등을 출력\n",
        "+ 데이터프레임의 크기 확인 : **df.shape 속성**\n",
        " - (행, 열) 크기를 확인하기\n",
        " - 행의 개수 : len(데이터프레임), len(.index), .shape[0]\n",
        " - 열의 개수 : len(.column), .shape[1]\n",
        "+ 데이터프레임의 원소의 총개수 : **df.size 속성**\n",
        "+ 데이터프레임 개수 확인 :**df.count()**\n",
        " - Null이 아닌 행의 개수 확인\n",
        " - axis='columns' : Null이 아닌 열의 개수 확인\n",
        "* 데이터프레임의 인덱스 \n",
        " + 열의 인덱스 : **df.colums**\n",
        " + 행의 인덱스 : **df.index**\n",
        " + **데이터프레임의 인덱스 변경**\n",
        "   - 열인덱스 명 변경 : df.column = [열명인덱스]\n",
        "   - 열항목 중 하나를 인덱스로 사용 : df.set_index(열명)\n",
        "   - 인덱스를 일반 데이터 열로 전환 : df.reset_index()"
      ]
    },
    {
      "cell_type": "code",
      "metadata": {
        "id": "RPDi18n9SGRu",
        "colab": {
          "base_uri": "https://localhost:8080/"
        },
        "outputId": "6953d0fa-3005-4cd8-e9f0-07cc3072729f"
      },
      "source": [
        "#데이터프레임의 정보\n",
        "df.info()"
      ],
      "execution_count": null,
      "outputs": [
        {
          "output_type": "stream",
          "text": [
            "<class 'pandas.core.frame.DataFrame'>\n",
            "RangeIndex: 17 entries, 0 to 16\n",
            "Data columns (total 4 columns):\n",
            " #   Column  Non-Null Count  Dtype \n",
            "---  ------  --------------  ----- \n",
            " 0   지역      17 non-null     object\n",
            " 1   주간평균    17 non-null     int64 \n",
            " 2   최고값     17 non-null     int64 \n",
            " 3   최저값     17 non-null     int64 \n",
            "dtypes: int64(3), object(1)\n",
            "memory usage: 672.0+ bytes\n"
          ],
          "name": "stdout"
        }
      ]
    },
    {
      "cell_type": "code",
      "metadata": {
        "colab": {
          "base_uri": "https://localhost:8080/"
        },
        "id": "r8BEuw2Gk4cj",
        "outputId": "324e632f-ed26-4f63-f04b-9010c6748801"
      },
      "source": [
        "df. index"
      ],
      "execution_count": null,
      "outputs": [
        {
          "output_type": "execute_result",
          "data": {
            "text/plain": [
              "RangeIndex(start=0, stop=17, step=1)"
            ]
          },
          "metadata": {
            "tags": []
          },
          "execution_count": 28
        }
      ]
    },
    {
      "cell_type": "code",
      "metadata": {
        "colab": {
          "base_uri": "https://localhost:8080/"
        },
        "id": "WofAYPQNlCP7",
        "outputId": "9d010cdd-779c-4a70-8725-7f95500bd893"
      },
      "source": [
        "df.columns"
      ],
      "execution_count": null,
      "outputs": [
        {
          "output_type": "execute_result",
          "data": {
            "text/plain": [
              "Index(['지역 ', '주간평균 ', '최고값 ', '최저값 '], dtype='object')"
            ]
          },
          "metadata": {
            "tags": []
          },
          "execution_count": 29
        }
      ]
    },
    {
      "cell_type": "code",
      "metadata": {
        "id": "6TsNgT0b3Js7",
        "colab": {
          "base_uri": "https://localhost:8080/"
        },
        "outputId": "43c6f1ce-9523-4e6e-b9cb-3e4b12dcbc41"
      },
      "source": [
        "#데이터프레임의 크기 확인\n",
        "print('데이터프레임 (행, 열) : ', df.shape)\n",
        "print('데이터프레임 행 개수 len : ', len(df) )\n",
        "print('데이터프레임 행 개수 len : ', len(df.index) )\n",
        "print('데이터프레임 행 개수 shape : ', df.shape[0] )\n",
        "print('데이터프레임 열 개수 len : ', len(df.columns) )\n",
        "print('데이터프레임 열 개수 shape : ', df.shape[1] )"
      ],
      "execution_count": null,
      "outputs": [
        {
          "output_type": "stream",
          "text": [
            "데이터프레임 (행, 열) :  (17, 4)\n",
            "데이터프레임 행 개수 len :  17\n",
            "데이터프레임 행 개수 len :  17\n",
            "데이터프레임 행 개수 shape :  17\n",
            "데이터프레임 열 개수 len :  4\n",
            "데이터프레임 열 개수 shape :  4\n"
          ],
          "name": "stdout"
        }
      ]
    },
    {
      "cell_type": "code",
      "metadata": {
        "id": "x820CTxf7sUS",
        "colab": {
          "base_uri": "https://localhost:8080/"
        },
        "outputId": "9ee20c3b-d526-4f8c-d6e6-266870fb863b"
      },
      "source": [
        "#데이터프레임 각 열의개수 확인\n",
        "print(df.count())\n",
        "print('-'*20)\n",
        "print(df.count(axis='columns'))"
      ],
      "execution_count": null,
      "outputs": [
        {
          "output_type": "stream",
          "text": [
            "지역       17\n",
            "주간평균     17\n",
            "최고값      17\n",
            "최저값      17\n",
            "dtype: int64\n",
            "--------------------\n",
            "0     4\n",
            "1     4\n",
            "2     4\n",
            "3     4\n",
            "4     4\n",
            "5     4\n",
            "6     4\n",
            "7     4\n",
            "8     4\n",
            "9     4\n",
            "10    4\n",
            "11    4\n",
            "12    4\n",
            "13    4\n",
            "14    4\n",
            "15    4\n",
            "16    4\n",
            "dtype: int64\n"
          ],
          "name": "stdout"
        }
      ]
    },
    {
      "cell_type": "code",
      "metadata": {
        "id": "-_PcsEFSDcsV",
        "colab": {
          "base_uri": "https://localhost:8080/"
        },
        "outputId": "8cecb953-c417-4c4d-dfc7-97b87a30cc9a"
      },
      "source": [
        "#데이터프레임의 원소의 총개수\n",
        "print(df.size)"
      ],
      "execution_count": null,
      "outputs": [
        {
          "output_type": "stream",
          "text": [
            "68\n"
          ],
          "name": "stdout"
        }
      ]
    },
    {
      "cell_type": "code",
      "metadata": {
        "id": "1VWiVWQ_SQtl",
        "colab": {
          "base_uri": "https://localhost:8080/"
        },
        "outputId": "52353286-2462-4273-a045-efb130baca1a"
      },
      "source": [
        "#데이터프레임의 인덱스\n",
        "print('열인덱스 : ', df.columns)\n",
        "print('행인덱스 :', df.index)"
      ],
      "execution_count": null,
      "outputs": [
        {
          "output_type": "stream",
          "text": [
            "열인덱스 :  Index(['지역 ', '주간평균 ', '최고값 ', '최저값 '], dtype='object')\n",
            "행인덱스 : RangeIndex(start=0, stop=17, step=1)\n"
          ],
          "name": "stdout"
        }
      ]
    },
    {
      "cell_type": "code",
      "metadata": {
        "colab": {
          "base_uri": "https://localhost:8080/"
        },
        "id": "U2c5LXAvl-d7",
        "outputId": "a068e6c3-78e3-4b23-c601-4358e905c584"
      },
      "source": [
        " df['최고값 ']\n",
        " "
      ],
      "execution_count": null,
      "outputs": [
        {
          "output_type": "execute_result",
          "data": {
            "text/plain": [
              "0     22\n",
              "1     18\n",
              "2     18\n",
              "3     30\n",
              "4     23\n",
              "5     20\n",
              "6     16\n",
              "7     19\n",
              "8     27\n",
              "9     18\n",
              "10    26\n",
              "11    29\n",
              "12    30\n",
              "13    27\n",
              "14    23\n",
              "15    17\n",
              "16    16\n",
              "Name: 최고값 , dtype: int64"
            ]
          },
          "metadata": {
            "tags": []
          },
          "execution_count": 41
        }
      ]
    },
    {
      "cell_type": "code",
      "metadata": {
        "id": "DxsgZnmASZ-V",
        "colab": {
          "base_uri": "https://localhost:8080/"
        },
        "outputId": "a17ee131-07d3-498b-fb63-6eee276aa33d"
      },
      "source": [
        "#열명의 공백 제거 \n",
        "df.columns = [item.strip() for item in df.columns]\n",
        "df.columns"
      ],
      "execution_count": null,
      "outputs": [
        {
          "output_type": "execute_result",
          "data": {
            "text/plain": [
              "Index(['지역', '주간평균', '최고값', '최저값'], dtype='object')"
            ]
          },
          "metadata": {
            "tags": []
          },
          "execution_count": 42
        }
      ]
    },
    {
      "cell_type": "code",
      "metadata": {
        "colab": {
          "base_uri": "https://localhost:8080/"
        },
        "id": "_wGDF1I_me6f",
        "outputId": "94a758f6-3647-4863-fe89-1e8ad41d11cf"
      },
      "source": [
        "df['최고값']"
      ],
      "execution_count": null,
      "outputs": [
        {
          "output_type": "execute_result",
          "data": {
            "text/plain": [
              "0     22\n",
              "1     18\n",
              "2     18\n",
              "3     30\n",
              "4     23\n",
              "5     20\n",
              "6     16\n",
              "7     19\n",
              "8     27\n",
              "9     18\n",
              "10    26\n",
              "11    29\n",
              "12    30\n",
              "13    27\n",
              "14    23\n",
              "15    17\n",
              "16    16\n",
              "Name: 최고값, dtype: int64"
            ]
          },
          "metadata": {
            "tags": []
          },
          "execution_count": 43
        }
      ]
    },
    {
      "cell_type": "code",
      "metadata": {
        "colab": {
          "base_uri": "https://localhost:8080/",
          "height": 141
        },
        "id": "YpNaBSWjmtNl",
        "outputId": "76fe93b2-126c-4dc7-ab24-28aaa00a839d"
      },
      "source": [
        "df.head(2)\n"
      ],
      "execution_count": null,
      "outputs": [
        {
          "output_type": "execute_result",
          "data": {
            "text/html": [
              "<div>\n",
              "<style scoped>\n",
              "    .dataframe tbody tr th:only-of-type {\n",
              "        vertical-align: middle;\n",
              "    }\n",
              "\n",
              "    .dataframe tbody tr th {\n",
              "        vertical-align: top;\n",
              "    }\n",
              "\n",
              "    .dataframe thead th {\n",
              "        text-align: right;\n",
              "    }\n",
              "</style>\n",
              "<table border=\"1\" class=\"dataframe\">\n",
              "  <thead>\n",
              "    <tr style=\"text-align: right;\">\n",
              "      <th></th>\n",
              "      <th>주간평균</th>\n",
              "      <th>최고값</th>\n",
              "      <th>최저값</th>\n",
              "    </tr>\n",
              "    <tr>\n",
              "      <th>지역</th>\n",
              "      <th></th>\n",
              "      <th></th>\n",
              "      <th></th>\n",
              "    </tr>\n",
              "  </thead>\n",
              "  <tbody>\n",
              "    <tr>\n",
              "      <th>서울</th>\n",
              "      <td>20</td>\n",
              "      <td>22</td>\n",
              "      <td>16</td>\n",
              "    </tr>\n",
              "    <tr>\n",
              "      <th>부산</th>\n",
              "      <td>13</td>\n",
              "      <td>18</td>\n",
              "      <td>10</td>\n",
              "    </tr>\n",
              "  </tbody>\n",
              "</table>\n",
              "</div>"
            ],
            "text/plain": [
              "    주간평균  최고값  최저값\n",
              "지역                \n",
              "서울    20   22   16\n",
              "부산    13   18   10"
            ]
          },
          "metadata": {
            "tags": []
          },
          "execution_count": 50
        }
      ]
    },
    {
      "cell_type": "code",
      "metadata": {
        "colab": {
          "base_uri": "https://localhost:8080/",
          "height": 172
        },
        "id": "eNe_aoM6nB2R",
        "outputId": "9a530040-e342-495a-d776-138b6b4e0979"
      },
      "source": [
        "df.tail(3)"
      ],
      "execution_count": null,
      "outputs": [
        {
          "output_type": "error",
          "ename": "AttributeError",
          "evalue": "ignored",
          "traceback": [
            "\u001b[0;31m---------------------------------------------------------------------------\u001b[0m",
            "\u001b[0;31mAttributeError\u001b[0m                            Traceback (most recent call last)",
            "\u001b[0;32m<ipython-input-142-1f8cde2bcd6e>\u001b[0m in \u001b[0;36m<module>\u001b[0;34m()\u001b[0m\n\u001b[0;32m----> 1\u001b[0;31m \u001b[0mdf\u001b[0m\u001b[0;34m.\u001b[0m\u001b[0mtail\u001b[0m\u001b[0;34m(\u001b[0m\u001b[0;36m3\u001b[0m\u001b[0;34m)\u001b[0m\u001b[0;34m\u001b[0m\u001b[0;34m\u001b[0m\u001b[0m\n\u001b[0m",
            "\u001b[0;31mAttributeError\u001b[0m: 'function' object has no attribute 'tail'"
          ]
        }
      ]
    },
    {
      "cell_type": "code",
      "metadata": {
        "id": "SI96LxJ1UTrM",
        "colab": {
          "base_uri": "https://localhost:8080/",
          "height": 208
        },
        "outputId": "064d2643-f410-4712-adf6-f4bca647caef"
      },
      "source": [
        "#지역 컬럼을 행 인덱스로 지정\n",
        "df = df.set_index('지역')\n",
        "df"
      ],
      "execution_count": null,
      "outputs": [
        {
          "output_type": "error",
          "ename": "AttributeError",
          "evalue": "ignored",
          "traceback": [
            "\u001b[0;31m---------------------------------------------------------------------------\u001b[0m",
            "\u001b[0;31mAttributeError\u001b[0m                            Traceback (most recent call last)",
            "\u001b[0;32m<ipython-input-141-af5a8affd99e>\u001b[0m in \u001b[0;36m<module>\u001b[0;34m()\u001b[0m\n\u001b[1;32m      1\u001b[0m \u001b[0;31m#지역 컬럼을 행 인덱스로 지정\u001b[0m\u001b[0;34m\u001b[0m\u001b[0;34m\u001b[0m\u001b[0;34m\u001b[0m\u001b[0m\n\u001b[0;32m----> 2\u001b[0;31m \u001b[0mdf\u001b[0m \u001b[0;34m=\u001b[0m \u001b[0mdf\u001b[0m\u001b[0;34m.\u001b[0m\u001b[0mset_index\u001b[0m\u001b[0;34m(\u001b[0m\u001b[0;34m'지역'\u001b[0m\u001b[0;34m)\u001b[0m\u001b[0;34m\u001b[0m\u001b[0;34m\u001b[0m\u001b[0m\n\u001b[0m\u001b[1;32m      3\u001b[0m \u001b[0mdf\u001b[0m\u001b[0;34m\u001b[0m\u001b[0;34m\u001b[0m\u001b[0m\n",
            "\u001b[0;31mAttributeError\u001b[0m: 'function' object has no attribute 'set_index'"
          ]
        }
      ]
    },
    {
      "cell_type": "code",
      "metadata": {
        "colab": {
          "base_uri": "https://localhost:8080/"
        },
        "id": "fmFCsrubnJUg",
        "outputId": "9bc0fa13-779e-47a5-e591-fe8d702d5224"
      },
      "source": [
        "df.index"
      ],
      "execution_count": null,
      "outputs": [
        {
          "output_type": "execute_result",
          "data": {
            "text/plain": [
              "Index(['서울', '부산', '대구', '인천', '광주', '대전', '울산', '세종', '경기', '강원', '충북', '충남',\n",
              "       '전북', '전남', '경북', '경남', '제주'],\n",
              "      dtype='object', name='지역')"
            ]
          },
          "metadata": {
            "tags": []
          },
          "execution_count": 62
        }
      ]
    },
    {
      "cell_type": "code",
      "metadata": {
        "id": "4lb34DSsUm_8",
        "colab": {
          "base_uri": "https://localhost:8080/",
          "height": 574
        },
        "outputId": "20d79813-23f1-4ab0-bed5-c2164b1cd0b1"
      },
      "source": [
        "#인덱스를 일반 데이터 열로 전환\n",
        "df = df.reset_index()\n",
        "df"
      ],
      "execution_count": null,
      "outputs": [
        {
          "output_type": "execute_result",
          "data": {
            "text/html": [
              "<div>\n",
              "<style scoped>\n",
              "    .dataframe tbody tr th:only-of-type {\n",
              "        vertical-align: middle;\n",
              "    }\n",
              "\n",
              "    .dataframe tbody tr th {\n",
              "        vertical-align: top;\n",
              "    }\n",
              "\n",
              "    .dataframe thead th {\n",
              "        text-align: right;\n",
              "    }\n",
              "</style>\n",
              "<table border=\"1\" class=\"dataframe\">\n",
              "  <thead>\n",
              "    <tr style=\"text-align: right;\">\n",
              "      <th></th>\n",
              "      <th>지역</th>\n",
              "      <th>주간평균</th>\n",
              "      <th>최고값</th>\n",
              "      <th>최저값</th>\n",
              "    </tr>\n",
              "  </thead>\n",
              "  <tbody>\n",
              "    <tr>\n",
              "      <th>0</th>\n",
              "      <td>서울</td>\n",
              "      <td>20</td>\n",
              "      <td>22</td>\n",
              "      <td>16</td>\n",
              "    </tr>\n",
              "    <tr>\n",
              "      <th>1</th>\n",
              "      <td>부산</td>\n",
              "      <td>13</td>\n",
              "      <td>18</td>\n",
              "      <td>10</td>\n",
              "    </tr>\n",
              "    <tr>\n",
              "      <th>2</th>\n",
              "      <td>대구</td>\n",
              "      <td>15</td>\n",
              "      <td>18</td>\n",
              "      <td>11</td>\n",
              "    </tr>\n",
              "    <tr>\n",
              "      <th>3</th>\n",
              "      <td>인천</td>\n",
              "      <td>20</td>\n",
              "      <td>30</td>\n",
              "      <td>12</td>\n",
              "    </tr>\n",
              "    <tr>\n",
              "      <th>4</th>\n",
              "      <td>광주</td>\n",
              "      <td>19</td>\n",
              "      <td>23</td>\n",
              "      <td>15</td>\n",
              "    </tr>\n",
              "    <tr>\n",
              "      <th>5</th>\n",
              "      <td>대전</td>\n",
              "      <td>16</td>\n",
              "      <td>20</td>\n",
              "      <td>12</td>\n",
              "    </tr>\n",
              "    <tr>\n",
              "      <th>6</th>\n",
              "      <td>울산</td>\n",
              "      <td>14</td>\n",
              "      <td>16</td>\n",
              "      <td>11</td>\n",
              "    </tr>\n",
              "    <tr>\n",
              "      <th>7</th>\n",
              "      <td>세종</td>\n",
              "      <td>18</td>\n",
              "      <td>19</td>\n",
              "      <td>17</td>\n",
              "    </tr>\n",
              "    <tr>\n",
              "      <th>8</th>\n",
              "      <td>경기</td>\n",
              "      <td>20</td>\n",
              "      <td>27</td>\n",
              "      <td>13</td>\n",
              "    </tr>\n",
              "    <tr>\n",
              "      <th>9</th>\n",
              "      <td>강원</td>\n",
              "      <td>14</td>\n",
              "      <td>18</td>\n",
              "      <td>9</td>\n",
              "    </tr>\n",
              "    <tr>\n",
              "      <th>10</th>\n",
              "      <td>충북</td>\n",
              "      <td>19</td>\n",
              "      <td>26</td>\n",
              "      <td>14</td>\n",
              "    </tr>\n",
              "    <tr>\n",
              "      <th>11</th>\n",
              "      <td>충남</td>\n",
              "      <td>23</td>\n",
              "      <td>29</td>\n",
              "      <td>19</td>\n",
              "    </tr>\n",
              "    <tr>\n",
              "      <th>12</th>\n",
              "      <td>전북</td>\n",
              "      <td>23</td>\n",
              "      <td>30</td>\n",
              "      <td>14</td>\n",
              "    </tr>\n",
              "    <tr>\n",
              "      <th>13</th>\n",
              "      <td>전남</td>\n",
              "      <td>14</td>\n",
              "      <td>27</td>\n",
              "      <td>10</td>\n",
              "    </tr>\n",
              "    <tr>\n",
              "      <th>14</th>\n",
              "      <td>경북</td>\n",
              "      <td>15</td>\n",
              "      <td>23</td>\n",
              "      <td>8</td>\n",
              "    </tr>\n",
              "    <tr>\n",
              "      <th>15</th>\n",
              "      <td>경남</td>\n",
              "      <td>13</td>\n",
              "      <td>17</td>\n",
              "      <td>9</td>\n",
              "    </tr>\n",
              "    <tr>\n",
              "      <th>16</th>\n",
              "      <td>제주</td>\n",
              "      <td>14</td>\n",
              "      <td>16</td>\n",
              "      <td>11</td>\n",
              "    </tr>\n",
              "  </tbody>\n",
              "</table>\n",
              "</div>"
            ],
            "text/plain": [
              "    지역  주간평균  최고값  최저값\n",
              "0   서울    20   22   16\n",
              "1   부산    13   18   10\n",
              "2   대구    15   18   11\n",
              "3   인천    20   30   12\n",
              "4   광주    19   23   15\n",
              "5   대전    16   20   12\n",
              "6   울산    14   16   11\n",
              "7   세종    18   19   17\n",
              "8   경기    20   27   13\n",
              "9   강원    14   18    9\n",
              "10  충북    19   26   14\n",
              "11  충남    23   29   19\n",
              "12  전북    23   30   14\n",
              "13  전남    14   27   10\n",
              "14  경북    15   23    8\n",
              "15  경남    13   17    9\n",
              "16  제주    14   16   11"
            ]
          },
          "metadata": {
            "tags": []
          },
          "execution_count": 63
        }
      ]
    },
    {
      "cell_type": "markdown",
      "metadata": {
        "id": "UO8Dw3XWxi97"
      },
      "source": [
        "## **데이터프레임 인덱싱(indexing)과 슬라이싱(slicing)**\n"
      ]
    },
    {
      "cell_type": "code",
      "metadata": {
        "id": "kDu43olQ6-t_",
        "colab": {
          "base_uri": "https://localhost:8080/",
          "height": 190
        },
        "outputId": "2f504757-c4b2-42d6-be18-ef495baae82b"
      },
      "source": [
        "df = df.set_index('지역')\n",
        "df.head()"
      ],
      "execution_count": null,
      "outputs": [
        {
          "output_type": "error",
          "ename": "AttributeError",
          "evalue": "ignored",
          "traceback": [
            "\u001b[0;31m---------------------------------------------------------------------------\u001b[0m",
            "\u001b[0;31mAttributeError\u001b[0m                            Traceback (most recent call last)",
            "\u001b[0;32m<ipython-input-140-849efde656c0>\u001b[0m in \u001b[0;36m<module>\u001b[0;34m()\u001b[0m\n\u001b[0;32m----> 1\u001b[0;31m \u001b[0mdf\u001b[0m \u001b[0;34m=\u001b[0m \u001b[0mdf\u001b[0m\u001b[0;34m.\u001b[0m\u001b[0mset_index\u001b[0m\u001b[0;34m(\u001b[0m\u001b[0;34m'지역'\u001b[0m\u001b[0;34m)\u001b[0m\u001b[0;34m\u001b[0m\u001b[0;34m\u001b[0m\u001b[0m\n\u001b[0m\u001b[1;32m      2\u001b[0m \u001b[0mdf\u001b[0m\u001b[0;34m.\u001b[0m\u001b[0mhead\u001b[0m\u001b[0;34m(\u001b[0m\u001b[0;34m)\u001b[0m\u001b[0;34m\u001b[0m\u001b[0;34m\u001b[0m\u001b[0m\n",
            "\u001b[0;31mAttributeError\u001b[0m: 'function' object has no attribute 'set_index'"
          ]
        }
      ]
    },
    {
      "cell_type": "markdown",
      "metadata": {
        "id": "Cj62A7iA2MuH"
      },
      "source": [
        "### df[]\n",
        " + 특정 열 가져오기 : df[열인덱스], df[열인덱스 리스트]\n",
        " + 특정 행 가져오기 : df[시작행인덱스:종료행인덱스]  "
      ]
    },
    {
      "cell_type": "code",
      "metadata": {
        "colab": {
          "base_uri": "https://localhost:8080/"
        },
        "id": "0ANNU41BoXrR",
        "outputId": "5ce58706-0a33-4e96-d5a0-4e051645c1de"
      },
      "source": [
        "df.columns"
      ],
      "execution_count": null,
      "outputs": [
        {
          "output_type": "execute_result",
          "data": {
            "text/plain": [
              "Index(['주간평균', '최고값', '최저값'], dtype='object')"
            ]
          },
          "metadata": {
            "tags": []
          },
          "execution_count": 66
        }
      ]
    },
    {
      "cell_type": "code",
      "metadata": {
        "id": "y7CwJ-BjzTDe",
        "colab": {
          "base_uri": "https://localhost:8080/"
        },
        "outputId": "488772a3-d6e7-405f-a365-001d283b186a"
      },
      "source": [
        "#특정 열 가져오기\n",
        "df['주간평균']"
      ],
      "execution_count": null,
      "outputs": [
        {
          "output_type": "execute_result",
          "data": {
            "text/plain": [
              "지역\n",
              "서울    20\n",
              "부산    13\n",
              "대구    15\n",
              "인천    20\n",
              "광주    19\n",
              "대전    16\n",
              "울산    14\n",
              "세종    18\n",
              "경기    20\n",
              "강원    14\n",
              "충북    19\n",
              "충남    23\n",
              "전북    23\n",
              "전남    14\n",
              "경북    15\n",
              "경남    13\n",
              "제주    14\n",
              "Name: 주간평균, dtype: int64"
            ]
          },
          "metadata": {
            "tags": []
          },
          "execution_count": 67
        }
      ]
    },
    {
      "cell_type": "code",
      "metadata": {
        "id": "xCoa2WpIzZAn",
        "colab": {
          "base_uri": "https://localhost:8080/",
          "height": 605
        },
        "outputId": "18262c3c-1b9c-4cf5-f155-ab7eb879027c"
      },
      "source": [
        "df[['주간평균','최고값']]"
      ],
      "execution_count": null,
      "outputs": [
        {
          "output_type": "execute_result",
          "data": {
            "text/html": [
              "<div>\n",
              "<style scoped>\n",
              "    .dataframe tbody tr th:only-of-type {\n",
              "        vertical-align: middle;\n",
              "    }\n",
              "\n",
              "    .dataframe tbody tr th {\n",
              "        vertical-align: top;\n",
              "    }\n",
              "\n",
              "    .dataframe thead th {\n",
              "        text-align: right;\n",
              "    }\n",
              "</style>\n",
              "<table border=\"1\" class=\"dataframe\">\n",
              "  <thead>\n",
              "    <tr style=\"text-align: right;\">\n",
              "      <th></th>\n",
              "      <th>주간평균</th>\n",
              "      <th>최고값</th>\n",
              "    </tr>\n",
              "    <tr>\n",
              "      <th>지역</th>\n",
              "      <th></th>\n",
              "      <th></th>\n",
              "    </tr>\n",
              "  </thead>\n",
              "  <tbody>\n",
              "    <tr>\n",
              "      <th>서울</th>\n",
              "      <td>20</td>\n",
              "      <td>22</td>\n",
              "    </tr>\n",
              "    <tr>\n",
              "      <th>부산</th>\n",
              "      <td>13</td>\n",
              "      <td>18</td>\n",
              "    </tr>\n",
              "    <tr>\n",
              "      <th>대구</th>\n",
              "      <td>15</td>\n",
              "      <td>18</td>\n",
              "    </tr>\n",
              "    <tr>\n",
              "      <th>인천</th>\n",
              "      <td>20</td>\n",
              "      <td>30</td>\n",
              "    </tr>\n",
              "    <tr>\n",
              "      <th>광주</th>\n",
              "      <td>19</td>\n",
              "      <td>23</td>\n",
              "    </tr>\n",
              "    <tr>\n",
              "      <th>대전</th>\n",
              "      <td>16</td>\n",
              "      <td>20</td>\n",
              "    </tr>\n",
              "    <tr>\n",
              "      <th>울산</th>\n",
              "      <td>14</td>\n",
              "      <td>16</td>\n",
              "    </tr>\n",
              "    <tr>\n",
              "      <th>세종</th>\n",
              "      <td>18</td>\n",
              "      <td>19</td>\n",
              "    </tr>\n",
              "    <tr>\n",
              "      <th>경기</th>\n",
              "      <td>20</td>\n",
              "      <td>27</td>\n",
              "    </tr>\n",
              "    <tr>\n",
              "      <th>강원</th>\n",
              "      <td>14</td>\n",
              "      <td>18</td>\n",
              "    </tr>\n",
              "    <tr>\n",
              "      <th>충북</th>\n",
              "      <td>19</td>\n",
              "      <td>26</td>\n",
              "    </tr>\n",
              "    <tr>\n",
              "      <th>충남</th>\n",
              "      <td>23</td>\n",
              "      <td>29</td>\n",
              "    </tr>\n",
              "    <tr>\n",
              "      <th>전북</th>\n",
              "      <td>23</td>\n",
              "      <td>30</td>\n",
              "    </tr>\n",
              "    <tr>\n",
              "      <th>전남</th>\n",
              "      <td>14</td>\n",
              "      <td>27</td>\n",
              "    </tr>\n",
              "    <tr>\n",
              "      <th>경북</th>\n",
              "      <td>15</td>\n",
              "      <td>23</td>\n",
              "    </tr>\n",
              "    <tr>\n",
              "      <th>경남</th>\n",
              "      <td>13</td>\n",
              "      <td>17</td>\n",
              "    </tr>\n",
              "    <tr>\n",
              "      <th>제주</th>\n",
              "      <td>14</td>\n",
              "      <td>16</td>\n",
              "    </tr>\n",
              "  </tbody>\n",
              "</table>\n",
              "</div>"
            ],
            "text/plain": [
              "    주간평균  최고값\n",
              "지역           \n",
              "서울    20   22\n",
              "부산    13   18\n",
              "대구    15   18\n",
              "인천    20   30\n",
              "광주    19   23\n",
              "대전    16   20\n",
              "울산    14   16\n",
              "세종    18   19\n",
              "경기    20   27\n",
              "강원    14   18\n",
              "충북    19   26\n",
              "충남    23   29\n",
              "전북    23   30\n",
              "전남    14   27\n",
              "경북    15   23\n",
              "경남    13   17\n",
              "제주    14   16"
            ]
          },
          "metadata": {
            "tags": []
          },
          "execution_count": 68
        }
      ]
    },
    {
      "cell_type": "code",
      "metadata": {
        "id": "Wm0TBqD42hKZ",
        "colab": {
          "base_uri": "https://localhost:8080/",
          "height": 172
        },
        "outputId": "9d088415-9c37-4545-abcd-f18a209c3243"
      },
      "source": [
        "#특정행 가져오기\n",
        "df['부산':'인천']"
      ],
      "execution_count": null,
      "outputs": [
        {
          "output_type": "execute_result",
          "data": {
            "text/html": [
              "<div>\n",
              "<style scoped>\n",
              "    .dataframe tbody tr th:only-of-type {\n",
              "        vertical-align: middle;\n",
              "    }\n",
              "\n",
              "    .dataframe tbody tr th {\n",
              "        vertical-align: top;\n",
              "    }\n",
              "\n",
              "    .dataframe thead th {\n",
              "        text-align: right;\n",
              "    }\n",
              "</style>\n",
              "<table border=\"1\" class=\"dataframe\">\n",
              "  <thead>\n",
              "    <tr style=\"text-align: right;\">\n",
              "      <th></th>\n",
              "      <th>주간평균</th>\n",
              "      <th>최고값</th>\n",
              "      <th>최저값</th>\n",
              "    </tr>\n",
              "    <tr>\n",
              "      <th>지역</th>\n",
              "      <th></th>\n",
              "      <th></th>\n",
              "      <th></th>\n",
              "    </tr>\n",
              "  </thead>\n",
              "  <tbody>\n",
              "    <tr>\n",
              "      <th>부산</th>\n",
              "      <td>13</td>\n",
              "      <td>18</td>\n",
              "      <td>10</td>\n",
              "    </tr>\n",
              "    <tr>\n",
              "      <th>대구</th>\n",
              "      <td>15</td>\n",
              "      <td>18</td>\n",
              "      <td>11</td>\n",
              "    </tr>\n",
              "    <tr>\n",
              "      <th>인천</th>\n",
              "      <td>20</td>\n",
              "      <td>30</td>\n",
              "      <td>12</td>\n",
              "    </tr>\n",
              "  </tbody>\n",
              "</table>\n",
              "</div>"
            ],
            "text/plain": [
              "    주간평균  최고값  최저값\n",
              "지역                \n",
              "부산    13   18   10\n",
              "대구    15   18   11\n",
              "인천    20   30   12"
            ]
          },
          "metadata": {
            "tags": []
          },
          "execution_count": 70
        }
      ]
    },
    {
      "cell_type": "markdown",
      "metadata": {
        "id": "OQkafCZj21TB"
      },
      "source": [
        "### df.loc[행인덱스, 열인덱스]\n",
        "* 특정 열 가져오기 : df.loc[:, 열인덱스]\n",
        "* 특정 행 가져오기 : df.loc[행인덱스, :]\n",
        "* 특정 항목 가져오기 : df.loc[행인덱스, 열인덱스]"
      ]
    },
    {
      "cell_type": "code",
      "metadata": {
        "colab": {
          "base_uri": "https://localhost:8080/",
          "height": 234
        },
        "id": "Hc6zU6CQpV7q",
        "outputId": "65f9e963-f925-4cef-d4da-c958d1f1cc38"
      },
      "source": [
        "df.head()"
      ],
      "execution_count": null,
      "outputs": [
        {
          "output_type": "execute_result",
          "data": {
            "text/html": [
              "<div>\n",
              "<style scoped>\n",
              "    .dataframe tbody tr th:only-of-type {\n",
              "        vertical-align: middle;\n",
              "    }\n",
              "\n",
              "    .dataframe tbody tr th {\n",
              "        vertical-align: top;\n",
              "    }\n",
              "\n",
              "    .dataframe thead th {\n",
              "        text-align: right;\n",
              "    }\n",
              "</style>\n",
              "<table border=\"1\" class=\"dataframe\">\n",
              "  <thead>\n",
              "    <tr style=\"text-align: right;\">\n",
              "      <th></th>\n",
              "      <th>주간평균</th>\n",
              "      <th>최고값</th>\n",
              "      <th>최저값</th>\n",
              "    </tr>\n",
              "    <tr>\n",
              "      <th>지역</th>\n",
              "      <th></th>\n",
              "      <th></th>\n",
              "      <th></th>\n",
              "    </tr>\n",
              "  </thead>\n",
              "  <tbody>\n",
              "    <tr>\n",
              "      <th>서울</th>\n",
              "      <td>20</td>\n",
              "      <td>22</td>\n",
              "      <td>16</td>\n",
              "    </tr>\n",
              "    <tr>\n",
              "      <th>부산</th>\n",
              "      <td>13</td>\n",
              "      <td>18</td>\n",
              "      <td>10</td>\n",
              "    </tr>\n",
              "    <tr>\n",
              "      <th>대구</th>\n",
              "      <td>15</td>\n",
              "      <td>18</td>\n",
              "      <td>11</td>\n",
              "    </tr>\n",
              "    <tr>\n",
              "      <th>인천</th>\n",
              "      <td>20</td>\n",
              "      <td>30</td>\n",
              "      <td>12</td>\n",
              "    </tr>\n",
              "    <tr>\n",
              "      <th>광주</th>\n",
              "      <td>19</td>\n",
              "      <td>23</td>\n",
              "      <td>15</td>\n",
              "    </tr>\n",
              "  </tbody>\n",
              "</table>\n",
              "</div>"
            ],
            "text/plain": [
              "    주간평균  최고값  최저값\n",
              "지역                \n",
              "서울    20   22   16\n",
              "부산    13   18   10\n",
              "대구    15   18   11\n",
              "인천    20   30   12\n",
              "광주    19   23   15"
            ]
          },
          "metadata": {
            "tags": []
          },
          "execution_count": 72
        }
      ]
    },
    {
      "cell_type": "code",
      "metadata": {
        "colab": {
          "base_uri": "https://localhost:8080/",
          "height": 605
        },
        "id": "b3fmxqh_pZ5J",
        "outputId": "9ba7f243-4665-4879-f300-3c10a76da2dc"
      },
      "source": [
        "df[['최저값']]"
      ],
      "execution_count": null,
      "outputs": [
        {
          "output_type": "execute_result",
          "data": {
            "text/html": [
              "<div>\n",
              "<style scoped>\n",
              "    .dataframe tbody tr th:only-of-type {\n",
              "        vertical-align: middle;\n",
              "    }\n",
              "\n",
              "    .dataframe tbody tr th {\n",
              "        vertical-align: top;\n",
              "    }\n",
              "\n",
              "    .dataframe thead th {\n",
              "        text-align: right;\n",
              "    }\n",
              "</style>\n",
              "<table border=\"1\" class=\"dataframe\">\n",
              "  <thead>\n",
              "    <tr style=\"text-align: right;\">\n",
              "      <th></th>\n",
              "      <th>최저값</th>\n",
              "    </tr>\n",
              "    <tr>\n",
              "      <th>지역</th>\n",
              "      <th></th>\n",
              "    </tr>\n",
              "  </thead>\n",
              "  <tbody>\n",
              "    <tr>\n",
              "      <th>서울</th>\n",
              "      <td>16</td>\n",
              "    </tr>\n",
              "    <tr>\n",
              "      <th>부산</th>\n",
              "      <td>10</td>\n",
              "    </tr>\n",
              "    <tr>\n",
              "      <th>대구</th>\n",
              "      <td>11</td>\n",
              "    </tr>\n",
              "    <tr>\n",
              "      <th>인천</th>\n",
              "      <td>12</td>\n",
              "    </tr>\n",
              "    <tr>\n",
              "      <th>광주</th>\n",
              "      <td>15</td>\n",
              "    </tr>\n",
              "    <tr>\n",
              "      <th>대전</th>\n",
              "      <td>12</td>\n",
              "    </tr>\n",
              "    <tr>\n",
              "      <th>울산</th>\n",
              "      <td>11</td>\n",
              "    </tr>\n",
              "    <tr>\n",
              "      <th>세종</th>\n",
              "      <td>17</td>\n",
              "    </tr>\n",
              "    <tr>\n",
              "      <th>경기</th>\n",
              "      <td>13</td>\n",
              "    </tr>\n",
              "    <tr>\n",
              "      <th>강원</th>\n",
              "      <td>9</td>\n",
              "    </tr>\n",
              "    <tr>\n",
              "      <th>충북</th>\n",
              "      <td>14</td>\n",
              "    </tr>\n",
              "    <tr>\n",
              "      <th>충남</th>\n",
              "      <td>19</td>\n",
              "    </tr>\n",
              "    <tr>\n",
              "      <th>전북</th>\n",
              "      <td>14</td>\n",
              "    </tr>\n",
              "    <tr>\n",
              "      <th>전남</th>\n",
              "      <td>10</td>\n",
              "    </tr>\n",
              "    <tr>\n",
              "      <th>경북</th>\n",
              "      <td>8</td>\n",
              "    </tr>\n",
              "    <tr>\n",
              "      <th>경남</th>\n",
              "      <td>9</td>\n",
              "    </tr>\n",
              "    <tr>\n",
              "      <th>제주</th>\n",
              "      <td>11</td>\n",
              "    </tr>\n",
              "  </tbody>\n",
              "</table>\n",
              "</div>"
            ],
            "text/plain": [
              "    최저값\n",
              "지역     \n",
              "서울   16\n",
              "부산   10\n",
              "대구   11\n",
              "인천   12\n",
              "광주   15\n",
              "대전   12\n",
              "울산   11\n",
              "세종   17\n",
              "경기   13\n",
              "강원    9\n",
              "충북   14\n",
              "충남   19\n",
              "전북   14\n",
              "전남   10\n",
              "경북    8\n",
              "경남    9\n",
              "제주   11"
            ]
          },
          "metadata": {
            "tags": []
          },
          "execution_count": 74
        }
      ]
    },
    {
      "cell_type": "code",
      "metadata": {
        "id": "ur3fWQue4mkE",
        "colab": {
          "base_uri": "https://localhost:8080/",
          "height": 172
        },
        "outputId": "2d33f1a2-51cc-45e8-a8cb-16876025d389"
      },
      "source": [
        "#특정 열 가져오기\n",
        "df.loc[:'대구', :'최고값'] "
      ],
      "execution_count": null,
      "outputs": [
        {
          "output_type": "execute_result",
          "data": {
            "text/html": [
              "<div>\n",
              "<style scoped>\n",
              "    .dataframe tbody tr th:only-of-type {\n",
              "        vertical-align: middle;\n",
              "    }\n",
              "\n",
              "    .dataframe tbody tr th {\n",
              "        vertical-align: top;\n",
              "    }\n",
              "\n",
              "    .dataframe thead th {\n",
              "        text-align: right;\n",
              "    }\n",
              "</style>\n",
              "<table border=\"1\" class=\"dataframe\">\n",
              "  <thead>\n",
              "    <tr style=\"text-align: right;\">\n",
              "      <th></th>\n",
              "      <th>주간평균</th>\n",
              "      <th>최고값</th>\n",
              "    </tr>\n",
              "    <tr>\n",
              "      <th>지역</th>\n",
              "      <th></th>\n",
              "      <th></th>\n",
              "    </tr>\n",
              "  </thead>\n",
              "  <tbody>\n",
              "    <tr>\n",
              "      <th>서울</th>\n",
              "      <td>20</td>\n",
              "      <td>22</td>\n",
              "    </tr>\n",
              "    <tr>\n",
              "      <th>부산</th>\n",
              "      <td>13</td>\n",
              "      <td>18</td>\n",
              "    </tr>\n",
              "    <tr>\n",
              "      <th>대구</th>\n",
              "      <td>15</td>\n",
              "      <td>18</td>\n",
              "    </tr>\n",
              "  </tbody>\n",
              "</table>\n",
              "</div>"
            ],
            "text/plain": [
              "    주간평균  최고값\n",
              "지역           \n",
              "서울    20   22\n",
              "부산    13   18\n",
              "대구    15   18"
            ]
          },
          "metadata": {
            "tags": []
          },
          "execution_count": 81
        }
      ]
    },
    {
      "cell_type": "code",
      "metadata": {
        "id": "pTfKZPju4s8N",
        "colab": {
          "base_uri": "https://localhost:8080/",
          "height": 605
        },
        "outputId": "5ab980dc-d461-4ae2-a5f0-7f7addb533b7"
      },
      "source": [
        "df.loc[:, ['주간평균', '최저값']]"
      ],
      "execution_count": null,
      "outputs": [
        {
          "output_type": "execute_result",
          "data": {
            "text/html": [
              "<div>\n",
              "<style scoped>\n",
              "    .dataframe tbody tr th:only-of-type {\n",
              "        vertical-align: middle;\n",
              "    }\n",
              "\n",
              "    .dataframe tbody tr th {\n",
              "        vertical-align: top;\n",
              "    }\n",
              "\n",
              "    .dataframe thead th {\n",
              "        text-align: right;\n",
              "    }\n",
              "</style>\n",
              "<table border=\"1\" class=\"dataframe\">\n",
              "  <thead>\n",
              "    <tr style=\"text-align: right;\">\n",
              "      <th></th>\n",
              "      <th>주간평균</th>\n",
              "      <th>최저값</th>\n",
              "    </tr>\n",
              "    <tr>\n",
              "      <th>지역</th>\n",
              "      <th></th>\n",
              "      <th></th>\n",
              "    </tr>\n",
              "  </thead>\n",
              "  <tbody>\n",
              "    <tr>\n",
              "      <th>서울</th>\n",
              "      <td>20</td>\n",
              "      <td>16</td>\n",
              "    </tr>\n",
              "    <tr>\n",
              "      <th>부산</th>\n",
              "      <td>13</td>\n",
              "      <td>10</td>\n",
              "    </tr>\n",
              "    <tr>\n",
              "      <th>대구</th>\n",
              "      <td>15</td>\n",
              "      <td>11</td>\n",
              "    </tr>\n",
              "    <tr>\n",
              "      <th>인천</th>\n",
              "      <td>20</td>\n",
              "      <td>12</td>\n",
              "    </tr>\n",
              "    <tr>\n",
              "      <th>광주</th>\n",
              "      <td>19</td>\n",
              "      <td>15</td>\n",
              "    </tr>\n",
              "    <tr>\n",
              "      <th>대전</th>\n",
              "      <td>16</td>\n",
              "      <td>12</td>\n",
              "    </tr>\n",
              "    <tr>\n",
              "      <th>울산</th>\n",
              "      <td>14</td>\n",
              "      <td>11</td>\n",
              "    </tr>\n",
              "    <tr>\n",
              "      <th>세종</th>\n",
              "      <td>18</td>\n",
              "      <td>17</td>\n",
              "    </tr>\n",
              "    <tr>\n",
              "      <th>경기</th>\n",
              "      <td>20</td>\n",
              "      <td>13</td>\n",
              "    </tr>\n",
              "    <tr>\n",
              "      <th>강원</th>\n",
              "      <td>14</td>\n",
              "      <td>9</td>\n",
              "    </tr>\n",
              "    <tr>\n",
              "      <th>충북</th>\n",
              "      <td>19</td>\n",
              "      <td>14</td>\n",
              "    </tr>\n",
              "    <tr>\n",
              "      <th>충남</th>\n",
              "      <td>23</td>\n",
              "      <td>19</td>\n",
              "    </tr>\n",
              "    <tr>\n",
              "      <th>전북</th>\n",
              "      <td>23</td>\n",
              "      <td>14</td>\n",
              "    </tr>\n",
              "    <tr>\n",
              "      <th>전남</th>\n",
              "      <td>14</td>\n",
              "      <td>10</td>\n",
              "    </tr>\n",
              "    <tr>\n",
              "      <th>경북</th>\n",
              "      <td>15</td>\n",
              "      <td>8</td>\n",
              "    </tr>\n",
              "    <tr>\n",
              "      <th>경남</th>\n",
              "      <td>13</td>\n",
              "      <td>9</td>\n",
              "    </tr>\n",
              "    <tr>\n",
              "      <th>제주</th>\n",
              "      <td>14</td>\n",
              "      <td>11</td>\n",
              "    </tr>\n",
              "  </tbody>\n",
              "</table>\n",
              "</div>"
            ],
            "text/plain": [
              "    주간평균  최저값\n",
              "지역           \n",
              "서울    20   16\n",
              "부산    13   10\n",
              "대구    15   11\n",
              "인천    20   12\n",
              "광주    19   15\n",
              "대전    16   12\n",
              "울산    14   11\n",
              "세종    18   17\n",
              "경기    20   13\n",
              "강원    14    9\n",
              "충북    19   14\n",
              "충남    23   19\n",
              "전북    23   14\n",
              "전남    14   10\n",
              "경북    15    8\n",
              "경남    13    9\n",
              "제주    14   11"
            ]
          },
          "metadata": {
            "tags": []
          },
          "execution_count": 82
        }
      ]
    },
    {
      "cell_type": "code",
      "metadata": {
        "id": "4LCD_xQ340Ai"
      },
      "source": [
        "df.loc[:, '주간평균':'최저값']"
      ],
      "execution_count": null,
      "outputs": []
    },
    {
      "cell_type": "code",
      "metadata": {
        "id": "PvhrPBZp49jO",
        "colab": {
          "base_uri": "https://localhost:8080/"
        },
        "outputId": "fa8b7bfd-02e1-4aed-a8e5-dbef89c71a2f"
      },
      "source": [
        "#특정 행 가져오기\n",
        "df.loc['부산',:]"
      ],
      "execution_count": null,
      "outputs": [
        {
          "output_type": "execute_result",
          "data": {
            "text/plain": [
              "주간평균    13\n",
              "최고값     18\n",
              "최저값     10\n",
              "Name: 부산, dtype: int64"
            ]
          },
          "metadata": {
            "tags": []
          },
          "execution_count": 83
        }
      ]
    },
    {
      "cell_type": "code",
      "metadata": {
        "id": "XAy3Zu3G5Pj3",
        "colab": {
          "base_uri": "https://localhost:8080/",
          "height": 141
        },
        "outputId": "a0ba0863-8534-4721-b382-46cd1b4c6e58"
      },
      "source": [
        "df.loc[['부산', '인천'], :]"
      ],
      "execution_count": null,
      "outputs": [
        {
          "output_type": "execute_result",
          "data": {
            "text/html": [
              "<div>\n",
              "<style scoped>\n",
              "    .dataframe tbody tr th:only-of-type {\n",
              "        vertical-align: middle;\n",
              "    }\n",
              "\n",
              "    .dataframe tbody tr th {\n",
              "        vertical-align: top;\n",
              "    }\n",
              "\n",
              "    .dataframe thead th {\n",
              "        text-align: right;\n",
              "    }\n",
              "</style>\n",
              "<table border=\"1\" class=\"dataframe\">\n",
              "  <thead>\n",
              "    <tr style=\"text-align: right;\">\n",
              "      <th></th>\n",
              "      <th>주간평균</th>\n",
              "      <th>최고값</th>\n",
              "      <th>최저값</th>\n",
              "    </tr>\n",
              "    <tr>\n",
              "      <th>지역</th>\n",
              "      <th></th>\n",
              "      <th></th>\n",
              "      <th></th>\n",
              "    </tr>\n",
              "  </thead>\n",
              "  <tbody>\n",
              "    <tr>\n",
              "      <th>부산</th>\n",
              "      <td>13</td>\n",
              "      <td>18</td>\n",
              "      <td>10</td>\n",
              "    </tr>\n",
              "    <tr>\n",
              "      <th>인천</th>\n",
              "      <td>20</td>\n",
              "      <td>30</td>\n",
              "      <td>12</td>\n",
              "    </tr>\n",
              "  </tbody>\n",
              "</table>\n",
              "</div>"
            ],
            "text/plain": [
              "    주간평균  최고값  최저값\n",
              "지역                \n",
              "부산    13   18   10\n",
              "인천    20   30   12"
            ]
          },
          "metadata": {
            "tags": []
          },
          "execution_count": 84
        }
      ]
    },
    {
      "cell_type": "code",
      "metadata": {
        "id": "fvfrg_sp5DjV",
        "colab": {
          "base_uri": "https://localhost:8080/",
          "height": 172
        },
        "outputId": "aa080676-bfa5-46d0-d1a1-09a0c2b42bdd"
      },
      "source": [
        "df.loc['부산':'인천', :]"
      ],
      "execution_count": null,
      "outputs": [
        {
          "output_type": "execute_result",
          "data": {
            "text/html": [
              "<div>\n",
              "<style scoped>\n",
              "    .dataframe tbody tr th:only-of-type {\n",
              "        vertical-align: middle;\n",
              "    }\n",
              "\n",
              "    .dataframe tbody tr th {\n",
              "        vertical-align: top;\n",
              "    }\n",
              "\n",
              "    .dataframe thead th {\n",
              "        text-align: right;\n",
              "    }\n",
              "</style>\n",
              "<table border=\"1\" class=\"dataframe\">\n",
              "  <thead>\n",
              "    <tr style=\"text-align: right;\">\n",
              "      <th></th>\n",
              "      <th>주간평균</th>\n",
              "      <th>최고값</th>\n",
              "      <th>최저값</th>\n",
              "    </tr>\n",
              "    <tr>\n",
              "      <th>지역</th>\n",
              "      <th></th>\n",
              "      <th></th>\n",
              "      <th></th>\n",
              "    </tr>\n",
              "  </thead>\n",
              "  <tbody>\n",
              "    <tr>\n",
              "      <th>부산</th>\n",
              "      <td>13</td>\n",
              "      <td>18</td>\n",
              "      <td>10</td>\n",
              "    </tr>\n",
              "    <tr>\n",
              "      <th>대구</th>\n",
              "      <td>15</td>\n",
              "      <td>18</td>\n",
              "      <td>11</td>\n",
              "    </tr>\n",
              "    <tr>\n",
              "      <th>인천</th>\n",
              "      <td>20</td>\n",
              "      <td>30</td>\n",
              "      <td>12</td>\n",
              "    </tr>\n",
              "  </tbody>\n",
              "</table>\n",
              "</div>"
            ],
            "text/plain": [
              "    주간평균  최고값  최저값\n",
              "지역                \n",
              "부산    13   18   10\n",
              "대구    15   18   11\n",
              "인천    20   30   12"
            ]
          },
          "metadata": {
            "tags": []
          },
          "execution_count": 85
        }
      ]
    },
    {
      "cell_type": "code",
      "metadata": {
        "id": "JaH23lSz5U1q",
        "colab": {
          "base_uri": "https://localhost:8080/"
        },
        "outputId": "8e8bc036-6b14-4cf6-c343-0804569a27bd"
      },
      "source": [
        "#특정 항목 가져오기\n",
        "df.loc['부산', '주간평균']"
      ],
      "execution_count": null,
      "outputs": [
        {
          "output_type": "execute_result",
          "data": {
            "text/plain": [
              "13"
            ]
          },
          "metadata": {
            "tags": []
          },
          "execution_count": 86
        }
      ]
    },
    {
      "cell_type": "code",
      "metadata": {
        "id": "JzZvoYtp5d_X",
        "colab": {
          "base_uri": "https://localhost:8080/",
          "height": 141
        },
        "outputId": "dd1617a2-7f55-4929-8694-8979993a6f91"
      },
      "source": [
        "df.loc[['부산','인천'],['주간평균', '최저값']]"
      ],
      "execution_count": null,
      "outputs": [
        {
          "output_type": "execute_result",
          "data": {
            "text/html": [
              "<div>\n",
              "<style scoped>\n",
              "    .dataframe tbody tr th:only-of-type {\n",
              "        vertical-align: middle;\n",
              "    }\n",
              "\n",
              "    .dataframe tbody tr th {\n",
              "        vertical-align: top;\n",
              "    }\n",
              "\n",
              "    .dataframe thead th {\n",
              "        text-align: right;\n",
              "    }\n",
              "</style>\n",
              "<table border=\"1\" class=\"dataframe\">\n",
              "  <thead>\n",
              "    <tr style=\"text-align: right;\">\n",
              "      <th></th>\n",
              "      <th>주간평균</th>\n",
              "      <th>최저값</th>\n",
              "    </tr>\n",
              "    <tr>\n",
              "      <th>지역</th>\n",
              "      <th></th>\n",
              "      <th></th>\n",
              "    </tr>\n",
              "  </thead>\n",
              "  <tbody>\n",
              "    <tr>\n",
              "      <th>부산</th>\n",
              "      <td>13</td>\n",
              "      <td>10</td>\n",
              "    </tr>\n",
              "    <tr>\n",
              "      <th>인천</th>\n",
              "      <td>20</td>\n",
              "      <td>12</td>\n",
              "    </tr>\n",
              "  </tbody>\n",
              "</table>\n",
              "</div>"
            ],
            "text/plain": [
              "    주간평균  최저값\n",
              "지역           \n",
              "부산    13   10\n",
              "인천    20   12"
            ]
          },
          "metadata": {
            "tags": []
          },
          "execution_count": 87
        }
      ]
    },
    {
      "cell_type": "code",
      "metadata": {
        "id": "_Ec3ZWyu5kVA",
        "colab": {
          "base_uri": "https://localhost:8080/",
          "height": 172
        },
        "outputId": "92863d05-d2aa-46e7-a8f7-37d06eb52a25"
      },
      "source": [
        "df.loc['부산':'인천','주간평균':'최저값']"
      ],
      "execution_count": null,
      "outputs": [
        {
          "output_type": "execute_result",
          "data": {
            "text/html": [
              "<div>\n",
              "<style scoped>\n",
              "    .dataframe tbody tr th:only-of-type {\n",
              "        vertical-align: middle;\n",
              "    }\n",
              "\n",
              "    .dataframe tbody tr th {\n",
              "        vertical-align: top;\n",
              "    }\n",
              "\n",
              "    .dataframe thead th {\n",
              "        text-align: right;\n",
              "    }\n",
              "</style>\n",
              "<table border=\"1\" class=\"dataframe\">\n",
              "  <thead>\n",
              "    <tr style=\"text-align: right;\">\n",
              "      <th></th>\n",
              "      <th>주간평균</th>\n",
              "      <th>최고값</th>\n",
              "      <th>최저값</th>\n",
              "    </tr>\n",
              "    <tr>\n",
              "      <th>지역</th>\n",
              "      <th></th>\n",
              "      <th></th>\n",
              "      <th></th>\n",
              "    </tr>\n",
              "  </thead>\n",
              "  <tbody>\n",
              "    <tr>\n",
              "      <th>부산</th>\n",
              "      <td>13</td>\n",
              "      <td>18</td>\n",
              "      <td>10</td>\n",
              "    </tr>\n",
              "    <tr>\n",
              "      <th>대구</th>\n",
              "      <td>15</td>\n",
              "      <td>18</td>\n",
              "      <td>11</td>\n",
              "    </tr>\n",
              "    <tr>\n",
              "      <th>인천</th>\n",
              "      <td>20</td>\n",
              "      <td>30</td>\n",
              "      <td>12</td>\n",
              "    </tr>\n",
              "  </tbody>\n",
              "</table>\n",
              "</div>"
            ],
            "text/plain": [
              "    주간평균  최고값  최저값\n",
              "지역                \n",
              "부산    13   18   10\n",
              "대구    15   18   11\n",
              "인천    20   30   12"
            ]
          },
          "metadata": {
            "tags": []
          },
          "execution_count": 88
        }
      ]
    },
    {
      "cell_type": "code",
      "metadata": {
        "colab": {
          "base_uri": "https://localhost:8080/",
          "height": 110
        },
        "id": "A4eNrfOGqTFB",
        "outputId": "b1a053a8-8ede-43e3-af56-1e79ee4c7bb6"
      },
      "source": [
        "df.loc[['울산'],'주간평균' :'최고값']"
      ],
      "execution_count": null,
      "outputs": [
        {
          "output_type": "execute_result",
          "data": {
            "text/html": [
              "<div>\n",
              "<style scoped>\n",
              "    .dataframe tbody tr th:only-of-type {\n",
              "        vertical-align: middle;\n",
              "    }\n",
              "\n",
              "    .dataframe tbody tr th {\n",
              "        vertical-align: top;\n",
              "    }\n",
              "\n",
              "    .dataframe thead th {\n",
              "        text-align: right;\n",
              "    }\n",
              "</style>\n",
              "<table border=\"1\" class=\"dataframe\">\n",
              "  <thead>\n",
              "    <tr style=\"text-align: right;\">\n",
              "      <th></th>\n",
              "      <th>주간평균</th>\n",
              "      <th>최고값</th>\n",
              "    </tr>\n",
              "    <tr>\n",
              "      <th>지역</th>\n",
              "      <th></th>\n",
              "      <th></th>\n",
              "    </tr>\n",
              "  </thead>\n",
              "  <tbody>\n",
              "    <tr>\n",
              "      <th>울산</th>\n",
              "      <td>14</td>\n",
              "      <td>16</td>\n",
              "    </tr>\n",
              "  </tbody>\n",
              "</table>\n",
              "</div>"
            ],
            "text/plain": [
              "    주간평균  최고값\n",
              "지역           \n",
              "울산    14   16"
            ]
          },
          "metadata": {
            "tags": []
          },
          "execution_count": 96
        }
      ]
    },
    {
      "cell_type": "markdown",
      "metadata": {
        "id": "9vn-EO9V58vy"
      },
      "source": [
        "### df.iloc[행인덱스순서, 열인덱스순서]\n",
        "* 특정 열 가져오기 : df.loc[:, 열인덱스순서]\n",
        "* 특정 행 가져오기 : df.loc[행인덱스순서, :]\n",
        "* 특정 항목 가져오기 : df.loc[행인덱스순서, 열인덱스순서]"
      ]
    },
    {
      "cell_type": "code",
      "metadata": {
        "colab": {
          "base_uri": "https://localhost:8080/"
        },
        "id": "-ngPgZ75rbfk",
        "outputId": "2537aac9-8901-4c6f-d20b-3b597aab34f6"
      },
      "source": [
        "df.index"
      ],
      "execution_count": null,
      "outputs": [
        {
          "output_type": "execute_result",
          "data": {
            "text/plain": [
              "Index(['서울', '부산', '대구', '인천', '광주', '대전', '울산', '세종', '경기', '강원', '충북', '충남',\n",
              "       '전북', '전남', '경북', '경남', '제주'],\n",
              "      dtype='object', name='지역')"
            ]
          },
          "metadata": {
            "tags": []
          },
          "execution_count": 97
        }
      ]
    },
    {
      "cell_type": "code",
      "metadata": {
        "colab": {
          "base_uri": "https://localhost:8080/"
        },
        "id": "uTAtB5isrf1X",
        "outputId": "52b52020-1903-4483-c899-0b67bcefbe04"
      },
      "source": [
        "df.columns"
      ],
      "execution_count": null,
      "outputs": [
        {
          "output_type": "execute_result",
          "data": {
            "text/plain": [
              "Index(['주간평균', '최고값', '최저값'], dtype='object')"
            ]
          },
          "metadata": {
            "tags": []
          },
          "execution_count": 98
        }
      ]
    },
    {
      "cell_type": "code",
      "metadata": {
        "id": "gO8u92nq6Wwe",
        "colab": {
          "base_uri": "https://localhost:8080/"
        },
        "outputId": "5f0b328f-ee9d-44f7-b271-288dde6e21a9"
      },
      "source": [
        "#특정 열 가져오기\n",
        "#df.loc[:, ['최저값']] \n",
        "df.iloc[:, 2]"
      ],
      "execution_count": null,
      "outputs": [
        {
          "output_type": "execute_result",
          "data": {
            "text/plain": [
              "지역\n",
              "서울    16\n",
              "부산    10\n",
              "대구    11\n",
              "인천    12\n",
              "광주    15\n",
              "대전    12\n",
              "울산    11\n",
              "세종    17\n",
              "경기    13\n",
              "강원     9\n",
              "충북    14\n",
              "충남    19\n",
              "전북    14\n",
              "전남    10\n",
              "경북     8\n",
              "경남     9\n",
              "제주    11\n",
              "Name: 최저값, dtype: int64"
            ]
          },
          "metadata": {
            "tags": []
          },
          "execution_count": 104
        }
      ]
    },
    {
      "cell_type": "code",
      "metadata": {
        "id": "JLqavk_Q6dSJ",
        "colab": {
          "base_uri": "https://localhost:8080/",
          "height": 605
        },
        "outputId": "70a12e83-fffe-4796-8a64-3a76cdf13e97"
      },
      "source": [
        "#df.loc[:, ['주간평균', '최저값']]\n",
        "df.iloc[:, [0, 2]]"
      ],
      "execution_count": null,
      "outputs": [
        {
          "output_type": "execute_result",
          "data": {
            "text/html": [
              "<div>\n",
              "<style scoped>\n",
              "    .dataframe tbody tr th:only-of-type {\n",
              "        vertical-align: middle;\n",
              "    }\n",
              "\n",
              "    .dataframe tbody tr th {\n",
              "        vertical-align: top;\n",
              "    }\n",
              "\n",
              "    .dataframe thead th {\n",
              "        text-align: right;\n",
              "    }\n",
              "</style>\n",
              "<table border=\"1\" class=\"dataframe\">\n",
              "  <thead>\n",
              "    <tr style=\"text-align: right;\">\n",
              "      <th></th>\n",
              "      <th>주간평균</th>\n",
              "      <th>최저값</th>\n",
              "    </tr>\n",
              "    <tr>\n",
              "      <th>지역</th>\n",
              "      <th></th>\n",
              "      <th></th>\n",
              "    </tr>\n",
              "  </thead>\n",
              "  <tbody>\n",
              "    <tr>\n",
              "      <th>서울</th>\n",
              "      <td>20</td>\n",
              "      <td>16</td>\n",
              "    </tr>\n",
              "    <tr>\n",
              "      <th>부산</th>\n",
              "      <td>13</td>\n",
              "      <td>10</td>\n",
              "    </tr>\n",
              "    <tr>\n",
              "      <th>대구</th>\n",
              "      <td>15</td>\n",
              "      <td>11</td>\n",
              "    </tr>\n",
              "    <tr>\n",
              "      <th>인천</th>\n",
              "      <td>20</td>\n",
              "      <td>12</td>\n",
              "    </tr>\n",
              "    <tr>\n",
              "      <th>광주</th>\n",
              "      <td>19</td>\n",
              "      <td>15</td>\n",
              "    </tr>\n",
              "    <tr>\n",
              "      <th>대전</th>\n",
              "      <td>16</td>\n",
              "      <td>12</td>\n",
              "    </tr>\n",
              "    <tr>\n",
              "      <th>울산</th>\n",
              "      <td>14</td>\n",
              "      <td>11</td>\n",
              "    </tr>\n",
              "    <tr>\n",
              "      <th>세종</th>\n",
              "      <td>18</td>\n",
              "      <td>17</td>\n",
              "    </tr>\n",
              "    <tr>\n",
              "      <th>경기</th>\n",
              "      <td>20</td>\n",
              "      <td>13</td>\n",
              "    </tr>\n",
              "    <tr>\n",
              "      <th>강원</th>\n",
              "      <td>14</td>\n",
              "      <td>9</td>\n",
              "    </tr>\n",
              "    <tr>\n",
              "      <th>충북</th>\n",
              "      <td>19</td>\n",
              "      <td>14</td>\n",
              "    </tr>\n",
              "    <tr>\n",
              "      <th>충남</th>\n",
              "      <td>23</td>\n",
              "      <td>19</td>\n",
              "    </tr>\n",
              "    <tr>\n",
              "      <th>전북</th>\n",
              "      <td>23</td>\n",
              "      <td>14</td>\n",
              "    </tr>\n",
              "    <tr>\n",
              "      <th>전남</th>\n",
              "      <td>14</td>\n",
              "      <td>10</td>\n",
              "    </tr>\n",
              "    <tr>\n",
              "      <th>경북</th>\n",
              "      <td>15</td>\n",
              "      <td>8</td>\n",
              "    </tr>\n",
              "    <tr>\n",
              "      <th>경남</th>\n",
              "      <td>13</td>\n",
              "      <td>9</td>\n",
              "    </tr>\n",
              "    <tr>\n",
              "      <th>제주</th>\n",
              "      <td>14</td>\n",
              "      <td>11</td>\n",
              "    </tr>\n",
              "  </tbody>\n",
              "</table>\n",
              "</div>"
            ],
            "text/plain": [
              "    주간평균  최저값\n",
              "지역           \n",
              "서울    20   16\n",
              "부산    13   10\n",
              "대구    15   11\n",
              "인천    20   12\n",
              "광주    19   15\n",
              "대전    16   12\n",
              "울산    14   11\n",
              "세종    18   17\n",
              "경기    20   13\n",
              "강원    14    9\n",
              "충북    19   14\n",
              "충남    23   19\n",
              "전북    23   14\n",
              "전남    14   10\n",
              "경북    15    8\n",
              "경남    13    9\n",
              "제주    14   11"
            ]
          },
          "metadata": {
            "tags": []
          },
          "execution_count": 102
        }
      ]
    },
    {
      "cell_type": "code",
      "metadata": {
        "id": "hiV1UrDQ6lNJ",
        "colab": {
          "base_uri": "https://localhost:8080/",
          "height": 605
        },
        "outputId": "1c06ab9c-7387-4644-874b-9d97a278dc88"
      },
      "source": [
        "#df.loc[:, '주간평균':'최저값']\n",
        "df.iloc[:, 0:2]"
      ],
      "execution_count": null,
      "outputs": [
        {
          "output_type": "execute_result",
          "data": {
            "text/html": [
              "<div>\n",
              "<style scoped>\n",
              "    .dataframe tbody tr th:only-of-type {\n",
              "        vertical-align: middle;\n",
              "    }\n",
              "\n",
              "    .dataframe tbody tr th {\n",
              "        vertical-align: top;\n",
              "    }\n",
              "\n",
              "    .dataframe thead th {\n",
              "        text-align: right;\n",
              "    }\n",
              "</style>\n",
              "<table border=\"1\" class=\"dataframe\">\n",
              "  <thead>\n",
              "    <tr style=\"text-align: right;\">\n",
              "      <th></th>\n",
              "      <th>주간평균</th>\n",
              "      <th>최고값</th>\n",
              "    </tr>\n",
              "    <tr>\n",
              "      <th>지역</th>\n",
              "      <th></th>\n",
              "      <th></th>\n",
              "    </tr>\n",
              "  </thead>\n",
              "  <tbody>\n",
              "    <tr>\n",
              "      <th>서울</th>\n",
              "      <td>20</td>\n",
              "      <td>22</td>\n",
              "    </tr>\n",
              "    <tr>\n",
              "      <th>부산</th>\n",
              "      <td>13</td>\n",
              "      <td>18</td>\n",
              "    </tr>\n",
              "    <tr>\n",
              "      <th>대구</th>\n",
              "      <td>15</td>\n",
              "      <td>18</td>\n",
              "    </tr>\n",
              "    <tr>\n",
              "      <th>인천</th>\n",
              "      <td>20</td>\n",
              "      <td>30</td>\n",
              "    </tr>\n",
              "    <tr>\n",
              "      <th>광주</th>\n",
              "      <td>19</td>\n",
              "      <td>23</td>\n",
              "    </tr>\n",
              "    <tr>\n",
              "      <th>대전</th>\n",
              "      <td>16</td>\n",
              "      <td>20</td>\n",
              "    </tr>\n",
              "    <tr>\n",
              "      <th>울산</th>\n",
              "      <td>14</td>\n",
              "      <td>16</td>\n",
              "    </tr>\n",
              "    <tr>\n",
              "      <th>세종</th>\n",
              "      <td>18</td>\n",
              "      <td>19</td>\n",
              "    </tr>\n",
              "    <tr>\n",
              "      <th>경기</th>\n",
              "      <td>20</td>\n",
              "      <td>27</td>\n",
              "    </tr>\n",
              "    <tr>\n",
              "      <th>강원</th>\n",
              "      <td>14</td>\n",
              "      <td>18</td>\n",
              "    </tr>\n",
              "    <tr>\n",
              "      <th>충북</th>\n",
              "      <td>19</td>\n",
              "      <td>26</td>\n",
              "    </tr>\n",
              "    <tr>\n",
              "      <th>충남</th>\n",
              "      <td>23</td>\n",
              "      <td>29</td>\n",
              "    </tr>\n",
              "    <tr>\n",
              "      <th>전북</th>\n",
              "      <td>23</td>\n",
              "      <td>30</td>\n",
              "    </tr>\n",
              "    <tr>\n",
              "      <th>전남</th>\n",
              "      <td>14</td>\n",
              "      <td>27</td>\n",
              "    </tr>\n",
              "    <tr>\n",
              "      <th>경북</th>\n",
              "      <td>15</td>\n",
              "      <td>23</td>\n",
              "    </tr>\n",
              "    <tr>\n",
              "      <th>경남</th>\n",
              "      <td>13</td>\n",
              "      <td>17</td>\n",
              "    </tr>\n",
              "    <tr>\n",
              "      <th>제주</th>\n",
              "      <td>14</td>\n",
              "      <td>16</td>\n",
              "    </tr>\n",
              "  </tbody>\n",
              "</table>\n",
              "</div>"
            ],
            "text/plain": [
              "    주간평균  최고값\n",
              "지역           \n",
              "서울    20   22\n",
              "부산    13   18\n",
              "대구    15   18\n",
              "인천    20   30\n",
              "광주    19   23\n",
              "대전    16   20\n",
              "울산    14   16\n",
              "세종    18   19\n",
              "경기    20   27\n",
              "강원    14   18\n",
              "충북    19   26\n",
              "충남    23   29\n",
              "전북    23   30\n",
              "전남    14   27\n",
              "경북    15   23\n",
              "경남    13   17\n",
              "제주    14   16"
            ]
          },
          "metadata": {
            "tags": []
          },
          "execution_count": 105
        }
      ]
    },
    {
      "cell_type": "code",
      "metadata": {
        "id": "0eKovdGO6xxy",
        "colab": {
          "base_uri": "https://localhost:8080/"
        },
        "outputId": "a498e3c0-1acd-47b0-8a04-b16c623fc7b8"
      },
      "source": [
        "#특정 행 가져오기\n",
        "#df.loc['부산',:]\n",
        "df.iloc[1,:]"
      ],
      "execution_count": null,
      "outputs": [
        {
          "output_type": "execute_result",
          "data": {
            "text/plain": [
              "주간평균    13\n",
              "최고값     18\n",
              "최저값     10\n",
              "Name: 부산, dtype: int64"
            ]
          },
          "metadata": {
            "tags": []
          },
          "execution_count": 106
        }
      ]
    },
    {
      "cell_type": "code",
      "metadata": {
        "id": "fQt4kZCR63yx",
        "colab": {
          "base_uri": "https://localhost:8080/",
          "height": 141
        },
        "outputId": "aecc1cd8-93e8-4d64-93ec-d512659307b5"
      },
      "source": [
        "#df.loc[['부산', '인천'], :]\n",
        "df.iloc[[1, 3], :]"
      ],
      "execution_count": null,
      "outputs": [
        {
          "output_type": "execute_result",
          "data": {
            "text/html": [
              "<div>\n",
              "<style scoped>\n",
              "    .dataframe tbody tr th:only-of-type {\n",
              "        vertical-align: middle;\n",
              "    }\n",
              "\n",
              "    .dataframe tbody tr th {\n",
              "        vertical-align: top;\n",
              "    }\n",
              "\n",
              "    .dataframe thead th {\n",
              "        text-align: right;\n",
              "    }\n",
              "</style>\n",
              "<table border=\"1\" class=\"dataframe\">\n",
              "  <thead>\n",
              "    <tr style=\"text-align: right;\">\n",
              "      <th></th>\n",
              "      <th>주간평균</th>\n",
              "      <th>최고값</th>\n",
              "      <th>최저값</th>\n",
              "    </tr>\n",
              "    <tr>\n",
              "      <th>지역</th>\n",
              "      <th></th>\n",
              "      <th></th>\n",
              "      <th></th>\n",
              "    </tr>\n",
              "  </thead>\n",
              "  <tbody>\n",
              "    <tr>\n",
              "      <th>부산</th>\n",
              "      <td>13</td>\n",
              "      <td>18</td>\n",
              "      <td>10</td>\n",
              "    </tr>\n",
              "    <tr>\n",
              "      <th>인천</th>\n",
              "      <td>20</td>\n",
              "      <td>30</td>\n",
              "      <td>12</td>\n",
              "    </tr>\n",
              "  </tbody>\n",
              "</table>\n",
              "</div>"
            ],
            "text/plain": [
              "    주간평균  최고값  최저값\n",
              "지역                \n",
              "부산    13   18   10\n",
              "인천    20   30   12"
            ]
          },
          "metadata": {
            "tags": []
          },
          "execution_count": 107
        }
      ]
    },
    {
      "cell_type": "code",
      "metadata": {
        "id": "8sSgV4QzAGZS",
        "colab": {
          "base_uri": "https://localhost:8080/",
          "height": 172
        },
        "outputId": "628585c9-99ac-4844-8448-f3f89b894387"
      },
      "source": [
        "#df.loc['부산':'인천', :]\n",
        "df.iloc[1:4, :]"
      ],
      "execution_count": null,
      "outputs": [
        {
          "output_type": "execute_result",
          "data": {
            "text/html": [
              "<div>\n",
              "<style scoped>\n",
              "    .dataframe tbody tr th:only-of-type {\n",
              "        vertical-align: middle;\n",
              "    }\n",
              "\n",
              "    .dataframe tbody tr th {\n",
              "        vertical-align: top;\n",
              "    }\n",
              "\n",
              "    .dataframe thead th {\n",
              "        text-align: right;\n",
              "    }\n",
              "</style>\n",
              "<table border=\"1\" class=\"dataframe\">\n",
              "  <thead>\n",
              "    <tr style=\"text-align: right;\">\n",
              "      <th></th>\n",
              "      <th>주간평균</th>\n",
              "      <th>최고값</th>\n",
              "      <th>최저값</th>\n",
              "    </tr>\n",
              "    <tr>\n",
              "      <th>지역</th>\n",
              "      <th></th>\n",
              "      <th></th>\n",
              "      <th></th>\n",
              "    </tr>\n",
              "  </thead>\n",
              "  <tbody>\n",
              "    <tr>\n",
              "      <th>부산</th>\n",
              "      <td>13</td>\n",
              "      <td>18</td>\n",
              "      <td>10</td>\n",
              "    </tr>\n",
              "    <tr>\n",
              "      <th>대구</th>\n",
              "      <td>15</td>\n",
              "      <td>18</td>\n",
              "      <td>11</td>\n",
              "    </tr>\n",
              "    <tr>\n",
              "      <th>인천</th>\n",
              "      <td>20</td>\n",
              "      <td>30</td>\n",
              "      <td>12</td>\n",
              "    </tr>\n",
              "  </tbody>\n",
              "</table>\n",
              "</div>"
            ],
            "text/plain": [
              "    주간평균  최고값  최저값\n",
              "지역                \n",
              "부산    13   18   10\n",
              "대구    15   18   11\n",
              "인천    20   30   12"
            ]
          },
          "metadata": {
            "tags": []
          },
          "execution_count": 108
        }
      ]
    },
    {
      "cell_type": "code",
      "metadata": {
        "id": "xweF6XzvAIVR",
        "colab": {
          "base_uri": "https://localhost:8080/"
        },
        "outputId": "bf763f8d-9d02-4f27-ea13-a6534f8584d2"
      },
      "source": [
        "#특정 항목 가져오기\n",
        "#df.loc['부산', '주간평균']\n",
        "df.iloc[1, 0]"
      ],
      "execution_count": null,
      "outputs": [
        {
          "output_type": "execute_result",
          "data": {
            "text/plain": [
              "13"
            ]
          },
          "metadata": {
            "tags": []
          },
          "execution_count": 109
        }
      ]
    },
    {
      "cell_type": "code",
      "metadata": {
        "id": "nhAX9CKmAJ0N",
        "colab": {
          "base_uri": "https://localhost:8080/",
          "height": 141
        },
        "outputId": "2732fb87-15a0-4cc3-9614-4fbdfcea8460"
      },
      "source": [
        "#df.loc[['부산','인천'],['주간평균', '최저값']]\n",
        "df.iloc[[0,3],[0, 2]]"
      ],
      "execution_count": null,
      "outputs": [
        {
          "output_type": "execute_result",
          "data": {
            "text/html": [
              "<div>\n",
              "<style scoped>\n",
              "    .dataframe tbody tr th:only-of-type {\n",
              "        vertical-align: middle;\n",
              "    }\n",
              "\n",
              "    .dataframe tbody tr th {\n",
              "        vertical-align: top;\n",
              "    }\n",
              "\n",
              "    .dataframe thead th {\n",
              "        text-align: right;\n",
              "    }\n",
              "</style>\n",
              "<table border=\"1\" class=\"dataframe\">\n",
              "  <thead>\n",
              "    <tr style=\"text-align: right;\">\n",
              "      <th></th>\n",
              "      <th>주간평균</th>\n",
              "      <th>최저값</th>\n",
              "    </tr>\n",
              "    <tr>\n",
              "      <th>지역</th>\n",
              "      <th></th>\n",
              "      <th></th>\n",
              "    </tr>\n",
              "  </thead>\n",
              "  <tbody>\n",
              "    <tr>\n",
              "      <th>서울</th>\n",
              "      <td>20</td>\n",
              "      <td>16</td>\n",
              "    </tr>\n",
              "    <tr>\n",
              "      <th>인천</th>\n",
              "      <td>20</td>\n",
              "      <td>12</td>\n",
              "    </tr>\n",
              "  </tbody>\n",
              "</table>\n",
              "</div>"
            ],
            "text/plain": [
              "    주간평균  최저값\n",
              "지역           \n",
              "서울    20   16\n",
              "인천    20   12"
            ]
          },
          "metadata": {
            "tags": []
          },
          "execution_count": 110
        }
      ]
    },
    {
      "cell_type": "code",
      "metadata": {
        "id": "V-HoJIUAAMm-",
        "colab": {
          "base_uri": "https://localhost:8080/",
          "height": 172
        },
        "outputId": "5a88ae87-8cef-4f85-edf6-9485f146d14c"
      },
      "source": [
        "#df.loc['부산':'인천','주간평균':'최저값']\n",
        "df.iloc[1:4,0:3]"
      ],
      "execution_count": null,
      "outputs": [
        {
          "output_type": "execute_result",
          "data": {
            "text/html": [
              "<div>\n",
              "<style scoped>\n",
              "    .dataframe tbody tr th:only-of-type {\n",
              "        vertical-align: middle;\n",
              "    }\n",
              "\n",
              "    .dataframe tbody tr th {\n",
              "        vertical-align: top;\n",
              "    }\n",
              "\n",
              "    .dataframe thead th {\n",
              "        text-align: right;\n",
              "    }\n",
              "</style>\n",
              "<table border=\"1\" class=\"dataframe\">\n",
              "  <thead>\n",
              "    <tr style=\"text-align: right;\">\n",
              "      <th></th>\n",
              "      <th>주간평균</th>\n",
              "      <th>최고값</th>\n",
              "      <th>최저값</th>\n",
              "    </tr>\n",
              "    <tr>\n",
              "      <th>지역</th>\n",
              "      <th></th>\n",
              "      <th></th>\n",
              "      <th></th>\n",
              "    </tr>\n",
              "  </thead>\n",
              "  <tbody>\n",
              "    <tr>\n",
              "      <th>부산</th>\n",
              "      <td>13</td>\n",
              "      <td>18</td>\n",
              "      <td>10</td>\n",
              "    </tr>\n",
              "    <tr>\n",
              "      <th>대구</th>\n",
              "      <td>15</td>\n",
              "      <td>18</td>\n",
              "      <td>11</td>\n",
              "    </tr>\n",
              "    <tr>\n",
              "      <th>인천</th>\n",
              "      <td>20</td>\n",
              "      <td>30</td>\n",
              "      <td>12</td>\n",
              "    </tr>\n",
              "  </tbody>\n",
              "</table>\n",
              "</div>"
            ],
            "text/plain": [
              "    주간평균  최고값  최저값\n",
              "지역                \n",
              "부산    13   18   10\n",
              "대구    15   18   11\n",
              "인천    20   30   12"
            ]
          },
          "metadata": {
            "tags": []
          },
          "execution_count": 111
        }
      ]
    },
    {
      "cell_type": "markdown",
      "metadata": {
        "id": "vvpKts0-Bd-U"
      },
      "source": [
        "## **데이터프레임(DataFrame) 기본 조회와 기초 통계 메소드**\n",
        "* head(n) : 상위 n개 조회, n생략 시 5개 조회\n",
        "+ tail(n) : 하위 n개 조회, n생략 시 5개 조회\n",
        "+ describe() : 요약 통계량 계산\n",
        "+ mean() : 평균\n",
        "+ max() : 최대\n",
        "+ min() : 최소\n",
        "+ std()  : 표준편차"
      ]
    },
    {
      "cell_type": "code",
      "metadata": {
        "id": "Xl1QlqoKCdag",
        "colab": {
          "base_uri": "https://localhost:8080/",
          "height": 141
        },
        "outputId": "d5e6b857-7e24-4e86-dec6-02d78086a8dd"
      },
      "source": [
        "df.head(2)"
      ],
      "execution_count": null,
      "outputs": [
        {
          "output_type": "execute_result",
          "data": {
            "text/html": [
              "<div>\n",
              "<style scoped>\n",
              "    .dataframe tbody tr th:only-of-type {\n",
              "        vertical-align: middle;\n",
              "    }\n",
              "\n",
              "    .dataframe tbody tr th {\n",
              "        vertical-align: top;\n",
              "    }\n",
              "\n",
              "    .dataframe thead th {\n",
              "        text-align: right;\n",
              "    }\n",
              "</style>\n",
              "<table border=\"1\" class=\"dataframe\">\n",
              "  <thead>\n",
              "    <tr style=\"text-align: right;\">\n",
              "      <th></th>\n",
              "      <th>주간평균</th>\n",
              "      <th>최고값</th>\n",
              "      <th>최저값</th>\n",
              "    </tr>\n",
              "    <tr>\n",
              "      <th>지역</th>\n",
              "      <th></th>\n",
              "      <th></th>\n",
              "      <th></th>\n",
              "    </tr>\n",
              "  </thead>\n",
              "  <tbody>\n",
              "    <tr>\n",
              "      <th>서울</th>\n",
              "      <td>20</td>\n",
              "      <td>22</td>\n",
              "      <td>16</td>\n",
              "    </tr>\n",
              "    <tr>\n",
              "      <th>부산</th>\n",
              "      <td>13</td>\n",
              "      <td>18</td>\n",
              "      <td>10</td>\n",
              "    </tr>\n",
              "  </tbody>\n",
              "</table>\n",
              "</div>"
            ],
            "text/plain": [
              "    주간평균  최고값  최저값\n",
              "지역                \n",
              "서울    20   22   16\n",
              "부산    13   18   10"
            ]
          },
          "metadata": {
            "tags": []
          },
          "execution_count": 112
        }
      ]
    },
    {
      "cell_type": "code",
      "metadata": {
        "id": "bSbGKI_8CdYN",
        "colab": {
          "base_uri": "https://localhost:8080/",
          "height": 172
        },
        "outputId": "417aadaf-9f48-43aa-fc8b-9888a1efcab5"
      },
      "source": [
        "df.tail(2)"
      ],
      "execution_count": null,
      "outputs": [
        {
          "output_type": "error",
          "ename": "AttributeError",
          "evalue": "ignored",
          "traceback": [
            "\u001b[0;31m---------------------------------------------------------------------------\u001b[0m",
            "\u001b[0;31mAttributeError\u001b[0m                            Traceback (most recent call last)",
            "\u001b[0;32m<ipython-input-139-7e7e68462b21>\u001b[0m in \u001b[0;36m<module>\u001b[0;34m()\u001b[0m\n\u001b[0;32m----> 1\u001b[0;31m \u001b[0mdf\u001b[0m\u001b[0;34m.\u001b[0m\u001b[0mtail\u001b[0m\u001b[0;34m(\u001b[0m\u001b[0;36m2\u001b[0m\u001b[0;34m)\u001b[0m\u001b[0;34m\u001b[0m\u001b[0;34m\u001b[0m\u001b[0m\n\u001b[0m",
            "\u001b[0;31mAttributeError\u001b[0m: 'function' object has no attribute 'tail'"
          ]
        }
      ]
    },
    {
      "cell_type": "code",
      "metadata": {
        "id": "AFi0th9aCsbf",
        "colab": {
          "base_uri": "https://localhost:8080/",
          "height": 172
        },
        "outputId": "aeec6c46-f144-4ff1-e4d2-4848eaabb74b"
      },
      "source": [
        "df.describe()"
      ],
      "execution_count": null,
      "outputs": [
        {
          "output_type": "error",
          "ename": "AttributeError",
          "evalue": "ignored",
          "traceback": [
            "\u001b[0;31m---------------------------------------------------------------------------\u001b[0m",
            "\u001b[0;31mAttributeError\u001b[0m                            Traceback (most recent call last)",
            "\u001b[0;32m<ipython-input-138-ea8415b8a3ee>\u001b[0m in \u001b[0;36m<module>\u001b[0;34m()\u001b[0m\n\u001b[0;32m----> 1\u001b[0;31m \u001b[0mdf\u001b[0m\u001b[0;34m.\u001b[0m\u001b[0mdescribe\u001b[0m\u001b[0;34m(\u001b[0m\u001b[0;34m)\u001b[0m\u001b[0;34m\u001b[0m\u001b[0;34m\u001b[0m\u001b[0m\n\u001b[0m",
            "\u001b[0;31mAttributeError\u001b[0m: 'function' object has no attribute 'describe'"
          ]
        }
      ]
    },
    {
      "cell_type": "markdown",
      "metadata": {
        "id": "H_xl7uLIEn_c"
      },
      "source": [
        "## 자주사용되는 메소드\n"
      ]
    },
    {
      "cell_type": "markdown",
      "metadata": {
        "id": "w6drZtA7rbMk"
      },
      "source": [
        "### 행열 전환 : df.T\n"
      ]
    },
    {
      "cell_type": "code",
      "metadata": {
        "id": "7sooCeH0rAtu",
        "colab": {
          "base_uri": "https://localhost:8080/",
          "height": 190
        },
        "outputId": "7de353d6-7030-471c-e58a-8feea8edc100"
      },
      "source": [
        "df2 = df.T\n",
        "df2"
      ],
      "execution_count": null,
      "outputs": [
        {
          "output_type": "error",
          "ename": "AttributeError",
          "evalue": "ignored",
          "traceback": [
            "\u001b[0;31m---------------------------------------------------------------------------\u001b[0m",
            "\u001b[0;31mAttributeError\u001b[0m                            Traceback (most recent call last)",
            "\u001b[0;32m<ipython-input-134-67eeeb2a6e21>\u001b[0m in \u001b[0;36m<module>\u001b[0;34m()\u001b[0m\n\u001b[0;32m----> 1\u001b[0;31m \u001b[0mdf2\u001b[0m \u001b[0;34m=\u001b[0m \u001b[0mdf\u001b[0m\u001b[0;34m.\u001b[0m\u001b[0mT\u001b[0m\u001b[0;34m\u001b[0m\u001b[0;34m\u001b[0m\u001b[0m\n\u001b[0m\u001b[1;32m      2\u001b[0m \u001b[0mdf2\u001b[0m\u001b[0;34m\u001b[0m\u001b[0;34m\u001b[0m\u001b[0m\n",
            "\u001b[0;31mAttributeError\u001b[0m: 'function' object has no attribute 'T'"
          ]
        }
      ]
    },
    {
      "cell_type": "markdown",
      "metadata": {
        "id": "fUaPuiV5rUpB"
      },
      "source": [
        ""
      ]
    },
    {
      "cell_type": "markdown",
      "metadata": {
        "id": "k48MohOerccD"
      },
      "source": [
        "### 정렬\n",
        "+ 행열 인덱스 정렬 : df.sort_index(axis=n), n생략 또는 0:행, 1:열\n",
        "+ 행렬 값 정렬 : df.sort_values()\n"
      ]
    },
    {
      "cell_type": "code",
      "metadata": {
        "id": "JWafEXHzrMMP",
        "colab": {
          "base_uri": "https://localhost:8080/"
        },
        "outputId": "ebaecafd-b7ab-4b2d-f775-9feaef1d2936"
      },
      "source": [
        "df"
      ],
      "execution_count": null,
      "outputs": [
        {
          "output_type": "execute_result",
          "data": {
            "text/plain": [
              "<bound method DataFrame.sort_index of     주간평균  최고값  최저값\n",
              "지역                \n",
              "서울    20   22   16\n",
              "부산    13   18   10\n",
              "대구    15   18   11\n",
              "인천    20   30   12\n",
              "광주    19   23   15\n",
              "대전    16   20   12\n",
              "울산    14   16   11\n",
              "세종    18   19   17\n",
              "경기    20   27   13\n",
              "강원    14   18    9\n",
              "충북    19   26   14\n",
              "충남    23   29   19\n",
              "전북    23   30   14\n",
              "전남    14   27   10\n",
              "경북    15   23    8\n",
              "경남    13   17    9\n",
              "제주    14   16   11>"
            ]
          },
          "metadata": {
            "tags": []
          },
          "execution_count": 135
        }
      ]
    },
    {
      "cell_type": "code",
      "metadata": {
        "id": "Si9uXRvPrqES",
        "colab": {
          "base_uri": "https://localhost:8080/",
          "height": 172
        },
        "outputId": "73b54330-20cd-4849-d114-b00b577683ff"
      },
      "source": [
        "df.sort_index()"
      ],
      "execution_count": null,
      "outputs": [
        {
          "output_type": "error",
          "ename": "AttributeError",
          "evalue": "ignored",
          "traceback": [
            "\u001b[0;31m---------------------------------------------------------------------------\u001b[0m",
            "\u001b[0;31mAttributeError\u001b[0m                            Traceback (most recent call last)",
            "\u001b[0;32m<ipython-input-136-02a473b4132d>\u001b[0m in \u001b[0;36m<module>\u001b[0;34m()\u001b[0m\n\u001b[0;32m----> 1\u001b[0;31m \u001b[0mdf\u001b[0m\u001b[0;34m.\u001b[0m\u001b[0msort_index\u001b[0m\u001b[0;34m(\u001b[0m\u001b[0;34m)\u001b[0m\u001b[0;34m\u001b[0m\u001b[0;34m\u001b[0m\u001b[0m\n\u001b[0m",
            "\u001b[0;31mAttributeError\u001b[0m: 'function' object has no attribute 'sort_index'"
          ]
        }
      ]
    },
    {
      "cell_type": "code",
      "metadata": {
        "id": "jods3PC-r2pY",
        "colab": {
          "base_uri": "https://localhost:8080/",
          "height": 172
        },
        "outputId": "6dd06112-0e91-44f9-dd1d-494fcb2890ea"
      },
      "source": [
        "df.sort_values('주간평균', ascending=False)"
      ],
      "execution_count": null,
      "outputs": [
        {
          "output_type": "error",
          "ename": "AttributeError",
          "evalue": "ignored",
          "traceback": [
            "\u001b[0;31m---------------------------------------------------------------------------\u001b[0m",
            "\u001b[0;31mAttributeError\u001b[0m                            Traceback (most recent call last)",
            "\u001b[0;32m<ipython-input-137-de5cb2a314dd>\u001b[0m in \u001b[0;36m<module>\u001b[0;34m()\u001b[0m\n\u001b[0;32m----> 1\u001b[0;31m \u001b[0mdf\u001b[0m\u001b[0;34m.\u001b[0m\u001b[0msort_values\u001b[0m\u001b[0;34m(\u001b[0m\u001b[0;34m'주간평균'\u001b[0m\u001b[0;34m,\u001b[0m \u001b[0mascending\u001b[0m\u001b[0;34m=\u001b[0m\u001b[0;32mFalse\u001b[0m\u001b[0;34m)\u001b[0m\u001b[0;34m\u001b[0m\u001b[0;34m\u001b[0m\u001b[0m\n\u001b[0m",
            "\u001b[0;31mAttributeError\u001b[0m: 'function' object has no attribute 'sort_values'"
          ]
        }
      ]
    },
    {
      "cell_type": "markdown",
      "metadata": {
        "id": "jrClfnlx3yDz"
      },
      "source": [
        "### 문자열 처리\n",
        "* df['열명'].str"
      ]
    },
    {
      "cell_type": "code",
      "metadata": {
        "id": "voY9rfxo0hk5",
        "colab": {
          "base_uri": "https://localhost:8080/",
          "height": 1000
        },
        "outputId": "89311948-c86f-478e-8532-5eec57913608"
      },
      "source": [
        "data = pd.read_excel('/content/drive/MyDrive/파이썬특강/python2021/data/특성화학과정보_컴퓨터.xlsx')\n",
        "data.head()"
      ],
      "execution_count": null,
      "outputs": [
        {
          "output_type": "execute_result",
          "data": {
            "text/html": [
              "<div>\n",
              "<style scoped>\n",
              "    .dataframe tbody tr th:only-of-type {\n",
              "        vertical-align: middle;\n",
              "    }\n",
              "\n",
              "    .dataframe tbody tr th {\n",
              "        vertical-align: top;\n",
              "    }\n",
              "\n",
              "    .dataframe thead th {\n",
              "        text-align: right;\n",
              "    }\n",
              "</style>\n",
              "<table border=\"1\" class=\"dataframe\">\n",
              "  <thead>\n",
              "    <tr style=\"text-align: right;\">\n",
              "      <th></th>\n",
              "      <th>No</th>\n",
              "      <th>학과명</th>\n",
              "      <th>대학명</th>\n",
              "      <th>폐과</th>\n",
              "      <th>학과 특성화명</th>\n",
              "      <th>특성화 구분</th>\n",
              "      <th>특성화분류 (대-중-소)</th>\n",
              "      <th>Unnamed: 7</th>\n",
              "      <th>Unnamed: 8</th>\n",
              "      <th>구분</th>\n",
              "      <th>학교종류</th>\n",
              "      <th>지역</th>\n",
              "      <th>설립유형</th>\n",
              "      <th>주야구분</th>\n",
              "      <th>표준분류계열(대)</th>\n",
              "      <th>표준분류계열(중)</th>\n",
              "      <th>표준분류계열(소)</th>\n",
              "      <th>관심</th>\n",
              "    </tr>\n",
              "  </thead>\n",
              "  <tbody>\n",
              "    <tr>\n",
              "      <th>0</th>\n",
              "      <td>1</td>\n",
              "      <td>IT융합학부 컴퓨터정보·보안전공</td>\n",
              "      <td>우송대학교</td>\n",
              "      <td>NaN</td>\n",
              "      <td>디지털미디어분야 특성화</td>\n",
              "      <td>중점육성분야</td>\n",
              "      <td>정보·통신</td>\n",
              "      <td>IT 정보 서비스</td>\n",
              "      <td>정보 보호·보안</td>\n",
              "      <td>본교</td>\n",
              "      <td>대학교</td>\n",
              "      <td>대전</td>\n",
              "      <td>사립</td>\n",
              "      <td>주간</td>\n",
              "      <td>공학계열</td>\n",
              "      <td>전기・전자・컴퓨터</td>\n",
              "      <td>전산학・컴퓨터공학</td>\n",
              "      <td>NaN</td>\n",
              "    </tr>\n",
              "    <tr>\n",
              "      <th>1</th>\n",
              "      <td>2</td>\n",
              "      <td>디자인학부</td>\n",
              "      <td>세명대학교</td>\n",
              "      <td>NaN</td>\n",
              "      <td>컴퓨터 그래픽스 운용 기능사</td>\n",
              "      <td>중점육성분야</td>\n",
              "      <td>문화·예술·체육</td>\n",
              "      <td>디자인</td>\n",
              "      <td>디자인(융합)</td>\n",
              "      <td>본교</td>\n",
              "      <td>대학교</td>\n",
              "      <td>충북</td>\n",
              "      <td>사립</td>\n",
              "      <td>주간</td>\n",
              "      <td>예체능계열</td>\n",
              "      <td>미술</td>\n",
              "      <td>디자인</td>\n",
              "      <td>NaN</td>\n",
              "    </tr>\n",
              "    <tr>\n",
              "      <th>2</th>\n",
              "      <td>3</td>\n",
              "      <td>소프트웨어학부</td>\n",
              "      <td>중앙대학교</td>\n",
              "      <td>NaN</td>\n",
              "      <td>프로그래밍, 컴퓨터 기본구조, 소프트웨어공학, 시스템소프트웨어, 인공지능, 데이터베...</td>\n",
              "      <td>중점육성분야</td>\n",
              "      <td>정보·통신</td>\n",
              "      <td>소프트웨어 개발</td>\n",
              "      <td>소프트웨어(융합)</td>\n",
              "      <td>본교</td>\n",
              "      <td>대학교</td>\n",
              "      <td>서울</td>\n",
              "      <td>사립</td>\n",
              "      <td>주간</td>\n",
              "      <td>공학계열</td>\n",
              "      <td>전기・전자・컴퓨터</td>\n",
              "      <td>전산학・컴퓨터공학</td>\n",
              "      <td>NaN</td>\n",
              "    </tr>\n",
              "    <tr>\n",
              "      <th>3</th>\n",
              "      <td>4</td>\n",
              "      <td>융합컴퓨터·미디어학부</td>\n",
              "      <td>목원대학교</td>\n",
              "      <td>NaN</td>\n",
              "      <td>문화예술융합특성화(D트랙)</td>\n",
              "      <td>중점육성분야</td>\n",
              "      <td>정보·통신</td>\n",
              "      <td>IT 기기 및 기술</td>\n",
              "      <td>IT 기기 및 기술(융합)</td>\n",
              "      <td>본교</td>\n",
              "      <td>대학교</td>\n",
              "      <td>대전</td>\n",
              "      <td>사립</td>\n",
              "      <td>주간</td>\n",
              "      <td>공학계열</td>\n",
              "      <td>전기・전자・컴퓨터</td>\n",
              "      <td>전산학・컴퓨터공학</td>\n",
              "      <td>NaN</td>\n",
              "    </tr>\n",
              "    <tr>\n",
              "      <th>4</th>\n",
              "      <td>5</td>\n",
              "      <td>전기전자컴퓨터학부 컴퓨터과학과</td>\n",
              "      <td>상명대학교</td>\n",
              "      <td>NaN</td>\n",
              "      <td>SW중심대학 사업단</td>\n",
              "      <td>중점육성분야</td>\n",
              "      <td>정보·통신</td>\n",
              "      <td>소프트웨어 개발</td>\n",
              "      <td>소프트웨어(융합)</td>\n",
              "      <td>본교</td>\n",
              "      <td>대학교</td>\n",
              "      <td>서울</td>\n",
              "      <td>사립</td>\n",
              "      <td>주간</td>\n",
              "      <td>공학계열</td>\n",
              "      <td>전기・전자・컴퓨터</td>\n",
              "      <td>전산학・컴퓨터공학</td>\n",
              "      <td>NaN</td>\n",
              "    </tr>\n",
              "  </tbody>\n",
              "</table>\n",
              "</div>"
            ],
            "text/plain": [
              "   No                학과명    대학명  폐과  ... 표준분류계열(대)  표준분류계열(중)  표준분류계열(소)  관심\n",
              "0   1  IT융합학부 컴퓨터정보·보안전공  우송대학교 NaN  ...      공학계열  전기・전자・컴퓨터  전산학・컴퓨터공학 NaN\n",
              "1   2              디자인학부  세명대학교 NaN  ...     예체능계열         미술        디자인 NaN\n",
              "2   3            소프트웨어학부  중앙대학교 NaN  ...      공학계열  전기・전자・컴퓨터  전산학・컴퓨터공학 NaN\n",
              "3   4        융합컴퓨터·미디어학부  목원대학교 NaN  ...      공학계열  전기・전자・컴퓨터  전산학・컴퓨터공학 NaN\n",
              "4   5   전기전자컴퓨터학부 컴퓨터과학과  상명대학교 NaN  ...      공학계열  전기・전자・컴퓨터  전산학・컴퓨터공학 NaN\n",
              "\n",
              "[5 rows x 18 columns]"
            ]
          },
          "metadata": {
            "tags": []
          },
          "execution_count": 164
        }
      ]
    },
    {
      "cell_type": "code",
      "metadata": {
        "colab": {
          "base_uri": "https://localhost:8080/",
          "height": 35
        },
        "id": "N6iJpJnquV74",
        "outputId": "c6a81714-8797-4ff6-b4f9-d63c7b666e77"
      },
      "source": [
        "s = '울산과학대학교'\n",
        "s[:-3]"
      ],
      "execution_count": null,
      "outputs": [
        {
          "output_type": "execute_result",
          "data": {
            "application/vnd.google.colaboratory.intrinsic+json": {
              "type": "string"
            },
            "text/plain": [
              "'울산과학'"
            ]
          },
          "metadata": {
            "tags": []
          },
          "execution_count": 165
        }
      ]
    },
    {
      "cell_type": "code",
      "metadata": {
        "colab": {
          "base_uri": "https://localhost:8080/",
          "height": 715
        },
        "id": "_-JiwNmIv5yC",
        "outputId": "7dc0187f-9c97-4de7-b754-0478640dbdb3"
      },
      "source": [
        "data.head()"
      ],
      "execution_count": null,
      "outputs": [
        {
          "output_type": "execute_result",
          "data": {
            "text/html": [
              "<div>\n",
              "<style scoped>\n",
              "    .dataframe tbody tr th:only-of-type {\n",
              "        vertical-align: middle;\n",
              "    }\n",
              "\n",
              "    .dataframe tbody tr th {\n",
              "        vertical-align: top;\n",
              "    }\n",
              "\n",
              "    .dataframe thead th {\n",
              "        text-align: right;\n",
              "    }\n",
              "</style>\n",
              "<table border=\"1\" class=\"dataframe\">\n",
              "  <thead>\n",
              "    <tr style=\"text-align: right;\">\n",
              "      <th></th>\n",
              "      <th>No</th>\n",
              "      <th>학과명</th>\n",
              "      <th>대학명</th>\n",
              "      <th>폐과</th>\n",
              "      <th>학과 특성화명</th>\n",
              "      <th>특성화 구분</th>\n",
              "      <th>특성화분류 (대-중-소)</th>\n",
              "      <th>Unnamed: 7</th>\n",
              "      <th>Unnamed: 8</th>\n",
              "      <th>구분</th>\n",
              "      <th>학교종류</th>\n",
              "      <th>지역</th>\n",
              "      <th>설립유형</th>\n",
              "      <th>주야구분</th>\n",
              "      <th>표준분류계열(대)</th>\n",
              "      <th>표준분류계열(중)</th>\n",
              "      <th>표준분류계열(소)</th>\n",
              "      <th>관심</th>\n",
              "    </tr>\n",
              "  </thead>\n",
              "  <tbody>\n",
              "    <tr>\n",
              "      <th>0</th>\n",
              "      <td>1</td>\n",
              "      <td>IT융합학부 컴퓨터정보·보안전공</td>\n",
              "      <td>우송대학교</td>\n",
              "      <td>NaN</td>\n",
              "      <td>디지털미디어분야 특성화</td>\n",
              "      <td>중점육성분야</td>\n",
              "      <td>정보·통신</td>\n",
              "      <td>IT 정보 서비스</td>\n",
              "      <td>정보 보호·보안</td>\n",
              "      <td>본교</td>\n",
              "      <td>대학교</td>\n",
              "      <td>대전</td>\n",
              "      <td>사립</td>\n",
              "      <td>주간</td>\n",
              "      <td>공학계열</td>\n",
              "      <td>전기・전자・컴퓨터</td>\n",
              "      <td>전산학・컴퓨터공학</td>\n",
              "      <td>NaN</td>\n",
              "    </tr>\n",
              "    <tr>\n",
              "      <th>1</th>\n",
              "      <td>2</td>\n",
              "      <td>디자인학부</td>\n",
              "      <td>세명대학교</td>\n",
              "      <td>NaN</td>\n",
              "      <td>컴퓨터 그래픽스 운용 기능사</td>\n",
              "      <td>중점육성분야</td>\n",
              "      <td>문화·예술·체육</td>\n",
              "      <td>디자인</td>\n",
              "      <td>디자인(융합)</td>\n",
              "      <td>본교</td>\n",
              "      <td>대학교</td>\n",
              "      <td>충북</td>\n",
              "      <td>사립</td>\n",
              "      <td>주간</td>\n",
              "      <td>예체능계열</td>\n",
              "      <td>미술</td>\n",
              "      <td>디자인</td>\n",
              "      <td>NaN</td>\n",
              "    </tr>\n",
              "    <tr>\n",
              "      <th>2</th>\n",
              "      <td>3</td>\n",
              "      <td>소프트웨어학부</td>\n",
              "      <td>중앙대학교</td>\n",
              "      <td>NaN</td>\n",
              "      <td>프로그래밍, 컴퓨터 기본구조, 소프트웨어공학, 시스템소프트웨어, 인공지능, 데이터베...</td>\n",
              "      <td>중점육성분야</td>\n",
              "      <td>정보·통신</td>\n",
              "      <td>소프트웨어 개발</td>\n",
              "      <td>소프트웨어(융합)</td>\n",
              "      <td>본교</td>\n",
              "      <td>대학교</td>\n",
              "      <td>서울</td>\n",
              "      <td>사립</td>\n",
              "      <td>주간</td>\n",
              "      <td>공학계열</td>\n",
              "      <td>전기・전자・컴퓨터</td>\n",
              "      <td>전산학・컴퓨터공학</td>\n",
              "      <td>NaN</td>\n",
              "    </tr>\n",
              "    <tr>\n",
              "      <th>3</th>\n",
              "      <td>4</td>\n",
              "      <td>융합컴퓨터·미디어학부</td>\n",
              "      <td>목원대학교</td>\n",
              "      <td>NaN</td>\n",
              "      <td>문화예술융합특성화(D트랙)</td>\n",
              "      <td>중점육성분야</td>\n",
              "      <td>정보·통신</td>\n",
              "      <td>IT 기기 및 기술</td>\n",
              "      <td>IT 기기 및 기술(융합)</td>\n",
              "      <td>본교</td>\n",
              "      <td>대학교</td>\n",
              "      <td>대전</td>\n",
              "      <td>사립</td>\n",
              "      <td>주간</td>\n",
              "      <td>공학계열</td>\n",
              "      <td>전기・전자・컴퓨터</td>\n",
              "      <td>전산학・컴퓨터공학</td>\n",
              "      <td>NaN</td>\n",
              "    </tr>\n",
              "    <tr>\n",
              "      <th>4</th>\n",
              "      <td>5</td>\n",
              "      <td>전기전자컴퓨터학부 컴퓨터과학과</td>\n",
              "      <td>상명대학교</td>\n",
              "      <td>NaN</td>\n",
              "      <td>SW중심대학 사업단</td>\n",
              "      <td>중점육성분야</td>\n",
              "      <td>정보·통신</td>\n",
              "      <td>소프트웨어 개발</td>\n",
              "      <td>소프트웨어(융합)</td>\n",
              "      <td>본교</td>\n",
              "      <td>대학교</td>\n",
              "      <td>서울</td>\n",
              "      <td>사립</td>\n",
              "      <td>주간</td>\n",
              "      <td>공학계열</td>\n",
              "      <td>전기・전자・컴퓨터</td>\n",
              "      <td>전산학・컴퓨터공학</td>\n",
              "      <td>NaN</td>\n",
              "    </tr>\n",
              "  </tbody>\n",
              "</table>\n",
              "</div>"
            ],
            "text/plain": [
              "   No                학과명    대학명  폐과  ... 표준분류계열(대)  표준분류계열(중)  표준분류계열(소)  관심\n",
              "0   1  IT융합학부 컴퓨터정보·보안전공  우송대학교 NaN  ...      공학계열  전기・전자・컴퓨터  전산학・컴퓨터공학 NaN\n",
              "1   2              디자인학부  세명대학교 NaN  ...     예체능계열         미술        디자인 NaN\n",
              "2   3            소프트웨어학부  중앙대학교 NaN  ...      공학계열  전기・전자・컴퓨터  전산학・컴퓨터공학 NaN\n",
              "3   4        융합컴퓨터·미디어학부  목원대학교 NaN  ...      공학계열  전기・전자・컴퓨터  전산학・컴퓨터공학 NaN\n",
              "4   5   전기전자컴퓨터학부 컴퓨터과학과  상명대학교 NaN  ...      공학계열  전기・전자・컴퓨터  전산학・컴퓨터공학 NaN\n",
              "\n",
              "[5 rows x 18 columns]"
            ]
          },
          "metadata": {
            "tags": []
          },
          "execution_count": 166
        }
      ]
    },
    {
      "cell_type": "code",
      "metadata": {
        "id": "sqvTfvWM4S8l"
      },
      "source": [
        "data['대학명'] = data['대학명'].str[:-3]"
      ],
      "execution_count": null,
      "outputs": []
    },
    {
      "cell_type": "code",
      "metadata": {
        "colab": {
          "base_uri": "https://localhost:8080/",
          "height": 715
        },
        "id": "pmzEan8SwD4Q",
        "outputId": "7ff0c6fb-1e1e-4de7-b60a-32a30c4677ff"
      },
      "source": [
        "data.head()"
      ],
      "execution_count": null,
      "outputs": [
        {
          "output_type": "execute_result",
          "data": {
            "text/html": [
              "<div>\n",
              "<style scoped>\n",
              "    .dataframe tbody tr th:only-of-type {\n",
              "        vertical-align: middle;\n",
              "    }\n",
              "\n",
              "    .dataframe tbody tr th {\n",
              "        vertical-align: top;\n",
              "    }\n",
              "\n",
              "    .dataframe thead th {\n",
              "        text-align: right;\n",
              "    }\n",
              "</style>\n",
              "<table border=\"1\" class=\"dataframe\">\n",
              "  <thead>\n",
              "    <tr style=\"text-align: right;\">\n",
              "      <th></th>\n",
              "      <th>No</th>\n",
              "      <th>학과명</th>\n",
              "      <th>대학명</th>\n",
              "      <th>폐과</th>\n",
              "      <th>학과 특성화명</th>\n",
              "      <th>특성화 구분</th>\n",
              "      <th>특성화분류 (대-중-소)</th>\n",
              "      <th>Unnamed: 7</th>\n",
              "      <th>Unnamed: 8</th>\n",
              "      <th>구분</th>\n",
              "      <th>학교종류</th>\n",
              "      <th>지역</th>\n",
              "      <th>설립유형</th>\n",
              "      <th>주야구분</th>\n",
              "      <th>표준분류계열(대)</th>\n",
              "      <th>표준분류계열(중)</th>\n",
              "      <th>표준분류계열(소)</th>\n",
              "      <th>관심</th>\n",
              "    </tr>\n",
              "  </thead>\n",
              "  <tbody>\n",
              "    <tr>\n",
              "      <th>0</th>\n",
              "      <td>1</td>\n",
              "      <td>IT융합학부 컴퓨터정보·보안전공</td>\n",
              "      <td>우송</td>\n",
              "      <td>NaN</td>\n",
              "      <td>디지털미디어분야 특성화</td>\n",
              "      <td>중점육성분야</td>\n",
              "      <td>정보·통신</td>\n",
              "      <td>IT 정보 서비스</td>\n",
              "      <td>정보 보호·보안</td>\n",
              "      <td>본교</td>\n",
              "      <td>대학교</td>\n",
              "      <td>대전</td>\n",
              "      <td>사립</td>\n",
              "      <td>주간</td>\n",
              "      <td>공학계열</td>\n",
              "      <td>전기・전자・컴퓨터</td>\n",
              "      <td>전산학・컴퓨터공학</td>\n",
              "      <td>NaN</td>\n",
              "    </tr>\n",
              "    <tr>\n",
              "      <th>1</th>\n",
              "      <td>2</td>\n",
              "      <td>디자인학부</td>\n",
              "      <td>세명</td>\n",
              "      <td>NaN</td>\n",
              "      <td>컴퓨터 그래픽스 운용 기능사</td>\n",
              "      <td>중점육성분야</td>\n",
              "      <td>문화·예술·체육</td>\n",
              "      <td>디자인</td>\n",
              "      <td>디자인(융합)</td>\n",
              "      <td>본교</td>\n",
              "      <td>대학교</td>\n",
              "      <td>충북</td>\n",
              "      <td>사립</td>\n",
              "      <td>주간</td>\n",
              "      <td>예체능계열</td>\n",
              "      <td>미술</td>\n",
              "      <td>디자인</td>\n",
              "      <td>NaN</td>\n",
              "    </tr>\n",
              "    <tr>\n",
              "      <th>2</th>\n",
              "      <td>3</td>\n",
              "      <td>소프트웨어학부</td>\n",
              "      <td>중앙</td>\n",
              "      <td>NaN</td>\n",
              "      <td>프로그래밍, 컴퓨터 기본구조, 소프트웨어공학, 시스템소프트웨어, 인공지능, 데이터베...</td>\n",
              "      <td>중점육성분야</td>\n",
              "      <td>정보·통신</td>\n",
              "      <td>소프트웨어 개발</td>\n",
              "      <td>소프트웨어(융합)</td>\n",
              "      <td>본교</td>\n",
              "      <td>대학교</td>\n",
              "      <td>서울</td>\n",
              "      <td>사립</td>\n",
              "      <td>주간</td>\n",
              "      <td>공학계열</td>\n",
              "      <td>전기・전자・컴퓨터</td>\n",
              "      <td>전산학・컴퓨터공학</td>\n",
              "      <td>NaN</td>\n",
              "    </tr>\n",
              "    <tr>\n",
              "      <th>3</th>\n",
              "      <td>4</td>\n",
              "      <td>융합컴퓨터·미디어학부</td>\n",
              "      <td>목원</td>\n",
              "      <td>NaN</td>\n",
              "      <td>문화예술융합특성화(D트랙)</td>\n",
              "      <td>중점육성분야</td>\n",
              "      <td>정보·통신</td>\n",
              "      <td>IT 기기 및 기술</td>\n",
              "      <td>IT 기기 및 기술(융합)</td>\n",
              "      <td>본교</td>\n",
              "      <td>대학교</td>\n",
              "      <td>대전</td>\n",
              "      <td>사립</td>\n",
              "      <td>주간</td>\n",
              "      <td>공학계열</td>\n",
              "      <td>전기・전자・컴퓨터</td>\n",
              "      <td>전산학・컴퓨터공학</td>\n",
              "      <td>NaN</td>\n",
              "    </tr>\n",
              "    <tr>\n",
              "      <th>4</th>\n",
              "      <td>5</td>\n",
              "      <td>전기전자컴퓨터학부 컴퓨터과학과</td>\n",
              "      <td>상명</td>\n",
              "      <td>NaN</td>\n",
              "      <td>SW중심대학 사업단</td>\n",
              "      <td>중점육성분야</td>\n",
              "      <td>정보·통신</td>\n",
              "      <td>소프트웨어 개발</td>\n",
              "      <td>소프트웨어(융합)</td>\n",
              "      <td>본교</td>\n",
              "      <td>대학교</td>\n",
              "      <td>서울</td>\n",
              "      <td>사립</td>\n",
              "      <td>주간</td>\n",
              "      <td>공학계열</td>\n",
              "      <td>전기・전자・컴퓨터</td>\n",
              "      <td>전산학・컴퓨터공학</td>\n",
              "      <td>NaN</td>\n",
              "    </tr>\n",
              "  </tbody>\n",
              "</table>\n",
              "</div>"
            ],
            "text/plain": [
              "   No                학과명 대학명  폐과  ... 표준분류계열(대)  표준분류계열(중)  표준분류계열(소)  관심\n",
              "0   1  IT융합학부 컴퓨터정보·보안전공  우송 NaN  ...      공학계열  전기・전자・컴퓨터  전산학・컴퓨터공학 NaN\n",
              "1   2              디자인학부  세명 NaN  ...     예체능계열         미술        디자인 NaN\n",
              "2   3            소프트웨어학부  중앙 NaN  ...      공학계열  전기・전자・컴퓨터  전산학・컴퓨터공학 NaN\n",
              "3   4        융합컴퓨터·미디어학부  목원 NaN  ...      공학계열  전기・전자・컴퓨터  전산학・컴퓨터공학 NaN\n",
              "4   5   전기전자컴퓨터학부 컴퓨터과학과  상명 NaN  ...      공학계열  전기・전자・컴퓨터  전산학・컴퓨터공학 NaN\n",
              "\n",
              "[5 rows x 18 columns]"
            ]
          },
          "metadata": {
            "tags": []
          },
          "execution_count": 169
        }
      ]
    },
    {
      "cell_type": "code",
      "metadata": {
        "colab": {
          "base_uri": "https://localhost:8080/"
        },
        "id": "QNlH0LGTyEqZ",
        "outputId": "d9a52b47-a67f-4eb6-c1dc-4fc7eea473f8"
      },
      "source": [
        "seoul = data[data['지역'] == '서울']\n",
        "seoul.info()"
      ],
      "execution_count": null,
      "outputs": [
        {
          "output_type": "stream",
          "text": [
            "<class 'pandas.core.frame.DataFrame'>\n",
            "Int64Index: 19 entries, 2 to 116\n",
            "Data columns (total 35 columns):\n",
            " #   Column         Non-Null Count  Dtype  \n",
            "---  ------         --------------  -----  \n",
            " 0   No             19 non-null     int64  \n",
            " 1   학과명            19 non-null     object \n",
            " 2   대학명            19 non-null     object \n",
            " 3   폐과             0 non-null      float64\n",
            " 4   학과 특성화명        19 non-null     object \n",
            " 5   특성화 구분         19 non-null     object \n",
            " 6   특성화분류 (대-중-소)  19 non-null     object \n",
            " 7   Unnamed: 7     19 non-null     object \n",
            " 8   Unnamed: 8     19 non-null     object \n",
            " 9   구분             19 non-null     object \n",
            " 10  학교종류           19 non-null     object \n",
            " 11  지역             19 non-null     object \n",
            " 12  설립유형           19 non-null     object \n",
            " 13  주야구분           19 non-null     object \n",
            " 14  표준분류계열(대)      19 non-null     object \n",
            " 15  표준분류계열(중)      19 non-null     object \n",
            " 16  표준분류계열(소)      19 non-null     object \n",
            " 17  관심             0 non-null      float64\n",
            " 18  대전             19 non-null     object \n",
            " 19  충북             19 non-null     object \n",
            " 20  서울             19 non-null     object \n",
            " 21  강원             19 non-null     object \n",
            " 22  경북             19 non-null     object \n",
            " 23  전북             19 non-null     object \n",
            " 24  전남             19 non-null     object \n",
            " 25  부산             19 non-null     object \n",
            " 26  광주             19 non-null     object \n",
            " 27  경기             19 non-null     object \n",
            " 28  인천             19 non-null     object \n",
            " 29  충남             19 non-null     object \n",
            " 30  경남             19 non-null     object \n",
            " 31  대구             19 non-null     object \n",
            " 32  제주             19 non-null     object \n",
            " 33  세종             19 non-null     object \n",
            " 34  울산             19 non-null     object \n",
            "dtypes: float64(2), int64(1), object(32)\n",
            "memory usage: 5.3+ KB\n"
          ],
          "name": "stdout"
        }
      ]
    },
    {
      "cell_type": "code",
      "metadata": {
        "colab": {
          "base_uri": "https://localhost:8080/"
        },
        "id": "3SO7vR-MyuT2",
        "outputId": "8f5004d9-c920-4e00-ee18-0f48ff1b69d3"
      },
      "source": [
        "area = list (data['지역'].drop_duplicates())\n",
        "area"
      ],
      "execution_count": null,
      "outputs": [
        {
          "output_type": "execute_result",
          "data": {
            "text/plain": [
              "['대전',\n",
              " '충북',\n",
              " '서울',\n",
              " '강원',\n",
              " '경북',\n",
              " '전북',\n",
              " '전남',\n",
              " '부산',\n",
              " '광주',\n",
              " '경기',\n",
              " '인천',\n",
              " '충남',\n",
              " '경남',\n",
              " '대구',\n",
              " '제주',\n",
              " '세종',\n",
              " '울산']"
            ]
          },
          "metadata": {
            "tags": []
          },
          "execution_count": 180
        }
      ]
    },
    {
      "cell_type": "code",
      "metadata": {
        "colab": {
          "base_uri": "https://localhost:8080/"
        },
        "id": "BRRpeDMszKrY",
        "outputId": "7f7468a7-bf78-46a2-fb98-5f07a74c244c"
      },
      "source": [
        "my = data[ (data['지역'] == '서울') |(data['지역'] == '울산') |(data['지역'] == '부산')]\n",
        "my['대학명']"
      ],
      "execution_count": null,
      "outputs": [
        {
          "output_type": "execute_result",
          "data": {
            "text/plain": [
              "2          중앙\n",
              "4          상명\n",
              "5          중앙\n",
              "14      부산가톨릭\n",
              "16      부산디지털\n",
              "19         서경\n",
              "20      서울사이버\n",
              "33         동의\n",
              "34         동아\n",
              "35         동명\n",
              "36         경성\n",
              "41         한성\n",
              "42         한성\n",
              "48         동서\n",
              "49       이화여자\n",
              "56       숙명여자\n",
              "59        성균관\n",
              "60       부산교육\n",
              "65         신라\n",
              "66         동의\n",
              "67      세종사이버\n",
              "69       한국성서\n",
              "74         광운\n",
              "85         숭실\n",
              "98        명지전\n",
              "105      동양미래\n",
              "113        서일\n",
              "114        서일\n",
              "116      동양미래\n",
              "130    부산과학기술\n",
              "136      울산과학\n",
              "Name: 대학명, dtype: object"
            ]
          },
          "metadata": {
            "tags": []
          },
          "execution_count": 184
        }
      ]
    },
    {
      "cell_type": "markdown",
      "metadata": {
        "id": "GwbwuSVKy7iL"
      },
      "source": [
        "### 그룹화\n",
        "* 데이터를 그룹별로 분류\n",
        "* df.groupby(인수)\n",
        "  + 열 또는 열의 리스트\n",
        "  + 행 인덱스\n",
        "* 그룹 연산 메소드\n",
        "  + size, count: 그룹 데이터의 갯수\n",
        "  + mean, median, min, max: 그룹 데이터의 평균, 중앙값, 최소, 최대\n",
        "  + sum, prod, std, var, quantile : 그룹 데이터의 합계, 곱, 표준편차, 분산, 사분위수\n",
        "  + first, last: 그룹 데이터 중 가장 첫번째 데이터와 가장 나중 데이터"
      ]
    },
    {
      "cell_type": "code",
      "metadata": {
        "colab": {
          "base_uri": "https://localhost:8080/",
          "height": 605
        },
        "id": "NUyRtf_ez65G",
        "outputId": "44a8b43f-a649-4b8c-fc4a-f6695ae9114b"
      },
      "source": [
        "data.groupby('지역')[['대학명']].count()"
      ],
      "execution_count": null,
      "outputs": [
        {
          "output_type": "execute_result",
          "data": {
            "text/html": [
              "<div>\n",
              "<style scoped>\n",
              "    .dataframe tbody tr th:only-of-type {\n",
              "        vertical-align: middle;\n",
              "    }\n",
              "\n",
              "    .dataframe tbody tr th {\n",
              "        vertical-align: top;\n",
              "    }\n",
              "\n",
              "    .dataframe thead th {\n",
              "        text-align: right;\n",
              "    }\n",
              "</style>\n",
              "<table border=\"1\" class=\"dataframe\">\n",
              "  <thead>\n",
              "    <tr style=\"text-align: right;\">\n",
              "      <th></th>\n",
              "      <th>대학명</th>\n",
              "    </tr>\n",
              "    <tr>\n",
              "      <th>지역</th>\n",
              "      <th></th>\n",
              "    </tr>\n",
              "  </thead>\n",
              "  <tbody>\n",
              "    <tr>\n",
              "      <th>강원</th>\n",
              "      <td>4</td>\n",
              "    </tr>\n",
              "    <tr>\n",
              "      <th>경기</th>\n",
              "      <td>21</td>\n",
              "    </tr>\n",
              "    <tr>\n",
              "      <th>경남</th>\n",
              "      <td>5</td>\n",
              "    </tr>\n",
              "    <tr>\n",
              "      <th>경북</th>\n",
              "      <td>8</td>\n",
              "    </tr>\n",
              "    <tr>\n",
              "      <th>광주</th>\n",
              "      <td>6</td>\n",
              "    </tr>\n",
              "    <tr>\n",
              "      <th>대구</th>\n",
              "      <td>9</td>\n",
              "    </tr>\n",
              "    <tr>\n",
              "      <th>대전</th>\n",
              "      <td>11</td>\n",
              "    </tr>\n",
              "    <tr>\n",
              "      <th>부산</th>\n",
              "      <td>11</td>\n",
              "    </tr>\n",
              "    <tr>\n",
              "      <th>서울</th>\n",
              "      <td>19</td>\n",
              "    </tr>\n",
              "    <tr>\n",
              "      <th>세종</th>\n",
              "      <td>1</td>\n",
              "    </tr>\n",
              "    <tr>\n",
              "      <th>울산</th>\n",
              "      <td>1</td>\n",
              "    </tr>\n",
              "    <tr>\n",
              "      <th>인천</th>\n",
              "      <td>6</td>\n",
              "    </tr>\n",
              "    <tr>\n",
              "      <th>전남</th>\n",
              "      <td>5</td>\n",
              "    </tr>\n",
              "    <tr>\n",
              "      <th>전북</th>\n",
              "      <td>6</td>\n",
              "    </tr>\n",
              "    <tr>\n",
              "      <th>제주</th>\n",
              "      <td>5</td>\n",
              "    </tr>\n",
              "    <tr>\n",
              "      <th>충남</th>\n",
              "      <td>7</td>\n",
              "    </tr>\n",
              "    <tr>\n",
              "      <th>충북</th>\n",
              "      <td>12</td>\n",
              "    </tr>\n",
              "  </tbody>\n",
              "</table>\n",
              "</div>"
            ],
            "text/plain": [
              "    대학명\n",
              "지역     \n",
              "강원    4\n",
              "경기   21\n",
              "경남    5\n",
              "경북    8\n",
              "광주    6\n",
              "대구    9\n",
              "대전   11\n",
              "부산   11\n",
              "서울   19\n",
              "세종    1\n",
              "울산    1\n",
              "인천    6\n",
              "전남    5\n",
              "전북    6\n",
              "제주    5\n",
              "충남    7\n",
              "충북   12"
            ]
          },
          "metadata": {
            "tags": []
          },
          "execution_count": 191
        }
      ]
    },
    {
      "cell_type": "code",
      "metadata": {
        "id": "M1nAH61E0prf",
        "colab": {
          "base_uri": "https://localhost:8080/",
          "height": 605
        },
        "outputId": "debe5f2f-cc4e-4e09-b3bd-bbb00cc5e364"
      },
      "source": [
        "datag = data.groupby('지역')[['대학명']].count()\n",
        "datag.sort_values('대학명', ascending=False)"
      ],
      "execution_count": null,
      "outputs": [
        {
          "output_type": "execute_result",
          "data": {
            "text/html": [
              "<div>\n",
              "<style scoped>\n",
              "    .dataframe tbody tr th:only-of-type {\n",
              "        vertical-align: middle;\n",
              "    }\n",
              "\n",
              "    .dataframe tbody tr th {\n",
              "        vertical-align: top;\n",
              "    }\n",
              "\n",
              "    .dataframe thead th {\n",
              "        text-align: right;\n",
              "    }\n",
              "</style>\n",
              "<table border=\"1\" class=\"dataframe\">\n",
              "  <thead>\n",
              "    <tr style=\"text-align: right;\">\n",
              "      <th></th>\n",
              "      <th>대학명</th>\n",
              "    </tr>\n",
              "    <tr>\n",
              "      <th>지역</th>\n",
              "      <th></th>\n",
              "    </tr>\n",
              "  </thead>\n",
              "  <tbody>\n",
              "    <tr>\n",
              "      <th>경기</th>\n",
              "      <td>21</td>\n",
              "    </tr>\n",
              "    <tr>\n",
              "      <th>서울</th>\n",
              "      <td>19</td>\n",
              "    </tr>\n",
              "    <tr>\n",
              "      <th>충북</th>\n",
              "      <td>12</td>\n",
              "    </tr>\n",
              "    <tr>\n",
              "      <th>대전</th>\n",
              "      <td>11</td>\n",
              "    </tr>\n",
              "    <tr>\n",
              "      <th>부산</th>\n",
              "      <td>11</td>\n",
              "    </tr>\n",
              "    <tr>\n",
              "      <th>대구</th>\n",
              "      <td>9</td>\n",
              "    </tr>\n",
              "    <tr>\n",
              "      <th>경북</th>\n",
              "      <td>8</td>\n",
              "    </tr>\n",
              "    <tr>\n",
              "      <th>충남</th>\n",
              "      <td>7</td>\n",
              "    </tr>\n",
              "    <tr>\n",
              "      <th>광주</th>\n",
              "      <td>6</td>\n",
              "    </tr>\n",
              "    <tr>\n",
              "      <th>인천</th>\n",
              "      <td>6</td>\n",
              "    </tr>\n",
              "    <tr>\n",
              "      <th>전북</th>\n",
              "      <td>6</td>\n",
              "    </tr>\n",
              "    <tr>\n",
              "      <th>경남</th>\n",
              "      <td>5</td>\n",
              "    </tr>\n",
              "    <tr>\n",
              "      <th>전남</th>\n",
              "      <td>5</td>\n",
              "    </tr>\n",
              "    <tr>\n",
              "      <th>제주</th>\n",
              "      <td>5</td>\n",
              "    </tr>\n",
              "    <tr>\n",
              "      <th>강원</th>\n",
              "      <td>4</td>\n",
              "    </tr>\n",
              "    <tr>\n",
              "      <th>세종</th>\n",
              "      <td>1</td>\n",
              "    </tr>\n",
              "    <tr>\n",
              "      <th>울산</th>\n",
              "      <td>1</td>\n",
              "    </tr>\n",
              "  </tbody>\n",
              "</table>\n",
              "</div>"
            ],
            "text/plain": [
              "    대학명\n",
              "지역     \n",
              "경기   21\n",
              "서울   19\n",
              "충북   12\n",
              "대전   11\n",
              "부산   11\n",
              "대구    9\n",
              "경북    8\n",
              "충남    7\n",
              "광주    6\n",
              "인천    6\n",
              "전북    6\n",
              "경남    5\n",
              "전남    5\n",
              "제주    5\n",
              "강원    4\n",
              "세종    1\n",
              "울산    1"
            ]
          },
          "metadata": {
            "tags": []
          },
          "execution_count": 194
        }
      ]
    },
    {
      "cell_type": "code",
      "metadata": {
        "colab": {
          "base_uri": "https://localhost:8080/",
          "height": 1000
        },
        "id": "NjryecMZ01db",
        "outputId": "60bbc66c-322b-46ed-a806-72faf49ebc37"
      },
      "source": [
        "pusan = pd.read_csv('/content/drive/MyDrive/파이썬특강/python2021/data/부산대1821.csv', engine='python',encoding='cp949')\n",
        "pusan"
      ],
      "execution_count": null,
      "outputs": [
        {
          "output_type": "execute_result",
          "data": {
            "text/html": [
              "<div>\n",
              "<style scoped>\n",
              "    .dataframe tbody tr th:only-of-type {\n",
              "        vertical-align: middle;\n",
              "    }\n",
              "\n",
              "    .dataframe tbody tr th {\n",
              "        vertical-align: top;\n",
              "    }\n",
              "\n",
              "    .dataframe thead th {\n",
              "        text-align: right;\n",
              "    }\n",
              "</style>\n",
              "<table border=\"1\" class=\"dataframe\">\n",
              "  <thead>\n",
              "    <tr style=\"text-align: right;\">\n",
              "      <th></th>\n",
              "      <th>학과</th>\n",
              "      <th>경쟁률</th>\n",
              "      <th>교과총점</th>\n",
              "      <th>등급</th>\n",
              "      <th>추합</th>\n",
              "      <th>년도</th>\n",
              "    </tr>\n",
              "  </thead>\n",
              "  <tbody>\n",
              "    <tr>\n",
              "      <th>0</th>\n",
              "      <td>국어국문학과</td>\n",
              "      <td>5.888889</td>\n",
              "      <td>97.932600</td>\n",
              "      <td>2.800311</td>\n",
              "      <td>9</td>\n",
              "      <td>2018</td>\n",
              "    </tr>\n",
              "    <tr>\n",
              "      <th>1</th>\n",
              "      <td>중어중문학과</td>\n",
              "      <td>5.333333</td>\n",
              "      <td>98.089866</td>\n",
              "      <td>2.901277</td>\n",
              "      <td>5</td>\n",
              "      <td>2018</td>\n",
              "    </tr>\n",
              "    <tr>\n",
              "      <th>2</th>\n",
              "      <td>일어일문학과</td>\n",
              "      <td>7.000000</td>\n",
              "      <td>98.480690</td>\n",
              "      <td>2.519110</td>\n",
              "      <td>4</td>\n",
              "      <td>2018</td>\n",
              "    </tr>\n",
              "    <tr>\n",
              "      <th>3</th>\n",
              "      <td>영어영문학과</td>\n",
              "      <td>6.800000</td>\n",
              "      <td>98.702021</td>\n",
              "      <td>2.297742</td>\n",
              "      <td>16</td>\n",
              "      <td>2018</td>\n",
              "    </tr>\n",
              "    <tr>\n",
              "      <th>4</th>\n",
              "      <td>불어불문학과</td>\n",
              "      <td>6.818182</td>\n",
              "      <td>95.883833</td>\n",
              "      <td>3.930366</td>\n",
              "      <td>4</td>\n",
              "      <td>2018</td>\n",
              "    </tr>\n",
              "    <tr>\n",
              "      <th>5</th>\n",
              "      <td>독어독문학과</td>\n",
              "      <td>7.083333</td>\n",
              "      <td>97.750645</td>\n",
              "      <td>3.233800</td>\n",
              "      <td>6</td>\n",
              "      <td>2018</td>\n",
              "    </tr>\n",
              "    <tr>\n",
              "      <th>6</th>\n",
              "      <td>노어노문학과</td>\n",
              "      <td>7.625000</td>\n",
              "      <td>97.590116</td>\n",
              "      <td>2.866200</td>\n",
              "      <td>5</td>\n",
              "      <td>2018</td>\n",
              "    </tr>\n",
              "    <tr>\n",
              "      <th>7</th>\n",
              "      <td>한문학과</td>\n",
              "      <td>10.428571</td>\n",
              "      <td>97.420700</td>\n",
              "      <td>3.464450</td>\n",
              "      <td>2</td>\n",
              "      <td>2018</td>\n",
              "    </tr>\n",
              "    <tr>\n",
              "      <th>8</th>\n",
              "      <td>언어정보학과</td>\n",
              "      <td>7.125000</td>\n",
              "      <td>98.511175</td>\n",
              "      <td>2.488587</td>\n",
              "      <td>5</td>\n",
              "      <td>2018</td>\n",
              "    </tr>\n",
              "    <tr>\n",
              "      <th>9</th>\n",
              "      <td>사학과</td>\n",
              "      <td>6.714286</td>\n",
              "      <td>98.640671</td>\n",
              "      <td>2.359071</td>\n",
              "      <td>5</td>\n",
              "      <td>2018</td>\n",
              "    </tr>\n",
              "    <tr>\n",
              "      <th>10</th>\n",
              "      <td>철학과</td>\n",
              "      <td>6.625000</td>\n",
              "      <td>95.400840</td>\n",
              "      <td>3.878200</td>\n",
              "      <td>0</td>\n",
              "      <td>2018</td>\n",
              "    </tr>\n",
              "    <tr>\n",
              "      <th>11</th>\n",
              "      <td>고고학과</td>\n",
              "      <td>6.571429</td>\n",
              "      <td>97.911414</td>\n",
              "      <td>3.088300</td>\n",
              "      <td>3</td>\n",
              "      <td>2018</td>\n",
              "    </tr>\n",
              "    <tr>\n",
              "      <th>12</th>\n",
              "      <td>국어국문학과</td>\n",
              "      <td>12.000000</td>\n",
              "      <td>98.636170</td>\n",
              "      <td>2.800311</td>\n",
              "      <td>7</td>\n",
              "      <td>2019</td>\n",
              "    </tr>\n",
              "    <tr>\n",
              "      <th>13</th>\n",
              "      <td>중어중문학과</td>\n",
              "      <td>13.500000</td>\n",
              "      <td>98.730520</td>\n",
              "      <td>2.901277</td>\n",
              "      <td>4</td>\n",
              "      <td>2019</td>\n",
              "    </tr>\n",
              "    <tr>\n",
              "      <th>14</th>\n",
              "      <td>일어일문학과</td>\n",
              "      <td>10.214286</td>\n",
              "      <td>98.332385</td>\n",
              "      <td>2.519110</td>\n",
              "      <td>8</td>\n",
              "      <td>2019</td>\n",
              "    </tr>\n",
              "    <tr>\n",
              "      <th>15</th>\n",
              "      <td>영어영문학과</td>\n",
              "      <td>11.800000</td>\n",
              "      <td>98.795900</td>\n",
              "      <td>2.297742</td>\n",
              "      <td>30</td>\n",
              "      <td>2019</td>\n",
              "    </tr>\n",
              "    <tr>\n",
              "      <th>16</th>\n",
              "      <td>불어불문학과</td>\n",
              "      <td>24.500000</td>\n",
              "      <td>98.102091</td>\n",
              "      <td>3.930366</td>\n",
              "      <td>5</td>\n",
              "      <td>2019</td>\n",
              "    </tr>\n",
              "    <tr>\n",
              "      <th>17</th>\n",
              "      <td>독어독문학과</td>\n",
              "      <td>19.333333</td>\n",
              "      <td>98.223577</td>\n",
              "      <td>3.233800</td>\n",
              "      <td>4</td>\n",
              "      <td>2019</td>\n",
              "    </tr>\n",
              "    <tr>\n",
              "      <th>18</th>\n",
              "      <td>노어노문학과</td>\n",
              "      <td>14.600000</td>\n",
              "      <td>98.471890</td>\n",
              "      <td>2.866200</td>\n",
              "      <td>5</td>\n",
              "      <td>2019</td>\n",
              "    </tr>\n",
              "    <tr>\n",
              "      <th>19</th>\n",
              "      <td>한문학과</td>\n",
              "      <td>14.000000</td>\n",
              "      <td>98.038633</td>\n",
              "      <td>3.464450</td>\n",
              "      <td>6</td>\n",
              "      <td>2019</td>\n",
              "    </tr>\n",
              "    <tr>\n",
              "      <th>20</th>\n",
              "      <td>언어정보학과</td>\n",
              "      <td>9.375000</td>\n",
              "      <td>97.984816</td>\n",
              "      <td>2.488587</td>\n",
              "      <td>3</td>\n",
              "      <td>2019</td>\n",
              "    </tr>\n",
              "    <tr>\n",
              "      <th>21</th>\n",
              "      <td>사학과</td>\n",
              "      <td>7.500000</td>\n",
              "      <td>98.648875</td>\n",
              "      <td>2.359071</td>\n",
              "      <td>7</td>\n",
              "      <td>2019</td>\n",
              "    </tr>\n",
              "    <tr>\n",
              "      <th>22</th>\n",
              "      <td>철학과</td>\n",
              "      <td>21.600000</td>\n",
              "      <td>98.278000</td>\n",
              "      <td>3.878200</td>\n",
              "      <td>5</td>\n",
              "      <td>2019</td>\n",
              "    </tr>\n",
              "    <tr>\n",
              "      <th>23</th>\n",
              "      <td>고고학과</td>\n",
              "      <td>11.857143</td>\n",
              "      <td>98.303700</td>\n",
              "      <td>3.088300</td>\n",
              "      <td>9</td>\n",
              "      <td>2019</td>\n",
              "    </tr>\n",
              "    <tr>\n",
              "      <th>24</th>\n",
              "      <td>국어국문학과</td>\n",
              "      <td>6.910000</td>\n",
              "      <td>98.510000</td>\n",
              "      <td>2.480000</td>\n",
              "      <td>12</td>\n",
              "      <td>2020</td>\n",
              "    </tr>\n",
              "    <tr>\n",
              "      <th>25</th>\n",
              "      <td>중어중문학과</td>\n",
              "      <td>12.500000</td>\n",
              "      <td>97.470000</td>\n",
              "      <td>3.100000</td>\n",
              "      <td>4</td>\n",
              "      <td>2020</td>\n",
              "    </tr>\n",
              "    <tr>\n",
              "      <th>26</th>\n",
              "      <td>일어일문학과</td>\n",
              "      <td>7.600000</td>\n",
              "      <td>98.030000</td>\n",
              "      <td>2.970000</td>\n",
              "      <td>6</td>\n",
              "      <td>2020</td>\n",
              "    </tr>\n",
              "    <tr>\n",
              "      <th>27</th>\n",
              "      <td>영어영문학과</td>\n",
              "      <td>6.200000</td>\n",
              "      <td>97.000000</td>\n",
              "      <td>3.570000</td>\n",
              "      <td>6</td>\n",
              "      <td>2020</td>\n",
              "    </tr>\n",
              "    <tr>\n",
              "      <th>28</th>\n",
              "      <td>불어불문학과</td>\n",
              "      <td>8.220000</td>\n",
              "      <td>98.210000</td>\n",
              "      <td>2.790000</td>\n",
              "      <td>4</td>\n",
              "      <td>2020</td>\n",
              "    </tr>\n",
              "    <tr>\n",
              "      <th>29</th>\n",
              "      <td>독어독문학과</td>\n",
              "      <td>8.170000</td>\n",
              "      <td>97.390000</td>\n",
              "      <td>3.020000</td>\n",
              "      <td>4</td>\n",
              "      <td>2020</td>\n",
              "    </tr>\n",
              "    <tr>\n",
              "      <th>30</th>\n",
              "      <td>노어노문학과</td>\n",
              "      <td>7.800000</td>\n",
              "      <td>97.890000</td>\n",
              "      <td>3.100000</td>\n",
              "      <td>4</td>\n",
              "      <td>2020</td>\n",
              "    </tr>\n",
              "    <tr>\n",
              "      <th>31</th>\n",
              "      <td>한문학과</td>\n",
              "      <td>9.110000</td>\n",
              "      <td>93.890000</td>\n",
              "      <td>3.920000</td>\n",
              "      <td>1</td>\n",
              "      <td>2020</td>\n",
              "    </tr>\n",
              "    <tr>\n",
              "      <th>32</th>\n",
              "      <td>언어정보학과</td>\n",
              "      <td>8.700000</td>\n",
              "      <td>98.390000</td>\n",
              "      <td>2.610000</td>\n",
              "      <td>8</td>\n",
              "      <td>2020</td>\n",
              "    </tr>\n",
              "    <tr>\n",
              "      <th>33</th>\n",
              "      <td>사학과</td>\n",
              "      <td>11.630000</td>\n",
              "      <td>98.260000</td>\n",
              "      <td>2.740000</td>\n",
              "      <td>6</td>\n",
              "      <td>2020</td>\n",
              "    </tr>\n",
              "    <tr>\n",
              "      <th>34</th>\n",
              "      <td>철학과</td>\n",
              "      <td>9.130000</td>\n",
              "      <td>96.860000</td>\n",
              "      <td>3.140000</td>\n",
              "      <td>0</td>\n",
              "      <td>2020</td>\n",
              "    </tr>\n",
              "    <tr>\n",
              "      <th>35</th>\n",
              "      <td>고고학과</td>\n",
              "      <td>9.570000</td>\n",
              "      <td>96.150000</td>\n",
              "      <td>4.220000</td>\n",
              "      <td>2</td>\n",
              "      <td>2020</td>\n",
              "    </tr>\n",
              "    <tr>\n",
              "      <th>36</th>\n",
              "      <td>국어국문학과</td>\n",
              "      <td>8.820000</td>\n",
              "      <td>98.620000</td>\n",
              "      <td>2.370000</td>\n",
              "      <td>11</td>\n",
              "      <td>2021</td>\n",
              "    </tr>\n",
              "    <tr>\n",
              "      <th>37</th>\n",
              "      <td>중어중문학과</td>\n",
              "      <td>7.920000</td>\n",
              "      <td>97.930000</td>\n",
              "      <td>3.050000</td>\n",
              "      <td>9</td>\n",
              "      <td>2021</td>\n",
              "    </tr>\n",
              "    <tr>\n",
              "      <th>38</th>\n",
              "      <td>일어일문학과</td>\n",
              "      <td>7.570000</td>\n",
              "      <td>98.160000</td>\n",
              "      <td>2.840000</td>\n",
              "      <td>11</td>\n",
              "      <td>2021</td>\n",
              "    </tr>\n",
              "    <tr>\n",
              "      <th>39</th>\n",
              "      <td>영어영문학과</td>\n",
              "      <td>11.130000</td>\n",
              "      <td>99.030000</td>\n",
              "      <td>1.970000</td>\n",
              "      <td>15</td>\n",
              "      <td>2021</td>\n",
              "    </tr>\n",
              "    <tr>\n",
              "      <th>40</th>\n",
              "      <td>불어불문학과</td>\n",
              "      <td>15.920000</td>\n",
              "      <td>98.430000</td>\n",
              "      <td>2.570000</td>\n",
              "      <td>11</td>\n",
              "      <td>2021</td>\n",
              "    </tr>\n",
              "    <tr>\n",
              "      <th>41</th>\n",
              "      <td>독어독문학과</td>\n",
              "      <td>11.920000</td>\n",
              "      <td>98.240000</td>\n",
              "      <td>2.760000</td>\n",
              "      <td>15</td>\n",
              "      <td>2021</td>\n",
              "    </tr>\n",
              "    <tr>\n",
              "      <th>42</th>\n",
              "      <td>노어노문학과</td>\n",
              "      <td>9.900000</td>\n",
              "      <td>98.420000</td>\n",
              "      <td>2.580000</td>\n",
              "      <td>6</td>\n",
              "      <td>2021</td>\n",
              "    </tr>\n",
              "    <tr>\n",
              "      <th>43</th>\n",
              "      <td>한문학과</td>\n",
              "      <td>9.440000</td>\n",
              "      <td>97.430000</td>\n",
              "      <td>3.370000</td>\n",
              "      <td>4</td>\n",
              "      <td>2021</td>\n",
              "    </tr>\n",
              "    <tr>\n",
              "      <th>44</th>\n",
              "      <td>언어정보학과</td>\n",
              "      <td>11.440000</td>\n",
              "      <td>98.350000</td>\n",
              "      <td>2.650000</td>\n",
              "      <td>4</td>\n",
              "      <td>2021</td>\n",
              "    </tr>\n",
              "    <tr>\n",
              "      <th>45</th>\n",
              "      <td>사학과</td>\n",
              "      <td>8.380000</td>\n",
              "      <td>98.290000</td>\n",
              "      <td>2.690000</td>\n",
              "      <td>0</td>\n",
              "      <td>2021</td>\n",
              "    </tr>\n",
              "    <tr>\n",
              "      <th>46</th>\n",
              "      <td>철학과</td>\n",
              "      <td>11.670000</td>\n",
              "      <td>98.090000</td>\n",
              "      <td>2.850000</td>\n",
              "      <td>8</td>\n",
              "      <td>2021</td>\n",
              "    </tr>\n",
              "    <tr>\n",
              "      <th>47</th>\n",
              "      <td>고고학과</td>\n",
              "      <td>8.560000</td>\n",
              "      <td>98.310000</td>\n",
              "      <td>2.690000</td>\n",
              "      <td>2</td>\n",
              "      <td>2021</td>\n",
              "    </tr>\n",
              "  </tbody>\n",
              "</table>\n",
              "</div>"
            ],
            "text/plain": [
              "        학과        경쟁률       교과총점        등급  추합    년도\n",
              "0   국어국문학과   5.888889  97.932600  2.800311   9  2018\n",
              "1   중어중문학과   5.333333  98.089866  2.901277   5  2018\n",
              "2   일어일문학과   7.000000  98.480690  2.519110   4  2018\n",
              "3   영어영문학과   6.800000  98.702021  2.297742  16  2018\n",
              "4   불어불문학과   6.818182  95.883833  3.930366   4  2018\n",
              "5   독어독문학과   7.083333  97.750645  3.233800   6  2018\n",
              "6   노어노문학과   7.625000  97.590116  2.866200   5  2018\n",
              "7     한문학과  10.428571  97.420700  3.464450   2  2018\n",
              "8   언어정보학과   7.125000  98.511175  2.488587   5  2018\n",
              "9      사학과   6.714286  98.640671  2.359071   5  2018\n",
              "10     철학과   6.625000  95.400840  3.878200   0  2018\n",
              "11    고고학과   6.571429  97.911414  3.088300   3  2018\n",
              "12  국어국문학과  12.000000  98.636170  2.800311   7  2019\n",
              "13  중어중문학과  13.500000  98.730520  2.901277   4  2019\n",
              "14  일어일문학과  10.214286  98.332385  2.519110   8  2019\n",
              "15  영어영문학과  11.800000  98.795900  2.297742  30  2019\n",
              "16  불어불문학과  24.500000  98.102091  3.930366   5  2019\n",
              "17  독어독문학과  19.333333  98.223577  3.233800   4  2019\n",
              "18  노어노문학과  14.600000  98.471890  2.866200   5  2019\n",
              "19    한문학과  14.000000  98.038633  3.464450   6  2019\n",
              "20  언어정보학과   9.375000  97.984816  2.488587   3  2019\n",
              "21     사학과   7.500000  98.648875  2.359071   7  2019\n",
              "22     철학과  21.600000  98.278000  3.878200   5  2019\n",
              "23    고고학과  11.857143  98.303700  3.088300   9  2019\n",
              "24  국어국문학과   6.910000  98.510000  2.480000  12  2020\n",
              "25  중어중문학과  12.500000  97.470000  3.100000   4  2020\n",
              "26  일어일문학과   7.600000  98.030000  2.970000   6  2020\n",
              "27  영어영문학과   6.200000  97.000000  3.570000   6  2020\n",
              "28  불어불문학과   8.220000  98.210000  2.790000   4  2020\n",
              "29  독어독문학과   8.170000  97.390000  3.020000   4  2020\n",
              "30  노어노문학과   7.800000  97.890000  3.100000   4  2020\n",
              "31    한문학과   9.110000  93.890000  3.920000   1  2020\n",
              "32  언어정보학과   8.700000  98.390000  2.610000   8  2020\n",
              "33     사학과  11.630000  98.260000  2.740000   6  2020\n",
              "34     철학과   9.130000  96.860000  3.140000   0  2020\n",
              "35    고고학과   9.570000  96.150000  4.220000   2  2020\n",
              "36  국어국문학과   8.820000  98.620000  2.370000  11  2021\n",
              "37  중어중문학과   7.920000  97.930000  3.050000   9  2021\n",
              "38  일어일문학과   7.570000  98.160000  2.840000  11  2021\n",
              "39  영어영문학과  11.130000  99.030000  1.970000  15  2021\n",
              "40  불어불문학과  15.920000  98.430000  2.570000  11  2021\n",
              "41  독어독문학과  11.920000  98.240000  2.760000  15  2021\n",
              "42  노어노문학과   9.900000  98.420000  2.580000   6  2021\n",
              "43    한문학과   9.440000  97.430000  3.370000   4  2021\n",
              "44  언어정보학과  11.440000  98.350000  2.650000   4  2021\n",
              "45     사학과   8.380000  98.290000  2.690000   0  2021\n",
              "46     철학과  11.670000  98.090000  2.850000   8  2021\n",
              "47    고고학과   8.560000  98.310000  2.690000   2  2021"
            ]
          },
          "metadata": {
            "tags": []
          },
          "execution_count": 195
        }
      ]
    },
    {
      "cell_type": "code",
      "metadata": {
        "colab": {
          "base_uri": "https://localhost:8080/",
          "height": 296
        },
        "id": "CMod7Tpt1gmL",
        "outputId": "fc1eb822-a0b4-4250-b2e0-43776f6bd8e2"
      },
      "source": [
        "pusan.describe()"
      ],
      "execution_count": null,
      "outputs": [
        {
          "output_type": "execute_result",
          "data": {
            "text/html": [
              "<div>\n",
              "<style scoped>\n",
              "    .dataframe tbody tr th:only-of-type {\n",
              "        vertical-align: middle;\n",
              "    }\n",
              "\n",
              "    .dataframe tbody tr th {\n",
              "        vertical-align: top;\n",
              "    }\n",
              "\n",
              "    .dataframe thead th {\n",
              "        text-align: right;\n",
              "    }\n",
              "</style>\n",
              "<table border=\"1\" class=\"dataframe\">\n",
              "  <thead>\n",
              "    <tr style=\"text-align: right;\">\n",
              "      <th></th>\n",
              "      <th>경쟁률</th>\n",
              "      <th>교과총점</th>\n",
              "      <th>등급</th>\n",
              "      <th>추합</th>\n",
              "      <th>년도</th>\n",
              "    </tr>\n",
              "  </thead>\n",
              "  <tbody>\n",
              "    <tr>\n",
              "      <th>count</th>\n",
              "      <td>48.000000</td>\n",
              "      <td>48.000000</td>\n",
              "      <td>48.000000</td>\n",
              "      <td>48.000000</td>\n",
              "      <td>48.000000</td>\n",
              "    </tr>\n",
              "    <tr>\n",
              "      <th>mean</th>\n",
              "      <td>10.052141</td>\n",
              "      <td>97.921065</td>\n",
              "      <td>2.952184</td>\n",
              "      <td>6.458333</td>\n",
              "      <td>2019.500000</td>\n",
              "    </tr>\n",
              "    <tr>\n",
              "      <th>std</th>\n",
              "      <td>3.962890</td>\n",
              "      <td>0.943159</td>\n",
              "      <td>0.510788</td>\n",
              "      <td>5.107184</td>\n",
              "      <td>1.129865</td>\n",
              "    </tr>\n",
              "    <tr>\n",
              "      <th>min</th>\n",
              "      <td>5.333333</td>\n",
              "      <td>93.890000</td>\n",
              "      <td>1.970000</td>\n",
              "      <td>0.000000</td>\n",
              "      <td>2018.000000</td>\n",
              "    </tr>\n",
              "    <tr>\n",
              "      <th>25%</th>\n",
              "      <td>7.406250</td>\n",
              "      <td>97.855161</td>\n",
              "      <td>2.577500</td>\n",
              "      <td>4.000000</td>\n",
              "      <td>2018.750000</td>\n",
              "    </tr>\n",
              "    <tr>\n",
              "      <th>50%</th>\n",
              "      <td>8.965000</td>\n",
              "      <td>98.216789</td>\n",
              "      <td>2.858100</td>\n",
              "      <td>5.000000</td>\n",
              "      <td>2019.500000</td>\n",
              "    </tr>\n",
              "    <tr>\n",
              "      <th>75%</th>\n",
              "      <td>11.702500</td>\n",
              "      <td>98.440472</td>\n",
              "      <td>3.163450</td>\n",
              "      <td>8.000000</td>\n",
              "      <td>2020.250000</td>\n",
              "    </tr>\n",
              "    <tr>\n",
              "      <th>max</th>\n",
              "      <td>24.500000</td>\n",
              "      <td>99.030000</td>\n",
              "      <td>4.220000</td>\n",
              "      <td>30.000000</td>\n",
              "      <td>2021.000000</td>\n",
              "    </tr>\n",
              "  </tbody>\n",
              "</table>\n",
              "</div>"
            ],
            "text/plain": [
              "             경쟁률       교과총점         등급         추합           년도\n",
              "count  48.000000  48.000000  48.000000  48.000000    48.000000\n",
              "mean   10.052141  97.921065   2.952184   6.458333  2019.500000\n",
              "std     3.962890   0.943159   0.510788   5.107184     1.129865\n",
              "min     5.333333  93.890000   1.970000   0.000000  2018.000000\n",
              "25%     7.406250  97.855161   2.577500   4.000000  2018.750000\n",
              "50%     8.965000  98.216789   2.858100   5.000000  2019.500000\n",
              "75%    11.702500  98.440472   3.163450   8.000000  2020.250000\n",
              "max    24.500000  99.030000   4.220000  30.000000  2021.000000"
            ]
          },
          "metadata": {
            "tags": []
          },
          "execution_count": 196
        }
      ]
    },
    {
      "cell_type": "code",
      "metadata": {
        "colab": {
          "base_uri": "https://localhost:8080/",
          "height": 450
        },
        "id": "2D0D6SXv1twt",
        "outputId": "b071c25a-f933-4ef5-d076-1880804de56f"
      },
      "source": [
        "pusan.groupby('학과').mean().loc[:, :'추합']"
      ],
      "execution_count": null,
      "outputs": [
        {
          "output_type": "execute_result",
          "data": {
            "text/html": [
              "<div>\n",
              "<style scoped>\n",
              "    .dataframe tbody tr th:only-of-type {\n",
              "        vertical-align: middle;\n",
              "    }\n",
              "\n",
              "    .dataframe tbody tr th {\n",
              "        vertical-align: top;\n",
              "    }\n",
              "\n",
              "    .dataframe thead th {\n",
              "        text-align: right;\n",
              "    }\n",
              "</style>\n",
              "<table border=\"1\" class=\"dataframe\">\n",
              "  <thead>\n",
              "    <tr style=\"text-align: right;\">\n",
              "      <th></th>\n",
              "      <th>경쟁률</th>\n",
              "      <th>교과총점</th>\n",
              "      <th>등급</th>\n",
              "      <th>추합</th>\n",
              "    </tr>\n",
              "    <tr>\n",
              "      <th>학과</th>\n",
              "      <th></th>\n",
              "      <th></th>\n",
              "      <th></th>\n",
              "      <th></th>\n",
              "    </tr>\n",
              "  </thead>\n",
              "  <tbody>\n",
              "    <tr>\n",
              "      <th>고고학과</th>\n",
              "      <td>9.139643</td>\n",
              "      <td>97.668779</td>\n",
              "      <td>3.271650</td>\n",
              "      <td>4.00</td>\n",
              "    </tr>\n",
              "    <tr>\n",
              "      <th>국어국문학과</th>\n",
              "      <td>8.404722</td>\n",
              "      <td>98.424692</td>\n",
              "      <td>2.612655</td>\n",
              "      <td>9.75</td>\n",
              "    </tr>\n",
              "    <tr>\n",
              "      <th>노어노문학과</th>\n",
              "      <td>9.981250</td>\n",
              "      <td>98.093001</td>\n",
              "      <td>2.853100</td>\n",
              "      <td>5.00</td>\n",
              "    </tr>\n",
              "    <tr>\n",
              "      <th>독어독문학과</th>\n",
              "      <td>11.626667</td>\n",
              "      <td>97.901055</td>\n",
              "      <td>3.061900</td>\n",
              "      <td>7.25</td>\n",
              "    </tr>\n",
              "    <tr>\n",
              "      <th>불어불문학과</th>\n",
              "      <td>13.864545</td>\n",
              "      <td>97.656481</td>\n",
              "      <td>3.305183</td>\n",
              "      <td>6.00</td>\n",
              "    </tr>\n",
              "    <tr>\n",
              "      <th>사학과</th>\n",
              "      <td>8.556071</td>\n",
              "      <td>98.459887</td>\n",
              "      <td>2.537035</td>\n",
              "      <td>4.50</td>\n",
              "    </tr>\n",
              "    <tr>\n",
              "      <th>언어정보학과</th>\n",
              "      <td>9.160000</td>\n",
              "      <td>98.308998</td>\n",
              "      <td>2.559293</td>\n",
              "      <td>5.00</td>\n",
              "    </tr>\n",
              "    <tr>\n",
              "      <th>영어영문학과</th>\n",
              "      <td>8.982500</td>\n",
              "      <td>98.381980</td>\n",
              "      <td>2.533871</td>\n",
              "      <td>16.75</td>\n",
              "    </tr>\n",
              "    <tr>\n",
              "      <th>일어일문학과</th>\n",
              "      <td>8.096071</td>\n",
              "      <td>98.250769</td>\n",
              "      <td>2.712055</td>\n",
              "      <td>7.25</td>\n",
              "    </tr>\n",
              "    <tr>\n",
              "      <th>중어중문학과</th>\n",
              "      <td>9.813333</td>\n",
              "      <td>98.055097</td>\n",
              "      <td>2.988138</td>\n",
              "      <td>5.50</td>\n",
              "    </tr>\n",
              "    <tr>\n",
              "      <th>철학과</th>\n",
              "      <td>12.256250</td>\n",
              "      <td>97.157210</td>\n",
              "      <td>3.436600</td>\n",
              "      <td>3.25</td>\n",
              "    </tr>\n",
              "    <tr>\n",
              "      <th>한문학과</th>\n",
              "      <td>10.744643</td>\n",
              "      <td>96.694833</td>\n",
              "      <td>3.554725</td>\n",
              "      <td>3.25</td>\n",
              "    </tr>\n",
              "  </tbody>\n",
              "</table>\n",
              "</div>"
            ],
            "text/plain": [
              "              경쟁률       교과총점        등급     추합\n",
              "학과                                           \n",
              "고고학과     9.139643  97.668779  3.271650   4.00\n",
              "국어국문학과   8.404722  98.424692  2.612655   9.75\n",
              "노어노문학과   9.981250  98.093001  2.853100   5.00\n",
              "독어독문학과  11.626667  97.901055  3.061900   7.25\n",
              "불어불문학과  13.864545  97.656481  3.305183   6.00\n",
              "사학과      8.556071  98.459887  2.537035   4.50\n",
              "언어정보학과   9.160000  98.308998  2.559293   5.00\n",
              "영어영문학과   8.982500  98.381980  2.533871  16.75\n",
              "일어일문학과   8.096071  98.250769  2.712055   7.25\n",
              "중어중문학과   9.813333  98.055097  2.988138   5.50\n",
              "철학과     12.256250  97.157210  3.436600   3.25\n",
              "한문학과    10.744643  96.694833  3.554725   3.25"
            ]
          },
          "metadata": {
            "tags": []
          },
          "execution_count": 199
        }
      ]
    },
    {
      "cell_type": "markdown",
      "metadata": {
        "id": "wHgv7iyx4t1D"
      },
      "source": [
        "### 시계열 자료\n",
        "* **pd.to_datetime()** : 날짜/시간을 나타내는 문자열을 자동으로 datetime 자료형으로 변환\n",
        "* **dt 접근자** : datetime 자료형 시리즈에는 dt 접근자가 있어 datetime 자료형이 가진 몇가지 유용한 속성과 메서드를 사용\n",
        "  +  year, month, day, weekday 등의 속성을 이용하면 년, 월, 일, 요일 정보 추출\n",
        "\n",
        "dt 접근자 | 내용 \n",
        "-------------------|------------------\n",
        ".dt.date         | YYYY-MM-DD(문자)\n",
        ".dt.year         | 연(4자리숫자)\n",
        ".dt.month        | 월(숫자)\n",
        ".dt.month_name() | 월(문자)\n",
        ".dt.day          | 일(숫자)\n",
        ".dt.time         | HH:MM:SS(문자)\n",
        ".dt.hour         | 시(숫자)\n",
        ".dt.minute       | 분(숫자)\n",
        ".dt.second       | 초(숫자)\n",
        ".dt.quarter       | 분기(숫자)\n",
        ".dt.day_name()  | 요일이름(문자)  \n",
        ".dt.weekday       | 요일숫자(0-월, 1-화) (=dayofweek)\n",
        ".dt.weekofyear    | 연 기준 몇주째(숫자) (=week)\n",
        ".dt.dayofyear     | 연 기준 몇일째(숫자)\n",
        ".dt.days_in_month | 월 일수(숫자) (=daysinmonth)"
      ]
    },
    {
      "cell_type": "code",
      "metadata": {
        "id": "7sfY4A4g5fWi",
        "colab": {
          "base_uri": "https://localhost:8080/",
          "height": 190
        },
        "outputId": "5cbb8cb1-d54d-4c69-a69b-127804dd0e5d"
      },
      "source": [
        "data = pd.read_csv('/content/drive/MyDrive/파이썬특강/python2021/data/air.csv', encoding='cp949')\n",
        "data.info()"
      ],
      "execution_count": 7,
      "outputs": [
        {
          "output_type": "error",
          "ename": "NameError",
          "evalue": "ignored",
          "traceback": [
            "\u001b[0;31m---------------------------------------------------------------------------\u001b[0m",
            "\u001b[0;31mNameError\u001b[0m                                 Traceback (most recent call last)",
            "\u001b[0;32m<ipython-input-7-3cd5bbef49c1>\u001b[0m in \u001b[0;36m<module>\u001b[0;34m()\u001b[0m\n\u001b[0;32m----> 1\u001b[0;31m \u001b[0mdata\u001b[0m \u001b[0;34m=\u001b[0m \u001b[0mpd\u001b[0m\u001b[0;34m.\u001b[0m\u001b[0mread_csv\u001b[0m\u001b[0;34m(\u001b[0m\u001b[0;34m'/content/drive/MyDrive/파이썬특강/python2021/data/air.csv'\u001b[0m\u001b[0;34m,\u001b[0m \u001b[0mencoding\u001b[0m\u001b[0;34m=\u001b[0m\u001b[0;34m'cp949'\u001b[0m\u001b[0;34m)\u001b[0m\u001b[0;34m\u001b[0m\u001b[0;34m\u001b[0m\u001b[0m\n\u001b[0m\u001b[1;32m      2\u001b[0m \u001b[0mdata\u001b[0m\u001b[0;34m.\u001b[0m\u001b[0minfo\u001b[0m\u001b[0;34m(\u001b[0m\u001b[0;34m)\u001b[0m\u001b[0;34m\u001b[0m\u001b[0;34m\u001b[0m\u001b[0m\n",
            "\u001b[0;31mNameError\u001b[0m: name 'pd' is not defined"
          ]
        }
      ]
    },
    {
      "cell_type": "code",
      "metadata": {
        "id": "XXq4ucab5wmr",
        "colab": {
          "base_uri": "https://localhost:8080/",
          "height": 203
        },
        "outputId": "d43acf37-2870-4ffb-ebd3-546f7c990308"
      },
      "source": [
        "data.head()"
      ],
      "execution_count": null,
      "outputs": [
        {
          "output_type": "execute_result",
          "data": {
            "text/html": [
              "<div>\n",
              "<style scoped>\n",
              "    .dataframe tbody tr th:only-of-type {\n",
              "        vertical-align: middle;\n",
              "    }\n",
              "\n",
              "    .dataframe tbody tr th {\n",
              "        vertical-align: top;\n",
              "    }\n",
              "\n",
              "    .dataframe thead th {\n",
              "        text-align: right;\n",
              "    }\n",
              "</style>\n",
              "<table border=\"1\" class=\"dataframe\">\n",
              "  <thead>\n",
              "    <tr style=\"text-align: right;\">\n",
              "      <th></th>\n",
              "      <th>날짜</th>\n",
              "      <th>PM10_1</th>\n",
              "      <th>PM10_2</th>\n",
              "      <th>PM25_1</th>\n",
              "      <th>PM25_2</th>\n",
              "      <th>O3_1</th>\n",
              "      <th>O3_2</th>\n",
              "      <th>NO2_1</th>\n",
              "      <th>NO2_2</th>\n",
              "      <th>CO_1</th>\n",
              "      <th>Co_2</th>\n",
              "      <th>SO2_1</th>\n",
              "      <th>SO2_2</th>\n",
              "    </tr>\n",
              "  </thead>\n",
              "  <tbody>\n",
              "    <tr>\n",
              "      <th>0</th>\n",
              "      <td>2021-04-25:15</td>\n",
              "      <td>좋음</td>\n",
              "      <td>23.0</td>\n",
              "      <td>좋음</td>\n",
              "      <td>10.0</td>\n",
              "      <td>보통</td>\n",
              "      <td>0.050</td>\n",
              "      <td>좋음</td>\n",
              "      <td>0.008</td>\n",
              "      <td>좋음</td>\n",
              "      <td>0.3</td>\n",
              "      <td>좋음</td>\n",
              "      <td>0.002</td>\n",
              "    </tr>\n",
              "    <tr>\n",
              "      <th>1</th>\n",
              "      <td>2021-04-25:14</td>\n",
              "      <td>좋음</td>\n",
              "      <td>24.0</td>\n",
              "      <td>좋음</td>\n",
              "      <td>10.0</td>\n",
              "      <td>보통</td>\n",
              "      <td>0.049</td>\n",
              "      <td>좋음</td>\n",
              "      <td>0.007</td>\n",
              "      <td>좋음</td>\n",
              "      <td>0.3</td>\n",
              "      <td>좋음</td>\n",
              "      <td>0.002</td>\n",
              "    </tr>\n",
              "    <tr>\n",
              "      <th>2</th>\n",
              "      <td>2021-04-25:13</td>\n",
              "      <td>좋음</td>\n",
              "      <td>27.0</td>\n",
              "      <td>좋음</td>\n",
              "      <td>8.0</td>\n",
              "      <td>보통</td>\n",
              "      <td>0.046</td>\n",
              "      <td>좋음</td>\n",
              "      <td>0.009</td>\n",
              "      <td>좋음</td>\n",
              "      <td>0.3</td>\n",
              "      <td>좋음</td>\n",
              "      <td>0.002</td>\n",
              "    </tr>\n",
              "    <tr>\n",
              "      <th>3</th>\n",
              "      <td>2021-04-25:12</td>\n",
              "      <td>좋음</td>\n",
              "      <td>23.0</td>\n",
              "      <td>좋음</td>\n",
              "      <td>9.0</td>\n",
              "      <td>보통</td>\n",
              "      <td>0.043</td>\n",
              "      <td>좋음</td>\n",
              "      <td>0.009</td>\n",
              "      <td>좋음</td>\n",
              "      <td>0.3</td>\n",
              "      <td>좋음</td>\n",
              "      <td>0.002</td>\n",
              "    </tr>\n",
              "    <tr>\n",
              "      <th>4</th>\n",
              "      <td>2021-04-25:11</td>\n",
              "      <td>좋음</td>\n",
              "      <td>27.0</td>\n",
              "      <td>좋음</td>\n",
              "      <td>12.0</td>\n",
              "      <td>보통</td>\n",
              "      <td>0.044</td>\n",
              "      <td>좋음</td>\n",
              "      <td>0.007</td>\n",
              "      <td>좋음</td>\n",
              "      <td>0.3</td>\n",
              "      <td>좋음</td>\n",
              "      <td>0.002</td>\n",
              "    </tr>\n",
              "  </tbody>\n",
              "</table>\n",
              "</div>"
            ],
            "text/plain": [
              "              날짜 PM10_1  PM10_2 PM25_1  PM25_2  ...  NO2_2  CO_1 Co_2  SO2_1  SO2_2\n",
              "0  2021-04-25:15     좋음    23.0     좋음    10.0  ...  0.008    좋음  0.3     좋음  0.002\n",
              "1  2021-04-25:14     좋음    24.0     좋음    10.0  ...  0.007    좋음  0.3     좋음  0.002\n",
              "2  2021-04-25:13     좋음    27.0     좋음     8.0  ...  0.009    좋음  0.3     좋음  0.002\n",
              "3  2021-04-25:12     좋음    23.0     좋음     9.0  ...  0.009    좋음  0.3     좋음  0.002\n",
              "4  2021-04-25:11     좋음    27.0     좋음    12.0  ...  0.007    좋음  0.3     좋음  0.002\n",
              "\n",
              "[5 rows x 13 columns]"
            ]
          },
          "metadata": {
            "tags": []
          },
          "execution_count": 201
        }
      ]
    },
    {
      "cell_type": "code",
      "metadata": {
        "colab": {
          "base_uri": "https://localhost:8080/",
          "height": 203
        },
        "id": "Worhnou-3SAy",
        "outputId": "1651e90c-ce8a-48f2-f72a-33f773e38482"
      },
      "source": [
        "data['day'] = data['날짜'].str[:-3]\n",
        "data.head()"
      ],
      "execution_count": null,
      "outputs": [
        {
          "output_type": "execute_result",
          "data": {
            "text/html": [
              "<div>\n",
              "<style scoped>\n",
              "    .dataframe tbody tr th:only-of-type {\n",
              "        vertical-align: middle;\n",
              "    }\n",
              "\n",
              "    .dataframe tbody tr th {\n",
              "        vertical-align: top;\n",
              "    }\n",
              "\n",
              "    .dataframe thead th {\n",
              "        text-align: right;\n",
              "    }\n",
              "</style>\n",
              "<table border=\"1\" class=\"dataframe\">\n",
              "  <thead>\n",
              "    <tr style=\"text-align: right;\">\n",
              "      <th></th>\n",
              "      <th>날짜</th>\n",
              "      <th>PM10_1</th>\n",
              "      <th>PM10_2</th>\n",
              "      <th>PM25_1</th>\n",
              "      <th>PM25_2</th>\n",
              "      <th>O3_1</th>\n",
              "      <th>O3_2</th>\n",
              "      <th>NO2_1</th>\n",
              "      <th>NO2_2</th>\n",
              "      <th>CO_1</th>\n",
              "      <th>Co_2</th>\n",
              "      <th>SO2_1</th>\n",
              "      <th>SO2_2</th>\n",
              "      <th>day</th>\n",
              "    </tr>\n",
              "  </thead>\n",
              "  <tbody>\n",
              "    <tr>\n",
              "      <th>0</th>\n",
              "      <td>2021-04-25:15</td>\n",
              "      <td>좋음</td>\n",
              "      <td>23.0</td>\n",
              "      <td>좋음</td>\n",
              "      <td>10.0</td>\n",
              "      <td>보통</td>\n",
              "      <td>0.050</td>\n",
              "      <td>좋음</td>\n",
              "      <td>0.008</td>\n",
              "      <td>좋음</td>\n",
              "      <td>0.3</td>\n",
              "      <td>좋음</td>\n",
              "      <td>0.002</td>\n",
              "      <td>2021-04-25</td>\n",
              "    </tr>\n",
              "    <tr>\n",
              "      <th>1</th>\n",
              "      <td>2021-04-25:14</td>\n",
              "      <td>좋음</td>\n",
              "      <td>24.0</td>\n",
              "      <td>좋음</td>\n",
              "      <td>10.0</td>\n",
              "      <td>보통</td>\n",
              "      <td>0.049</td>\n",
              "      <td>좋음</td>\n",
              "      <td>0.007</td>\n",
              "      <td>좋음</td>\n",
              "      <td>0.3</td>\n",
              "      <td>좋음</td>\n",
              "      <td>0.002</td>\n",
              "      <td>2021-04-25</td>\n",
              "    </tr>\n",
              "    <tr>\n",
              "      <th>2</th>\n",
              "      <td>2021-04-25:13</td>\n",
              "      <td>좋음</td>\n",
              "      <td>27.0</td>\n",
              "      <td>좋음</td>\n",
              "      <td>8.0</td>\n",
              "      <td>보통</td>\n",
              "      <td>0.046</td>\n",
              "      <td>좋음</td>\n",
              "      <td>0.009</td>\n",
              "      <td>좋음</td>\n",
              "      <td>0.3</td>\n",
              "      <td>좋음</td>\n",
              "      <td>0.002</td>\n",
              "      <td>2021-04-25</td>\n",
              "    </tr>\n",
              "    <tr>\n",
              "      <th>3</th>\n",
              "      <td>2021-04-25:12</td>\n",
              "      <td>좋음</td>\n",
              "      <td>23.0</td>\n",
              "      <td>좋음</td>\n",
              "      <td>9.0</td>\n",
              "      <td>보통</td>\n",
              "      <td>0.043</td>\n",
              "      <td>좋음</td>\n",
              "      <td>0.009</td>\n",
              "      <td>좋음</td>\n",
              "      <td>0.3</td>\n",
              "      <td>좋음</td>\n",
              "      <td>0.002</td>\n",
              "      <td>2021-04-25</td>\n",
              "    </tr>\n",
              "    <tr>\n",
              "      <th>4</th>\n",
              "      <td>2021-04-25:11</td>\n",
              "      <td>좋음</td>\n",
              "      <td>27.0</td>\n",
              "      <td>좋음</td>\n",
              "      <td>12.0</td>\n",
              "      <td>보통</td>\n",
              "      <td>0.044</td>\n",
              "      <td>좋음</td>\n",
              "      <td>0.007</td>\n",
              "      <td>좋음</td>\n",
              "      <td>0.3</td>\n",
              "      <td>좋음</td>\n",
              "      <td>0.002</td>\n",
              "      <td>2021-04-25</td>\n",
              "    </tr>\n",
              "  </tbody>\n",
              "</table>\n",
              "</div>"
            ],
            "text/plain": [
              "              날짜 PM10_1  PM10_2 PM25_1  ...  Co_2 SO2_1  SO2_2         day\n",
              "0  2021-04-25:15     좋음    23.0     좋음  ...   0.3    좋음  0.002  2021-04-25\n",
              "1  2021-04-25:14     좋음    24.0     좋음  ...   0.3    좋음  0.002  2021-04-25\n",
              "2  2021-04-25:13     좋음    27.0     좋음  ...   0.3    좋음  0.002  2021-04-25\n",
              "3  2021-04-25:12     좋음    23.0     좋음  ...   0.3    좋음  0.002  2021-04-25\n",
              "4  2021-04-25:11     좋음    27.0     좋음  ...   0.3    좋음  0.002  2021-04-25\n",
              "\n",
              "[5 rows x 14 columns]"
            ]
          },
          "metadata": {
            "tags": []
          },
          "execution_count": 204
        }
      ]
    },
    {
      "cell_type": "code",
      "metadata": {
        "colab": {
          "base_uri": "https://localhost:8080/"
        },
        "id": "_PiGd43m3iXH",
        "outputId": "60d4f305-67d1-4050-ee5e-6396b3c54ced"
      },
      "source": [
        "data.info()"
      ],
      "execution_count": null,
      "outputs": [
        {
          "output_type": "stream",
          "text": [
            "<class 'pandas.core.frame.DataFrame'>\n",
            "RangeIndex: 591 entries, 0 to 590\n",
            "Data columns (total 14 columns):\n",
            " #   Column  Non-Null Count  Dtype  \n",
            "---  ------  --------------  -----  \n",
            " 0   날짜      591 non-null    object \n",
            " 1   PM10_1  589 non-null    object \n",
            " 2   PM10_2  589 non-null    float64\n",
            " 3   PM25_1  589 non-null    object \n",
            " 4   PM25_2  589 non-null    float64\n",
            " 5   O3_1    589 non-null    object \n",
            " 6   O3_2    589 non-null    float64\n",
            " 7   NO2_1   589 non-null    object \n",
            " 8   NO2_2   589 non-null    float64\n",
            " 9   CO_1    589 non-null    object \n",
            " 10  Co_2    589 non-null    float64\n",
            " 11  SO2_1   589 non-null    object \n",
            " 12  SO2_2   589 non-null    float64\n",
            " 13  day     591 non-null    object \n",
            "dtypes: float64(6), object(8)\n",
            "memory usage: 64.8+ KB\n"
          ],
          "name": "stdout"
        }
      ]
    },
    {
      "cell_type": "code",
      "metadata": {
        "id": "S9Cx0RbM502p",
        "colab": {
          "base_uri": "https://localhost:8080/"
        },
        "outputId": "d0fe6927-07ab-44a4-af93-236bcbc1e39e"
      },
      "source": [
        "data['day'] = data['날짜'].str[:-3]\n",
        "data['day'] = pd.to_datetime(data['day'])\n",
        "data.info()"
      ],
      "execution_count": null,
      "outputs": [
        {
          "output_type": "stream",
          "text": [
            "<class 'pandas.core.frame.DataFrame'>\n",
            "RangeIndex: 591 entries, 0 to 590\n",
            "Data columns (total 14 columns):\n",
            " #   Column  Non-Null Count  Dtype         \n",
            "---  ------  --------------  -----         \n",
            " 0   날짜      591 non-null    object        \n",
            " 1   PM10_1  589 non-null    object        \n",
            " 2   PM10_2  589 non-null    float64       \n",
            " 3   PM25_1  589 non-null    object        \n",
            " 4   PM25_2  589 non-null    float64       \n",
            " 5   O3_1    589 non-null    object        \n",
            " 6   O3_2    589 non-null    float64       \n",
            " 7   NO2_1   589 non-null    object        \n",
            " 8   NO2_2   589 non-null    float64       \n",
            " 9   CO_1    589 non-null    object        \n",
            " 10  Co_2    589 non-null    float64       \n",
            " 11  SO2_1   589 non-null    object        \n",
            " 12  SO2_2   589 non-null    float64       \n",
            " 13  day     591 non-null    datetime64[ns]\n",
            "dtypes: datetime64[ns](1), float64(6), object(7)\n",
            "memory usage: 64.8+ KB\n"
          ],
          "name": "stdout"
        }
      ]
    },
    {
      "cell_type": "code",
      "metadata": {
        "id": "g_FOqiZJ6S1l",
        "colab": {
          "base_uri": "https://localhost:8080/",
          "height": 190
        },
        "outputId": "cc12e6c3-740a-4829-fc92-2bf06457e60f"
      },
      "source": [
        "data['요일'] = data['day'].dt.day_name()\n",
        "data.head()"
      ],
      "execution_count": 6,
      "outputs": [
        {
          "output_type": "error",
          "ename": "NameError",
          "evalue": "ignored",
          "traceback": [
            "\u001b[0;31m---------------------------------------------------------------------------\u001b[0m",
            "\u001b[0;31mNameError\u001b[0m                                 Traceback (most recent call last)",
            "\u001b[0;32m<ipython-input-6-bf97ede17760>\u001b[0m in \u001b[0;36m<module>\u001b[0;34m()\u001b[0m\n\u001b[0;32m----> 1\u001b[0;31m \u001b[0mdata\u001b[0m\u001b[0;34m[\u001b[0m\u001b[0;34m'요일'\u001b[0m\u001b[0;34m]\u001b[0m \u001b[0;34m=\u001b[0m \u001b[0mdata\u001b[0m\u001b[0;34m[\u001b[0m\u001b[0;34m'day'\u001b[0m\u001b[0;34m]\u001b[0m\u001b[0;34m.\u001b[0m\u001b[0mdt\u001b[0m\u001b[0;34m.\u001b[0m\u001b[0mday_name\u001b[0m\u001b[0;34m(\u001b[0m\u001b[0;34m)\u001b[0m\u001b[0;34m\u001b[0m\u001b[0;34m\u001b[0m\u001b[0m\n\u001b[0m\u001b[1;32m      2\u001b[0m \u001b[0mdata\u001b[0m\u001b[0;34m.\u001b[0m\u001b[0mhead\u001b[0m\u001b[0;34m(\u001b[0m\u001b[0;34m)\u001b[0m\u001b[0;34m\u001b[0m\u001b[0;34m\u001b[0m\u001b[0m\n",
            "\u001b[0;31mNameError\u001b[0m: name 'data' is not defined"
          ]
        }
      ]
    },
    {
      "cell_type": "markdown",
      "metadata": {
        "id": "AtwRNNPrsr4P"
      },
      "source": [
        "\n",
        "\n",
        "---\n",
        "## 해결문제 \n",
        "\n",
        "\n",
        "---\n",
        "\n",
        "대학알리미 사이트에서 표준분류 정보 검색을 통해 '컴퓨터'관련 학과를 검색한 정보를 받아서 자료를 분석하시오.\n",
        "\n",
        "1.'대학명','학과명', '지역', '설립유형', '표준분류계열(대)'\n",
        "\n",
        "2.부산지역의 국립 대학 추출\n"
      ]
    },
    {
      "cell_type": "code",
      "metadata": {
        "id": "uBfBQlmy5wRR",
        "colab": {
          "base_uri": "https://localhost:8080/",
          "height": 742
        },
        "outputId": "11257c37-39ee-4cfd-93f9-5de39aef16f8"
      },
      "source": [
        "data = pd.read_excel('/표준분류 정보 (1).xlsx')\n",
        "data"
      ],
      "execution_count": 35,
      "outputs": [
        {
          "output_type": "execute_result",
          "data": {
            "text/html": [
              "<div>\n",
              "<style scoped>\n",
              "    .dataframe tbody tr th:only-of-type {\n",
              "        vertical-align: middle;\n",
              "    }\n",
              "\n",
              "    .dataframe tbody tr th {\n",
              "        vertical-align: top;\n",
              "    }\n",
              "\n",
              "    .dataframe thead th {\n",
              "        text-align: right;\n",
              "    }\n",
              "</style>\n",
              "<table border=\"1\" class=\"dataframe\">\n",
              "  <thead>\n",
              "    <tr style=\"text-align: right;\">\n",
              "      <th></th>\n",
              "      <th>No</th>\n",
              "      <th>학과명</th>\n",
              "      <th>대학명</th>\n",
              "      <th>구분</th>\n",
              "      <th>학교종류</th>\n",
              "      <th>지역</th>\n",
              "      <th>설립유형</th>\n",
              "      <th>주야구분</th>\n",
              "      <th>학과특성</th>\n",
              "      <th>표준분류계열(대)</th>\n",
              "      <th>표준분류계열(중)</th>\n",
              "      <th>표준분류계열(소)</th>\n",
              "      <th>특성화학과</th>\n",
              "      <th>관심</th>\n",
              "    </tr>\n",
              "  </thead>\n",
              "  <tbody>\n",
              "    <tr>\n",
              "      <th>0</th>\n",
              "      <td>1</td>\n",
              "      <td>기계공학과</td>\n",
              "      <td>가천대학교</td>\n",
              "      <td>본교</td>\n",
              "      <td>대학교</td>\n",
              "      <td>경기</td>\n",
              "      <td>사립</td>\n",
              "      <td>주간</td>\n",
              "      <td>일반과정</td>\n",
              "      <td>공학</td>\n",
              "      <td>기계</td>\n",
              "      <td>기계공학</td>\n",
              "      <td>NaN</td>\n",
              "      <td>NaN</td>\n",
              "    </tr>\n",
              "    <tr>\n",
              "      <th>1</th>\n",
              "      <td>2</td>\n",
              "      <td>기계공학과</td>\n",
              "      <td>강릉원주대학교</td>\n",
              "      <td>제2캠퍼스</td>\n",
              "      <td>대학교</td>\n",
              "      <td>강원</td>\n",
              "      <td>국립</td>\n",
              "      <td>주간</td>\n",
              "      <td>일반과정</td>\n",
              "      <td>공학</td>\n",
              "      <td>기계</td>\n",
              "      <td>기계공학</td>\n",
              "      <td>NaN</td>\n",
              "      <td>NaN</td>\n",
              "    </tr>\n",
              "    <tr>\n",
              "      <th>2</th>\n",
              "      <td>3</td>\n",
              "      <td>기계의용·메카트로닉스·재료공학부</td>\n",
              "      <td>강원대학교</td>\n",
              "      <td>본교</td>\n",
              "      <td>대학교</td>\n",
              "      <td>강원</td>\n",
              "      <td>국립</td>\n",
              "      <td>주간</td>\n",
              "      <td>일반과정</td>\n",
              "      <td>공학</td>\n",
              "      <td>기계</td>\n",
              "      <td>기계공학</td>\n",
              "      <td>NaN</td>\n",
              "      <td>NaN</td>\n",
              "    </tr>\n",
              "    <tr>\n",
              "      <th>3</th>\n",
              "      <td>4</td>\n",
              "      <td>기계의용공학전공</td>\n",
              "      <td>강원대학교</td>\n",
              "      <td>본교</td>\n",
              "      <td>대학교</td>\n",
              "      <td>강원</td>\n",
              "      <td>국립</td>\n",
              "      <td>주간</td>\n",
              "      <td>일반과정</td>\n",
              "      <td>공학</td>\n",
              "      <td>기계</td>\n",
              "      <td>기계공학</td>\n",
              "      <td>NaN</td>\n",
              "      <td>NaN</td>\n",
              "    </tr>\n",
              "    <tr>\n",
              "      <th>4</th>\n",
              "      <td>5</td>\n",
              "      <td>기계공학전공</td>\n",
              "      <td>강원대학교</td>\n",
              "      <td>제2캠퍼스</td>\n",
              "      <td>대학교</td>\n",
              "      <td>강원</td>\n",
              "      <td>국립</td>\n",
              "      <td>주간</td>\n",
              "      <td>일반과정</td>\n",
              "      <td>공학</td>\n",
              "      <td>기계</td>\n",
              "      <td>기계공학</td>\n",
              "      <td>NaN</td>\n",
              "      <td>NaN</td>\n",
              "    </tr>\n",
              "    <tr>\n",
              "      <th>...</th>\n",
              "      <td>...</td>\n",
              "      <td>...</td>\n",
              "      <td>...</td>\n",
              "      <td>...</td>\n",
              "      <td>...</td>\n",
              "      <td>...</td>\n",
              "      <td>...</td>\n",
              "      <td>...</td>\n",
              "      <td>...</td>\n",
              "      <td>...</td>\n",
              "      <td>...</td>\n",
              "      <td>...</td>\n",
              "      <td>...</td>\n",
              "      <td>...</td>\n",
              "    </tr>\n",
              "    <tr>\n",
              "      <th>583</th>\n",
              "      <td>584</td>\n",
              "      <td>기계정보공학과</td>\n",
              "      <td>홍익대학교 대학원</td>\n",
              "      <td>제2캠퍼스</td>\n",
              "      <td>일반대학원</td>\n",
              "      <td>세종</td>\n",
              "      <td>사립</td>\n",
              "      <td>주간</td>\n",
              "      <td>일반과정</td>\n",
              "      <td>공학</td>\n",
              "      <td>기계</td>\n",
              "      <td>기계공학</td>\n",
              "      <td>NaN</td>\n",
              "      <td>NaN</td>\n",
              "    </tr>\n",
              "    <tr>\n",
              "      <th>584</th>\n",
              "      <td>585</td>\n",
              "      <td>기계공학과</td>\n",
              "      <td>홍익대학교 대학원</td>\n",
              "      <td>본교</td>\n",
              "      <td>일반대학원</td>\n",
              "      <td>서울</td>\n",
              "      <td>사립</td>\n",
              "      <td>주간</td>\n",
              "      <td>일반과정</td>\n",
              "      <td>공학</td>\n",
              "      <td>기계</td>\n",
              "      <td>기계공학</td>\n",
              "      <td>NaN</td>\n",
              "      <td>NaN</td>\n",
              "    </tr>\n",
              "    <tr>\n",
              "      <th>585</th>\n",
              "      <td>586</td>\n",
              "      <td>기계공학과(학연산협동과정)</td>\n",
              "      <td>홍익대학교 대학원</td>\n",
              "      <td>본교</td>\n",
              "      <td>일반대학원</td>\n",
              "      <td>서울</td>\n",
              "      <td>사립</td>\n",
              "      <td>주간</td>\n",
              "      <td>일반과정</td>\n",
              "      <td>공학</td>\n",
              "      <td>기계</td>\n",
              "      <td>기계공학</td>\n",
              "      <td>NaN</td>\n",
              "      <td>NaN</td>\n",
              "    </tr>\n",
              "    <tr>\n",
              "      <th>586</th>\n",
              "      <td>587</td>\n",
              "      <td>플랜트기계공학</td>\n",
              "      <td>과학기술연합대학원대학교</td>\n",
              "      <td>본교</td>\n",
              "      <td>전문대학원</td>\n",
              "      <td>대전</td>\n",
              "      <td>기타</td>\n",
              "      <td>주간</td>\n",
              "      <td>일반과정</td>\n",
              "      <td>공학</td>\n",
              "      <td>기계</td>\n",
              "      <td>기계공학</td>\n",
              "      <td>NaN</td>\n",
              "      <td>NaN</td>\n",
              "    </tr>\n",
              "    <tr>\n",
              "      <th>587</th>\n",
              "      <td>588</td>\n",
              "      <td>환경에너지기계공학</td>\n",
              "      <td>과학기술연합대학원대학교</td>\n",
              "      <td>본교</td>\n",
              "      <td>전문대학원</td>\n",
              "      <td>대전</td>\n",
              "      <td>기타</td>\n",
              "      <td>주간</td>\n",
              "      <td>일반과정</td>\n",
              "      <td>공학</td>\n",
              "      <td>기계</td>\n",
              "      <td>기계공학</td>\n",
              "      <td>NaN</td>\n",
              "      <td>NaN</td>\n",
              "    </tr>\n",
              "  </tbody>\n",
              "</table>\n",
              "<p>588 rows × 14 columns</p>\n",
              "</div>"
            ],
            "text/plain": [
              "      No                학과명           대학명     구분  ... 표준분류계열(중) 표준분류계열(소) 특성화학과  관심\n",
              "0      1              기계공학과         가천대학교     본교  ...        기계      기계공학   NaN NaN\n",
              "1      2              기계공학과       강릉원주대학교  제2캠퍼스  ...        기계      기계공학   NaN NaN\n",
              "2      3  기계의용·메카트로닉스·재료공학부         강원대학교     본교  ...        기계      기계공학   NaN NaN\n",
              "3      4           기계의용공학전공         강원대학교     본교  ...        기계      기계공학   NaN NaN\n",
              "4      5             기계공학전공         강원대학교  제2캠퍼스  ...        기계      기계공학   NaN NaN\n",
              "..   ...                ...           ...    ...  ...       ...       ...   ...  ..\n",
              "583  584            기계정보공학과     홍익대학교 대학원  제2캠퍼스  ...        기계      기계공학   NaN NaN\n",
              "584  585              기계공학과     홍익대학교 대학원     본교  ...        기계      기계공학   NaN NaN\n",
              "585  586     기계공학과(학연산협동과정)     홍익대학교 대학원     본교  ...        기계      기계공학   NaN NaN\n",
              "586  587            플랜트기계공학  과학기술연합대학원대학교     본교  ...        기계      기계공학   NaN NaN\n",
              "587  588          환경에너지기계공학  과학기술연합대학원대학교     본교  ...        기계      기계공학   NaN NaN\n",
              "\n",
              "[588 rows x 14 columns]"
            ]
          },
          "metadata": {
            "tags": []
          },
          "execution_count": 35
        }
      ]
    },
    {
      "cell_type": "code",
      "metadata": {
        "colab": {
          "base_uri": "https://localhost:8080/"
        },
        "id": "J8xmeEvz9QTe",
        "outputId": "ea54a9e4-6b4f-45ec-e064-cbaebc67dbc2"
      },
      "source": [
        "data1  = data[(data['지역']=='부산')&(data['설립유형']=='국립')]\n",
        "data1['대학명']"
      ],
      "execution_count": 43,
      "outputs": [
        {
          "output_type": "execute_result",
          "data": {
            "text/plain": [
              "86               부경대학교\n",
              "87               부경대학교\n",
              "88               부경대학교\n",
              "89               부경대학교\n",
              "90               부경대학교\n",
              "91               부경대학교\n",
              "92               부산대학교\n",
              "93               부산대학교\n",
              "179            한국해양대학교\n",
              "180            한국해양대학교\n",
              "450          부경대학교 대학원\n",
              "451          부경대학교 대학원\n",
              "452          부경대학교 대학원\n",
              "453          부경대학교 대학원\n",
              "454          부경대학교 대학원\n",
              "455          부경대학교 대학원\n",
              "456        부경대학교 산업대학원\n",
              "457        부경대학교 산업대학원\n",
              "458        부경대학교 산업대학원\n",
              "459        부경대학교 산업대학원\n",
              "460        부산대학교 일반대학원\n",
              "461        부산대학교 일반대학원\n",
              "462        부산대학교 일반대학원\n",
              "463        부산대학교 일반대학원\n",
              "464        부산대학교 일반대학원\n",
              "465        부산대학교 일반대학원\n",
              "466        부산대학교 일반대학원\n",
              "566        한국해양대학교 대학원\n",
              "567        한국해양대학교 대학원\n",
              "568    한국해양대학교 해사산업대학원\n",
              "Name: 대학명, dtype: object"
            ]
          },
          "metadata": {
            "tags": []
          },
          "execution_count": 43
        }
      ]
    }
  ]
}